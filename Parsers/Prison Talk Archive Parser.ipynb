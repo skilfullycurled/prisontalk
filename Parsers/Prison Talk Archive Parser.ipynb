{
 "cells": [
  {
   "cell_type": "code",
   "execution_count": 1,
   "metadata": {
    "collapsed": false
   },
   "outputs": [
    {
     "name": "stdout",
     "output_type": "stream",
     "text": [
      "imported\n"
     ]
    }
   ],
   "source": [
    "import os\n",
    "from bs4 import BeautifulSoup, NavigableString, Tag \n",
    "\n",
    "import collections\n",
    "import csv\n",
    "\n",
    "from datetime import datetime\n",
    "from pytz import timezone\n",
    "\n",
    "print \"imported\""
   ]
  },
  {
   "cell_type": "code",
   "execution_count": 1,
   "metadata": {
    "collapsed": false
   },
   "outputs": [],
   "source": [
    "files = os.listdir('illinois_general')\n",
    "\n",
    "total_posts = []\n",
    "\n",
    "for filename in files:\n",
    "    if filename != 'DS_Store':\n",
    "        \n",
    "        content = open('illinois_general/' + filename)\n",
    "        page = BeautifulSoup(content)\n",
    "        \n",
    "        posts = page.select('.post')\n",
    "        thread_id = filename.split('.')[0]\n",
    "\n",
    "        total_posts += parse_posts(posts, thread_id)\n",
    "        \n",
    "#         print len(posts)\n",
    "        \n",
    "    else:\n",
    "        print 'caught ya!'\n",
    "\n",
    "print(len(total_posts)) "
   ]
  },
  {
   "cell_type": "code",
   "execution_count": 6,
   "metadata": {
    "collapsed": false
   },
   "outputs": [],
   "source": [
    "with open('prison_talk_il.csv', 'w') as csvfile:\n",
    "    \n",
    "    fieldnames = ['date', 'post_id', 'user', 'post_body']\n",
    "    writer = csv.DictWriter(csvfile, fieldnames=fieldnames)\n",
    "    writer.writeheader()\n",
    "    \n",
    "    for post in total_posts:\n",
    "        writer.writerow(post)"
   ]
  },
  {
   "cell_type": "code",
   "execution_count": 2,
   "metadata": {
    "collapsed": false
   },
   "outputs": [],
   "source": [
    "def parse_posts(posts, thread_id):\n",
    "    \n",
    "    return [create_post(post, thread_id, num) for post, num in zip(posts, range(len(posts)))]"
   ]
  },
  {
   "cell_type": "code",
   "execution_count": 3,
   "metadata": {
    "collapsed": false
   },
   "outputs": [],
   "source": [
    "def create_post(el, thread_id, num):\n",
    "    \n",
    "    post = collections.OrderedDict()\n",
    "    post['date'] = el.select('.date')[0].text.replace('\\n', '').strip().replace(',', '')\n",
    "    post['post_id'] = thread_id + '-' + str(num + 1)\n",
    "    post['user'] = el.select('.username')[0].text.replace('\\n', '').strip().replace(',', '').encode('utf-8')\n",
    "    post['post_body'] = remove_extra_spaces(el).encode('utf-8')\n",
    "    \n",
    "    return post"
   ]
  },
  {
   "cell_type": "code",
   "execution_count": 4,
   "metadata": {
    "collapsed": false
   },
   "outputs": [],
   "source": [
    "def remove_extra_spaces(el):\n",
    "    \n",
    "    body = el.select('.posttext')[0].text.replace('\\n', '').strip().replace(',', '')\n",
    "    words = body.split(' ')\n",
    "    body = [word for word in words if word]\n",
    "    body = ' '.join(body)\n",
    "    \n",
    "    return body\n",
    "\n",
    "# remove_extra_spaces(raw_posts[2])"
   ]
  }
 ],
 "metadata": {
  "kernelspec": {
   "display_name": "Python 2",
   "language": "python",
   "name": "python2"
  },
  "language_info": {
   "codemirror_mode": {
    "name": "ipython",
    "version": 2
   },
   "file_extension": ".py",
   "mimetype": "text/x-python",
   "name": "python",
   "nbconvert_exporter": "python",
   "pygments_lexer": "ipython2",
   "version": "2.7.13"
  }
 },
 "nbformat": 4,
 "nbformat_minor": 0
}
