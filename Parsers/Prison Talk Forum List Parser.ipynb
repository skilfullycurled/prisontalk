{
 "cells": [
  {
   "cell_type": "markdown",
   "metadata": {},
   "source": [
    "## NOTES"
   ]
  },
  {
   "cell_type": "markdown",
   "metadata": {},
   "source": [
    "#### RESOURCES"
   ]
  },
  {
   "cell_type": "code",
   "execution_count": null,
   "metadata": {
    "collapsed": true
   },
   "outputs": [],
   "source": [
    "https://brennan.io/2016/03/02/logging-in-with-requests/\n",
    "https://kazuar.github.io/scraping-tutorial/"
   ]
  },
  {
   "cell_type": "code",
   "execution_count": 1,
   "metadata": {
    "collapsed": false
   },
   "outputs": [
    {
     "name": "stdout",
     "output_type": "stream",
     "text": [
      "'all done'\n"
     ]
    }
   ],
   "source": [
    "import json\n",
    "import pandas as pd\n",
    "import csv\n",
    "import datetime\n",
    "import collections\n",
    "import re\n",
    "\n",
    "from pprint import pprint\n",
    "\n",
    "from bs4 import BeautifulSoup, NavigableString, Tag\n",
    "import lxml.html\n",
    "import requests\n",
    "from string import capwords\n",
    "from titlecase import titlecase\n",
    "\n",
    "pprint('all done')"
   ]
  },
  {
   "cell_type": "markdown",
   "metadata": {},
   "source": [
    "#### COOKIES & LOGIN"
   ]
  },
  {
   "cell_type": "code",
   "execution_count": null,
   "metadata": {
    "collapsed": true
   },
   "outputs": [],
   "source": [
    "NOT NECCESSARY B/C THE FORUM LIST DOESN'T REQIURE LOGIN TO ACCESS\n",
    "However, see Prison Talk Scraper Login Notebook for process."
   ]
  },
  {
   "cell_type": "markdown",
   "metadata": {},
   "source": [
    "#### REQUEST WEBPAGE AND SAVE TO FILE"
   ]
  },
  {
   "cell_type": "code",
   "execution_count": 62,
   "metadata": {
    "collapsed": false
   },
   "outputs": [
    {
     "name": "stdout",
     "output_type": "stream",
     "text": [
      "200\n"
     ]
    }
   ],
   "source": [
    "s = requests.session()\n",
    "response = s.get('http://www.prisontalk.com/forums/')\n",
    "\n",
    "print response.status_code\n",
    "    \n",
    "if response.status_code == 200:\n",
    "\n",
    "    req_forum = BeautifulSoup(response.content, 'lxml')\n",
    "    \n",
    "    with open(\"examples/req_forums.html\", \"w\") as file:\n",
    "        file.write(str(req_forum))\n"
   ]
  },
  {
   "cell_type": "markdown",
   "metadata": {},
   "source": [
    "#### LOAD WEBPAGE FROM FILE"
   ]
  },
  {
   "cell_type": "code",
   "execution_count": 334,
   "metadata": {
    "collapsed": true
   },
   "outputs": [],
   "source": [
    "html_page = open('examples/req_forums.html', 'r').read()\n",
    "forum_page = BeautifulSoup(html_page, 'html.parser')"
   ]
  },
  {
   "cell_type": "markdown",
   "metadata": {},
   "source": [
    "#### REMOVE STRING LITERALS BECAUSE THEY'RE THE WORST"
   ]
  },
  {
   "cell_type": "code",
   "execution_count": 335,
   "metadata": {
    "collapsed": false
   },
   "outputs": [],
   "source": [
    "forum_page = str(forum_page)\n",
    "no_literals = forum_page_str.replace('\\n', '').replace('\\t', '').replace('\\r', '')\n",
    "forum_page = BeautifulSoup(no_literals, 'html.parser')"
   ]
  },
  {
   "cell_type": "markdown",
   "metadata": {},
   "source": [
    "#### RETREIVE ALL TOP LEVEL CATEGORY NAMES"
   ]
  },
  {
   "cell_type": "code",
   "execution_count": 336,
   "metadata": {
    "collapsed": false
   },
   "outputs": [
    {
     "name": "stdout",
     "output_type": "stream",
     "text": [
      "CATEGORY GROUPS: 14\n",
      "CATEGORY NAMES: 14\n",
      "\n",
      "1 WELCOME TO PTO\n",
      "2 911\n",
      "3 BECOMING INVOLVED\n",
      "4 RESOURCE CENTER\n",
      "5 MEDICAL & HEALTH\n",
      "6 FOR FAMILY & FRIENDS\n",
      "7 LOVING A...\n",
      "8 CAPITAL PUNISHMENT\n",
      "9 FOR \"OFFENDERS\"\n",
      "10 SHARING EXPERIENCES\n",
      "11 U.S. REGIONAL FORUMS\n",
      "12 AROUND THE WORLD\n",
      "13 PRISON PEN PALS\n",
      "14 BREAK TIME\n"
     ]
    }
   ],
   "source": [
    "# FIND ALL CATEGORY GROUPINGS (E.G. FORUM GROUPINGS)\n",
    "category_groups = forum_page.find_all(class_=\"tcat_alt_title\")\n",
    "\n",
    "# REMOVE NON FORUM CATEGORIES (MISC (ARCHIVE), WHAT'S GOING ON (NO FORUMS))\n",
    "category_groups = category_groups[:-2]\n",
    "\n",
    "# PARSE CATEGORY GROUP NAMES\n",
    "category_names = [category_group.a.get_text() for category_group in category_groups]\n",
    "\n",
    "# CONFIRM THEY ARE OF EQUAL NUMBER\n",
    "print 'CATEGORY GROUPS:', len(category_groups)\n",
    "print 'CATEGORY NAMES:', len(category_names)\n",
    "print ''\n",
    "for idx, category_name in enumerate(category_names):\n",
    "    print idx + 1, category_name"
   ]
  },
  {
   "cell_type": "markdown",
   "metadata": {},
   "source": [
    "#### RETRIEVE ALL TOP LEVEL CATEGORY GROUPS "
   ]
  },
  {
   "cell_type": "markdown",
   "metadata": {},
   "source": [
    "NOTE: THE NEXT TWO CAN PROBABLY BE COMBINED"
   ]
  },
  {
   "cell_type": "code",
   "execution_count": 357,
   "metadata": {
    "collapsed": false
   },
   "outputs": [
    {
     "name": "stdout",
     "output_type": "stream",
     "text": [
      "CATEGORY GROUPINGS: 14\n"
     ]
    }
   ],
   "source": [
    "forum_groups = forum_page.find_all(id=re.compile('collapseobj_forumbit'))\n",
    "\n",
    "# REMOVE NON FORUM CATEGORIES (MISC (ARCHIVE))\n",
    "forum_groups = forums_groups[:-1]\n",
    "\n",
    "print 'CATEGORY GROUPINGS:', len(forums_groups)\n",
    "\n",
    "for idx, forum_grouping in enumerate(forum_groups):\n",
    "        \n",
    "    # RETRIEVE ALL SUB TR TAGS BUT REMOVE FIRST ON WHICH IS COL NAMES\n",
    "    forums = forum_grouping.find_all('tr')[1:]\n",
    "        \n",
    "    # PUT IT BACK IN FORUM_GROUPS\n",
    "    forum_groups[idx] = forums"
   ]
  },
  {
   "cell_type": "markdown",
   "metadata": {},
   "source": [
    "#### REMOVE IRRELEVANT COLUMNS"
   ]
  },
  {
   "cell_type": "code",
   "execution_count": 380,
   "metadata": {
    "collapsed": false
   },
   "outputs": [],
   "source": [
    "groups = []\n",
    "\n",
    "for forum in forum_groups:\n",
    "    \n",
    "    for row in forum:\n",
    "    \n",
    "        cols = row.find_all('td')\n",
    "    \n",
    "        cols = [cols[1], cols[3], cols[4]]\n",
    "\n",
    "        groups.append(cols)"
   ]
  },
  {
   "cell_type": "markdown",
   "metadata": {},
   "source": [
    "#### EXTRACT FORUM LIST"
   ]
  },
  {
   "cell_type": "code",
   "execution_count": 382,
   "metadata": {
    "collapsed": false
   },
   "outputs": [],
   "source": [
    "forums = []\n",
    "\n",
    "for group in groups:\n",
    "    \n",
    "#     print len(group)\n",
    "    \n",
    "    forum_number = get_forum_number(group)\n",
    "    forum_name = get_forum_name(group)\n",
    "    num_threads = get_num_threads(group)\n",
    "    num_posts = get_num_posts(group)\n",
    "    desc = get_forum_desc(group)\n",
    "    \n",
    "    # FUTURE: CHANGE TO DICT FOR DICTWRITER LATER\n",
    "    forum = [forum_number, forum_name, num_threads, num_posts, desc ]\n",
    "    \n",
    "    forums.append(forum)\n",
    "    \n",
    "#     print 'NO:', forum_number\n",
    "#     print 'NAME:', forum_name\n",
    "#     print 'THREADS:', num_threads\n",
    "#     print 'POSTS:', num_posts \n",
    "#     print 'DESC:', desc\n",
    "#     print ''"
   ]
  },
  {
   "cell_type": "markdown",
   "metadata": {},
   "source": [
    "#### WRITE TO CSV (IN THE FUTURE CHANGE TO DICTWRITER)"
   ]
  },
  {
   "cell_type": "code",
   "execution_count": 385,
   "metadata": {
    "collapsed": false
   },
   "outputs": [],
   "source": [
    "fieldnames = ['number', 'name', 'threads', 'posts', 'description']\n",
    "\n",
    "with open('data/forum_list.csv', 'w') as csv_file:\n",
    "    \n",
    "    writer = csv.writer(csv_file, delimiter=',')\n",
    "    writer.writerow(fieldnames)\n",
    "    \n",
    "    for forum in forums:\n",
    "        writer.writerow(forum)"
   ]
  },
  {
   "cell_type": "code",
   "execution_count": 317,
   "metadata": {
    "collapsed": false
   },
   "outputs": [],
   "source": [
    "def get_forum_number(el):\n",
    "    \n",
    "    return el[0].a['href'].split('=')[-1]\n",
    "    \n",
    "# get_forum_number(groups[0]) # u'33'"
   ]
  },
  {
   "cell_type": "code",
   "execution_count": 243,
   "metadata": {
    "collapsed": false
   },
   "outputs": [
    {
     "data": {
      "text/plain": [
       "u'PTO News, Information & Events'"
      ]
     },
     "execution_count": 243,
     "metadata": {},
     "output_type": "execute_result"
    }
   ],
   "source": [
    "def get_forum_name(el):\n",
    "    \n",
    "    return el[0].a.get_text()\n",
    "\n",
    "get_forum_name(groups[0]) # u'PTO News, Information & Events'"
   ]
  },
  {
   "cell_type": "code",
   "execution_count": 258,
   "metadata": {
    "collapsed": false
   },
   "outputs": [
    {
     "data": {
      "text/plain": [
       "u\"What's new, and what is coming to our web community.  Administrative notices and information.\""
      ]
     },
     "execution_count": 258,
     "metadata": {},
     "output_type": "execute_result"
    }
   ],
   "source": [
    "def get_forum_desc(el):\n",
    "    \n",
    "    sub_els = el[0].find_all(class_='smallfont')\n",
    "    \n",
    "    return sub_els[0].get_text()\n",
    "\n",
    "# u\"What's new, and what is coming to our web community...\"\n",
    "get_forum_desc(groups[0])"
   ]
  },
  {
   "cell_type": "code",
   "execution_count": 248,
   "metadata": {
    "collapsed": false
   },
   "outputs": [
    {
     "data": {
      "text/plain": [
       "u'321'"
      ]
     },
     "execution_count": 248,
     "metadata": {},
     "output_type": "execute_result"
    }
   ],
   "source": [
    "def get_num_threads(el):\n",
    "    \n",
    "    return el[1].get_text()\n",
    "\n",
    "get_num_threads(groups[0]) # u'321'"
   ]
  },
  {
   "cell_type": "code",
   "execution_count": 249,
   "metadata": {
    "collapsed": false
   },
   "outputs": [
    {
     "data": {
      "text/plain": [
       "u'6,673'"
      ]
     },
     "execution_count": 249,
     "metadata": {},
     "output_type": "execute_result"
    }
   ],
   "source": [
    "def get_num_posts(el):\n",
    "    \n",
    "    return el[2].get_text()\n",
    "\n",
    "get_num_posts(groups[0]) # u'6,673'"
   ]
  },
  {
   "cell_type": "code",
   "execution_count": 156,
   "metadata": {
    "collapsed": false
   },
   "outputs": [
    {
     "data": {
      "text/plain": [
       "[None]"
      ]
     },
     "execution_count": 156,
     "metadata": {},
     "output_type": "execute_result"
    }
   ],
   "source": [
    "# THIS COULD BE MORE ELEGANT BY REMOVING ALL SCRIPTS AT THE BEGINNING BUT AH WELL FOR NOW\n",
    "[script.decompose() for script in forum_categories[0].find_all('script')]"
   ]
  },
  {
   "cell_type": "code",
   "execution_count": 85,
   "metadata": {
    "collapsed": false
   },
   "outputs": [],
   "source": [
    "scripts = forum_categories[0].find_all('script')\n",
    "scripts[0].decompose()"
   ]
  }
 ],
 "metadata": {
  "kernelspec": {
   "display_name": "Python 2",
   "language": "python",
   "name": "python2"
  },
  "language_info": {
   "codemirror_mode": {
    "name": "ipython",
    "version": 2
   },
   "file_extension": ".py",
   "mimetype": "text/x-python",
   "name": "python",
   "nbconvert_exporter": "python",
   "pygments_lexer": "ipython2",
   "version": "2.7.13"
  }
 },
 "nbformat": 4,
 "nbformat_minor": 0
}
