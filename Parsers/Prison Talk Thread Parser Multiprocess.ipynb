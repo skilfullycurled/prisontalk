{
 "cells": [
  {
   "cell_type": "markdown",
   "metadata": {
    "deletable": true,
    "editable": true
   },
   "source": [
    "## RESOURCES\n",
    "**2019-03-12 18:43:07**"
   ]
  },
  {
   "cell_type": "markdown",
   "metadata": {
    "deletable": true,
    "editable": true
   },
   "source": [
    "#### PACKAGES"
   ]
  },
  {
   "cell_type": "code",
   "execution_count": 258,
   "metadata": {
    "ExecuteTime": {
     "end_time": "2019-03-12T12:08:09.917392Z",
     "start_time": "2019-03-12T12:08:09.872964Z"
    },
    "code_folding": [],
    "collapsed": false,
    "deletable": true,
    "editable": true,
    "init_cell": true
   },
   "outputs": [],
   "source": [
    "# DATA\n",
    "import pandas as pd\n",
    "import numpy as np\n",
    "\n",
    "# READING/WRITING\n",
    "import json\n",
    "import csv\n",
    "\n",
    "# PARSING\n",
    "from bs4 import BeautifulSoup, NavigableString, Tag\n",
    "import lxml.html\n",
    "import requests\n",
    "from string import capwords\n",
    "from titlecase import titlecase\n",
    "\n",
    "# DATES/TIMES\n",
    "from datetime import datetime\n",
    "import pytz\n",
    "from pytz import timezone\n",
    "import time\n",
    "\n",
    "# SYSTEM\n",
    "import os, sys\n",
    "from pathlib2 import Path\n",
    "import ConfigParser\n",
    "\n",
    "# MULTIPROCESSING\n",
    "import multiprocessing\n",
    "import multiprocessing_logging\n",
    "import parmap\n",
    "import tqdm\n",
    "\n",
    "# ERROR HANDLING\n",
    "import errno\n",
    "import traceback\n",
    "\n",
    "# SINGLE PROCESS LOGGING\n",
    "import logging\n",
    "import smtplib\n",
    "from email.mime.multipart import MIMEMultipart\n",
    "from email.mime.text import MIMEText\n",
    "\n",
    "# MISC\n",
    "import collections\n",
    "import re\n",
    "import copy\n",
    "import random\n",
    "from pprint import pprint\n",
    "import uuid\n",
    "import time\n",
    "import os\n",
    "import shutil\n",
    "from pathlib2 import Path\n",
    "\n",
    "import sys\n",
    "import threading\n",
    "import traceback\n",
    "\n",
    "\n",
    "# print 'ALL MODULES LOADED'\n",
    "\n",
    "# # FOR TESTING INDIVIDUAL FUNCTIONS\n",
    "# test_path = '../data/samples/'\n",
    "# test_fid = '110/'\n",
    "# test_file = 'fid_110_tid_706047_pg_1.html'\n",
    "\n",
    "# html_page = load_html_file(test_path + test_fid + test_file)"
   ]
  },
  {
   "cell_type": "markdown",
   "metadata": {
    "deletable": true,
    "editable": true
   },
   "source": [
    "## FUNCTIONS"
   ]
  },
  {
   "cell_type": "markdown",
   "metadata": {
    "deletable": true,
    "editable": true
   },
   "source": [
    "### POSTS"
   ]
  },
  {
   "cell_type": "markdown",
   "metadata": {
    "deletable": true,
    "editable": true
   },
   "source": [
    "#### GET HTML POSTS"
   ]
  },
  {
   "cell_type": "code",
   "execution_count": 259,
   "metadata": {
    "ExecuteTime": {
     "end_time": "2019-03-12T12:08:10.056058Z",
     "start_time": "2019-03-12T12:08:10.048907Z"
    },
    "collapsed": false,
    "deletable": true,
    "editable": true,
    "init_cell": true
   },
   "outputs": [],
   "source": [
    "def get_html_posts(html_page):\n",
    "    \n",
    "    post_tables = html_page.find_all('table', {'id': re.compile('post')})\n",
    "    post_rows = [post_table.find_all('tr', recursive=False) for post_table in post_tables]\n",
    "    \n",
    "    return post_rows\n",
    "    \n",
    "# html_posts = get_html_posts(html_page)\n",
    "# len(html_posts)"
   ]
  },
  {
   "cell_type": "markdown",
   "metadata": {
    "deletable": true,
    "editable": true
   },
   "source": [
    "#### GET POST DATE AND TIME"
   ]
  },
  {
   "cell_type": "code",
   "execution_count": 260,
   "metadata": {
    "ExecuteTime": {
     "end_time": "2019-03-12T12:08:10.072234Z",
     "start_time": "2019-03-12T12:08:10.058624Z"
    },
    "collapsed": false,
    "deletable": true,
    "editable": true,
    "init_cell": true
   },
   "outputs": [],
   "source": [
    "def get_date_time(el):\n",
    "    \n",
    "    top_bar = el.find_all('td', {'class': 'thead'})[0]\n",
    "    top_bar_text = top_bar.get_text().encode('ascii', 'ignore').decode('ascii')\n",
    "    top_bar_text = top_bar_text.replace('#', '').replace(',', '')\n",
    "    \n",
    "    if ('Today' or 'Yesterday') in top_bar_text:\n",
    "        \n",
    "        date_time = top_bar_text\n",
    "            \n",
    "    else:\n",
    "\n",
    "        local_datetime = datetime.strptime(top_bar_text.split(' ', 1)[1], '%m-%d-%Y %I:%M %p')\n",
    "        date_time = convert_to_utc(local_datetime, 'US/Mountain')\n",
    "    \n",
    "#     return utc_datetime\n",
    "    return date_time\n",
    "\n",
    "# get_date_time(html_posts[0][0]) # '2005-01-07 11:17:00 UTC+0000'"
   ]
  },
  {
   "cell_type": "markdown",
   "metadata": {
    "deletable": true,
    "editable": true
   },
   "source": [
    "#### GET POST ID"
   ]
  },
  {
   "cell_type": "code",
   "execution_count": 261,
   "metadata": {
    "ExecuteTime": {
     "end_time": "2019-03-12T12:08:10.082208Z",
     "start_time": "2019-03-12T12:08:10.075443Z"
    },
    "collapsed": false,
    "deletable": true,
    "editable": true,
    "init_cell": true
   },
   "outputs": [],
   "source": [
    "def get_post_id(el):\n",
    "    \n",
    "    post_id_link = el.find_all('a', {'id': re.compile('postcount')})\n",
    "    pid = post_id_link[0]['id'].split('t')[-1]\n",
    "    \n",
    "    return pid\n",
    "\n",
    "# get_post_id(html_posts[0][0])"
   ]
  },
  {
   "cell_type": "markdown",
   "metadata": {
    "deletable": true,
    "editable": true
   },
   "source": [
    "#### GET POST NUM"
   ]
  },
  {
   "cell_type": "code",
   "execution_count": 262,
   "metadata": {
    "ExecuteTime": {
     "end_time": "2019-03-12T12:08:10.095673Z",
     "start_time": "2019-03-12T12:08:10.085232Z"
    },
    "collapsed": false,
    "deletable": true,
    "editable": true,
    "init_cell": true
   },
   "outputs": [],
   "source": [
    "def get_post_num(el):\n",
    "    \n",
    "    top_bar = el.find_all('td', {'class': 'thead'})[0]\n",
    "    top_bar_text = top_bar.get_text().encode('ascii', 'ignore').decode('ascii')\n",
    "    top_bar_text = top_bar_text.replace('#', '').replace(',', '')\n",
    "    \n",
    "    post_count = top_bar_text.split(' ', 1)[0]\n",
    "    \n",
    "    return post_count\n",
    "\n",
    "# get_post_num(html_posts[0][0]) #41"
   ]
  },
  {
   "cell_type": "markdown",
   "metadata": {
    "deletable": true,
    "editable": true
   },
   "source": [
    "#### GET POST TEXT"
   ]
  },
  {
   "cell_type": "code",
   "execution_count": 263,
   "metadata": {
    "ExecuteTime": {
     "end_time": "2019-03-12T12:08:10.110444Z",
     "start_time": "2019-03-12T12:08:10.098587Z"
    },
    "collapsed": false,
    "deletable": true,
    "editable": true,
    "init_cell": true
   },
   "outputs": [],
   "source": [
    "def get_post_text(el):\n",
    "    \n",
    "    post_msg_el = el.find_all('div', {'id': re.compile('post_message')})[0]\n",
    "    \n",
    "    try: \n",
    "        post_msg_el.div.decompose() # TO REMOVE QUOTE\n",
    "\n",
    "    except AttributeError:\n",
    "\n",
    "        pass # LET'S EVENTUALLY LOG SOMETHING HERE\n",
    "\n",
    "    msg_text = post_msg_el.get_text(\" \", strip=True)\n",
    "    \n",
    "    return msg_text\n",
    "\n",
    "# reg_trs = posts[0].find_all('tr', recursive=False)\n",
    "# quote_trs = posts[8].find_all('tr', recursive=False)\n",
    "# print 'NO QUOTE', '\\n', get_post_message(reg_trs[2]), '\\n' # \"Met a boy, because if he...with a womans heart.\"\n",
    "# print 'WITH QUOTE', '\\n', get_post_message(quote_trs[2]) # \"I am glad this information...which must be horrible\"\n",
    "# get_post_text(html_posts[0][2])"
   ]
  },
  {
   "cell_type": "markdown",
   "metadata": {
    "deletable": true,
    "editable": true
   },
   "source": [
    "#### GET FORUM INFO"
   ]
  },
  {
   "cell_type": "code",
   "execution_count": 264,
   "metadata": {
    "ExecuteTime": {
     "end_time": "2019-03-12T12:08:10.125917Z",
     "start_time": "2019-03-12T12:08:10.113859Z"
    },
    "code_folding": [],
    "collapsed": false,
    "deletable": true,
    "editable": true,
    "init_cell": true
   },
   "outputs": [],
   "source": [
    "def get_forum_id(file_path):\n",
    "    \n",
    "    file_name = file_path.split('/')[-1]\n",
    "    \n",
    "    return file_name.split('_')[1]\n",
    "\n",
    "def get_thread_id(file_path):\n",
    "    \n",
    "    file_name = file_path.split('/')[-1]\n",
    "    \n",
    "    return file_name.split('_')[3]\n",
    "\n",
    "def get_page_number(file_path):\n",
    "    \n",
    "    file_name = file_path.split('/')[-1]\n",
    "    \n",
    "    return file_name.split('_')[-1].split('.')[0]\n",
    "\n",
    "# file_path = '../examples/threads/parsing/1506/fid_1506_tid_97875_pg_4.html'\n",
    "# print 'FORUM:', get_forum_id(file_path), 'THREAD ID:', get_thread_id(file_path), 'PAGE:', get_page_number(file_path)"
   ]
  },
  {
   "cell_type": "markdown",
   "metadata": {
    "deletable": true,
    "editable": true
   },
   "source": [
    "#### GET POST INFO"
   ]
  },
  {
   "cell_type": "code",
   "execution_count": 265,
   "metadata": {
    "ExecuteTime": {
     "end_time": "2019-03-12T12:08:10.152772Z",
     "start_time": "2019-03-12T12:08:10.128558Z"
    },
    "code_folding": [],
    "collapsed": false,
    "deletable": true,
    "editable": true,
    "init_cell": true
   },
   "outputs": [],
   "source": [
    "def get_post_info(file_name, post_el):\n",
    "    \n",
    "    post = collections.OrderedDict()\n",
    "    \n",
    "    post['date'] = get_date_time(post_el[0])\n",
    "    \n",
    "    post['fid'] = get_forum_id(file_name)\n",
    "    post['tid'] = get_thread_id(file_name)\n",
    "    post['pg'] = get_page_number(file_name)\n",
    "    \n",
    "    post['pid'] = get_post_id(post_el[0])\n",
    "    post['post_num'] = get_post_num(post_el[0])\n",
    "    \n",
    "    post['user'] = get_user_name(post_el[1])\n",
    "    post['uid'] = get_user_id(post_el[1])\n",
    "\n",
    "    post['text'] = get_post_text(post_el[2])\n",
    "    \n",
    "    return post\n",
    "\n",
    "# thread_path = '../examples/threads/parsing/'\n",
    "# forum_id = '39/'\n",
    "# html_file = 'fid_39_tid_527690_pg_1.html'\n",
    "# html_page = load_html_file(thread_path + forum_id + html_file)\n",
    "\n",
    "\n",
    "# dir_path = '../examples/threads/parsing/39/'\n",
    "# file_name = 'fid_39_tid_527690_pg_1.html'\n",
    "# html_page = load_html_file(dir_path + file_name)\n",
    "# html_posts = get_html_posts(html_page)\n",
    "\n",
    "# post = get_post_info(file_name, html_posts[0])\n",
    "# posts = [get_post_info(html_file_path, html_post) for html_post in html_posts]\n",
    "\n",
    "# for key, val in post.items():\n",
    "#     print key + ':', val"
   ]
  },
  {
   "cell_type": "code",
   "execution_count": null,
   "metadata": {
    "collapsed": true,
    "deletable": true,
    "editable": true
   },
   "outputs": [],
   "source": []
  },
  {
   "cell_type": "markdown",
   "metadata": {
    "deletable": true,
    "editable": true
   },
   "source": [
    "#### CONVERT TO UTC"
   ]
  },
  {
   "cell_type": "code",
   "execution_count": 266,
   "metadata": {
    "ExecuteTime": {
     "end_time": "2019-03-12T12:08:10.165003Z",
     "start_time": "2019-03-12T12:08:10.155376Z"
    },
    "collapsed": false,
    "deletable": true,
    "editable": true,
    "init_cell": true
   },
   "outputs": [],
   "source": [
    "def convert_to_utc(local_time, local_tz, string=True):\n",
    "    \n",
    "    fmt = '%Y-%m-%d %H:%M:%S %Z%z'\n",
    "    utc = pytz.utc\n",
    "    local_timezone = timezone(local_tz)\n",
    "    \n",
    "    local_datetime = local_timezone.localize(local_time)\n",
    "    utc_datetime = local_datetime.astimezone(utc)\n",
    "    \n",
    "    if string:\n",
    "        utc_datetime = utc_datetime.strftime(fmt)\n",
    "    \n",
    "    return utc_datetime\n",
    "\n",
    "# local_datetime = datetime.strptime('02-17-2018 07:50 AM', '%m-%d-%Y %I:%M %p')\n",
    "# convert_to_utc(local_datetime, 'US/Mountain') # '2018-02-17 14:50:00 UTC+0000'"
   ]
  },
  {
   "cell_type": "markdown",
   "metadata": {
    "deletable": true,
    "editable": true
   },
   "source": [
    "### USER"
   ]
  },
  {
   "cell_type": "markdown",
   "metadata": {
    "deletable": true,
    "editable": true
   },
   "source": [
    "#### GET USERNAME"
   ]
  },
  {
   "cell_type": "code",
   "execution_count": 267,
   "metadata": {
    "ExecuteTime": {
     "end_time": "2019-03-12T12:08:10.173105Z",
     "start_time": "2019-03-12T12:08:10.167239Z"
    },
    "collapsed": false,
    "deletable": true,
    "editable": true,
    "init_cell": true
   },
   "outputs": [],
   "source": [
    "def get_user_name(el):\n",
    "\n",
    "    user_el = el.find_all('a', {'class': 'bigusername'})[0]\n",
    "    user_name = user_el.get_text()\n",
    "    \n",
    "    return user_name\n",
    "\n",
    "# user_name = get_user_name(trs[1])\n",
    "# print user_name # maytayah"
   ]
  },
  {
   "cell_type": "markdown",
   "metadata": {
    "deletable": true,
    "editable": true
   },
   "source": [
    "#### GET USER ID"
   ]
  },
  {
   "cell_type": "code",
   "execution_count": 268,
   "metadata": {
    "ExecuteTime": {
     "end_time": "2019-03-12T12:08:10.181111Z",
     "start_time": "2019-03-12T12:08:10.175584Z"
    },
    "collapsed": false,
    "deletable": true,
    "editable": true,
    "init_cell": true
   },
   "outputs": [],
   "source": [
    "def get_user_id(el):\n",
    "\n",
    "    user_el = el.find_all('a', {'class': 'bigusername'})[0]\n",
    "    user_id = user_el['href'].split('=')[-1]\n",
    "    \n",
    "    return user_id\n",
    "\n",
    "# user_id = get_user_id(trs[1])\n",
    "# print user_id # 380798"
   ]
  },
  {
   "cell_type": "markdown",
   "metadata": {
    "deletable": true,
    "editable": true
   },
   "source": [
    "#### GET USER ROLE"
   ]
  },
  {
   "cell_type": "code",
   "execution_count": 269,
   "metadata": {
    "ExecuteTime": {
     "end_time": "2019-03-12T12:08:10.199948Z",
     "start_time": "2019-03-12T12:08:10.183700Z"
    },
    "code_folding": [],
    "collapsed": false,
    "deletable": true,
    "editable": true,
    "init_cell": true
   },
   "outputs": [],
   "source": [
    "def get_user_role(el):\n",
    "    \n",
    "    user_roles = {'red': 'admin', 'blue': 'super', 'purple': 'site', 'darkgreen': 'mod', \n",
    "                  'magenta': 'leave', 'MediumTurquoise': 'card', 'black': 'user'}\n",
    "    \n",
    "    try:\n",
    "        user_el = el.find_all('a', {'class': 'bigusername'})[0]\n",
    "        # <a class=\"bigusername\" href=\"member.php?u=380798\"><font color=\"purple\"><b>maytayah</b></font></a>\n",
    "        color = user_el.font['color']\n",
    "    \n",
    "    # if user is simply 'registered' then it won't have <font> element\n",
    "    except TypeError as err:\n",
    "        \n",
    "        color = u'black'\n",
    "        \n",
    "    return user_roles[color]\n",
    "\n",
    "# # Administrator: red\n",
    "# # PTO Super Moderator: blue\n",
    "# # PTO Site Moderator: purple\n",
    "# # PTO Moderator: darkgreen\n",
    "# # Moderator On Leave: magenta\n",
    "# # PTO Card Swap Host: MediumTurquoise\n",
    "# # User: black\n",
    "\n",
    "# reg_trs = posts[0].find_all('tr', recursive=False)\n",
    "# mod_trs = posts[6].find_all('tr', recursive=False)\n",
    "\n",
    "# print 'USER ONE:', get_user_role(reg_trs[1]), '\\n', 'USER TWO:', get_user_role(mod_trs[1])"
   ]
  },
  {
   "cell_type": "markdown",
   "metadata": {
    "deletable": true,
    "editable": true
   },
   "source": [
    "#### GET USER ROLE DESCRIPTION"
   ]
  },
  {
   "cell_type": "code",
   "execution_count": 270,
   "metadata": {
    "ExecuteTime": {
     "end_time": "2019-03-12T12:08:10.208094Z",
     "start_time": "2019-03-12T12:08:10.202537Z"
    },
    "collapsed": false,
    "deletable": true,
    "editable": true,
    "init_cell": true
   },
   "outputs": [],
   "source": [
    "def get_user_role_desc(el):\n",
    "    \n",
    "    return el.find_all('div', {'class': 'smallfont'})[0].text\n",
    "\n",
    "# # WILL INCLUDE BANNED AND ACCOUNT CLOSED\n",
    "# reg_trs = posts[0].find_all('tr', recursive=False)\n",
    "# mod_trs = posts[6].find_all('tr', recursive=False)\n",
    "\n",
    "# print 'USER ONE:', get_user_role_desc(reg_trs[1]), '\\n', 'USER TWO:', get_user_role_desc(mod_trs[1])"
   ]
  },
  {
   "cell_type": "markdown",
   "metadata": {
    "deletable": true,
    "editable": true
   },
   "source": [
    "#### GET JOIN DATE"
   ]
  },
  {
   "cell_type": "code",
   "execution_count": 271,
   "metadata": {
    "ExecuteTime": {
     "end_time": "2019-03-12T12:08:10.217558Z",
     "start_time": "2019-03-12T12:08:10.210858Z"
    },
    "collapsed": false,
    "deletable": true,
    "editable": true,
    "init_cell": true
   },
   "outputs": [],
   "source": [
    "def get_join_date(el):\n",
    "    \n",
    "    text = el.find(text=re.compile('Join'))\n",
    "    \n",
    "    if text: \n",
    "        join_date = text.split(':')[1].strip()\n",
    "    else:\n",
    "        join_date = None\n",
    "    \n",
    "    return join_date\n",
    "    \n",
    "# print 'JOIN:', get_join_date(html_posts[30][1])"
   ]
  },
  {
   "cell_type": "markdown",
   "metadata": {
    "deletable": true,
    "editable": true
   },
   "source": [
    "#### GET LOCATION"
   ]
  },
  {
   "cell_type": "code",
   "execution_count": 272,
   "metadata": {
    "ExecuteTime": {
     "end_time": "2019-03-12T12:08:10.226813Z",
     "start_time": "2019-03-12T12:08:10.219984Z"
    },
    "collapsed": false,
    "deletable": true,
    "editable": true,
    "init_cell": true
   },
   "outputs": [],
   "source": [
    "def get_location(el):\n",
    "    \n",
    "    text = el.find(text=re.compile('Location'))\n",
    "    \n",
    "    if text:\n",
    "        location = text.split(':')[1].strip()\n",
    "    else:\n",
    "        location = None\n",
    "    \n",
    "    return location\n",
    "\n",
    "# print 'LOCATION:', get_location(html_posts[30][1])"
   ]
  },
  {
   "cell_type": "markdown",
   "metadata": {
    "deletable": true,
    "editable": true
   },
   "source": [
    "#### GET NUM POSTS"
   ]
  },
  {
   "cell_type": "code",
   "execution_count": 273,
   "metadata": {
    "ExecuteTime": {
     "end_time": "2019-03-12T12:08:10.236098Z",
     "start_time": "2019-03-12T12:08:10.229264Z"
    },
    "collapsed": false,
    "deletable": true,
    "editable": true,
    "init_cell": true
   },
   "outputs": [],
   "source": [
    "def get_num_posts(el):\n",
    "    \n",
    "    text = el.find(text=re.compile('Posts'))\n",
    "    \n",
    "    if text:\n",
    "        num_posts = text.split(':')[1].strip()\n",
    "    else:\n",
    "        num_posts = None\n",
    "    \n",
    "    return num_posts\n",
    "\n",
    "# print 'POSTS:', get_num_posts(html_posts[30][1])"
   ]
  },
  {
   "cell_type": "markdown",
   "metadata": {
    "deletable": true,
    "editable": true
   },
   "source": [
    "#### GET NUM THANKS"
   ]
  },
  {
   "cell_type": "code",
   "execution_count": 274,
   "metadata": {
    "ExecuteTime": {
     "end_time": "2019-03-12T12:08:10.245601Z",
     "start_time": "2019-03-12T12:08:10.238376Z"
    },
    "collapsed": false,
    "deletable": true,
    "editable": true,
    "init_cell": true
   },
   "outputs": [],
   "source": [
    "def get_num_thanks(el):\n",
    "    \n",
    "    text = el.find(text=re.compile('Thanks'))\n",
    "    \n",
    "    if text:\n",
    "        num_thanks = text.split(':')[1].strip()\n",
    "    else:\n",
    "        num_thanks = None\n",
    "        \n",
    "    return num_thanks\n",
    "\n",
    "# print 'THANKS:', get_num_thanks(html_posts[30][1])"
   ]
  },
  {
   "cell_type": "markdown",
   "metadata": {
    "deletable": true,
    "editable": true
   },
   "source": [
    "#### GET NUM THANKED"
   ]
  },
  {
   "cell_type": "code",
   "execution_count": 275,
   "metadata": {
    "ExecuteTime": {
     "end_time": "2019-03-12T12:08:10.260751Z",
     "start_time": "2019-03-12T12:08:10.248164Z"
    },
    "collapsed": false,
    "deletable": true,
    "editable": true,
    "init_cell": true
   },
   "outputs": [],
   "source": [
    "def get_num_thanked(el):\n",
    "        \n",
    "    text = el.find(text=re.compile('Thanked'))\n",
    "    \n",
    "    if text:\n",
    "        num_thanked = text.split(' ')[1].strip()\n",
    "    else:\n",
    "        num_thanked = None\n",
    "    \n",
    "    return num_thanked\n",
    "\n",
    "def get_num_posts_thanked(el):\n",
    "    \n",
    "    text = el.find(text=re.compile('Thanked'))\n",
    "    \n",
    "    if text:\n",
    "        num_posts_thanked = text.split(' ')[4].strip()\n",
    "    else:\n",
    "        num_posts_thanked = None\n",
    "    \n",
    "    return num_posts_thanked\n",
    "\n",
    "# print 'THANKED', get_num_thanked(html_posts[30][1]), 'TIMES IN', get_num_posts_thanked(html_posts[30][1]), 'POSTS'"
   ]
  },
  {
   "cell_type": "markdown",
   "metadata": {
    "deletable": true,
    "editable": true
   },
   "source": [
    "#### GET USER INFO"
   ]
  },
  {
   "cell_type": "code",
   "execution_count": 276,
   "metadata": {
    "ExecuteTime": {
     "end_time": "2019-03-12T12:08:10.276148Z",
     "start_time": "2019-03-12T12:08:10.263349Z"
    },
    "collapsed": false,
    "deletable": true,
    "editable": true,
    "init_cell": true
   },
   "outputs": [],
   "source": [
    "def get_user_info(el):\n",
    "    \n",
    "    user = collections.OrderedDict()\n",
    "    \n",
    "    user['user'] = get_user_name(el[1])\n",
    "    user['uid'] = get_user_id(el[1])\n",
    "    user['role'] = get_user_role(el[1])\n",
    "    user['role_desc'] = get_user_role_desc(el[1])\n",
    "    user['join_date'] = get_join_date(el[1])\n",
    "    user['location'] = get_location(el[1])\n",
    "    user['posts'] = get_num_posts(el[1])\n",
    "    user['thanks'] = get_num_thanks(el[1])\n",
    "    user['thanked'] = get_num_thanked(el[1])\n",
    "    user['posts_thanked'] = get_num_posts_thanked(el[1])\n",
    "    \n",
    "    return user"
   ]
  },
  {
   "cell_type": "code",
   "execution_count": 277,
   "metadata": {
    "ExecuteTime": {
     "end_time": "2019-03-12T12:08:10.282655Z",
     "start_time": "2019-03-12T12:08:10.278728Z"
    },
    "collapsed": false,
    "deletable": true,
    "editable": true,
    "init_cell": true
   },
   "outputs": [],
   "source": [
    "# html_page = load_html_file(dir_path + '/39/fid_39_tid_81190_pg_10.html')\n",
    "# html_posts = get_html_posts(html_page)\n",
    "# post_nums = [29, 30, 31]\n",
    "\n",
    "# for post_num in post_nums:    \n",
    "    \n",
    "#     user = get_user_info(html_posts[post_num])\n",
    "    \n",
    "#     for key, val in user.items():\n",
    "#         print key + ':', val\n",
    "#     print ''"
   ]
  },
  {
   "cell_type": "markdown",
   "metadata": {
    "deletable": true,
    "editable": true
   },
   "source": [
    "### THANK YOU'S"
   ]
  },
  {
   "cell_type": "markdown",
   "metadata": {
    "deletable": true,
    "editable": true
   },
   "source": [
    "#### GET HTML THANK YOUS"
   ]
  },
  {
   "cell_type": "code",
   "execution_count": 278,
   "metadata": {
    "ExecuteTime": {
     "end_time": "2019-03-12T12:08:10.290302Z",
     "start_time": "2019-03-12T12:08:10.285085Z"
    },
    "collapsed": false,
    "deletable": true,
    "editable": true,
    "init_cell": true
   },
   "outputs": [],
   "source": [
    "def get_html_thank_yous(html_page):\n",
    "        \n",
    "    return html_page.find_all(id=re.compile('post_thanks_box'))\n",
    "    \n",
    "# thanks_none = get_html_thank_yous(html_file_none)\n",
    "# thanks_many = get_html_thank_yous(html_file_many)\n",
    "# len(thanks_none), len(thanks_many)\n",
    "# thanks_yous = get_html_thank_yous(html_page)\n",
    "# len(thanks_yous)"
   ]
  },
  {
   "cell_type": "markdown",
   "metadata": {
    "deletable": true,
    "editable": true
   },
   "source": [
    "#### GET THANKS LINKS"
   ]
  },
  {
   "cell_type": "code",
   "execution_count": 279,
   "metadata": {
    "ExecuteTime": {
     "end_time": "2019-03-12T12:08:10.298207Z",
     "start_time": "2019-03-12T12:08:10.292901Z"
    },
    "collapsed": false,
    "deletable": true,
    "editable": true,
    "init_cell": true
   },
   "outputs": [],
   "source": [
    "def get_thanks_links(el):\n",
    "    \n",
    "    return el.find_all('a')\n",
    "\n",
    "# no_links = [get_thanks_links(thanks) for thanks in thanks_none]\n",
    "# links = [get_thanks_links(thanks) for thanks in thanks_many]\n",
    "\n",
    "# len(no_links), len(links)\n",
    "links = get_thanks_links"
   ]
  },
  {
   "cell_type": "markdown",
   "metadata": {
    "deletable": true,
    "editable": true
   },
   "source": [
    "#### GET THANKED POST ID"
   ]
  },
  {
   "cell_type": "code",
   "execution_count": 280,
   "metadata": {
    "ExecuteTime": {
     "end_time": "2019-03-12T12:08:10.305300Z",
     "start_time": "2019-03-12T12:08:10.300774Z"
    },
    "collapsed": false,
    "deletable": true,
    "editable": true,
    "init_cell": true
   },
   "outputs": [],
   "source": [
    "def get_thanked_post_id(el):\n",
    "    \n",
    "    return el['id'].split('_')[-1]\n",
    "\n",
    "# pid_none = get_thanked_post_id(thanks_none[0])\n",
    "# pid_many = get_thanked_post_id(thanks_many[0])\n",
    "# pid_none, pid_many"
   ]
  },
  {
   "cell_type": "markdown",
   "metadata": {
    "deletable": true,
    "editable": true
   },
   "source": [
    "#### GET DATE OF THANKS"
   ]
  },
  {
   "cell_type": "code",
   "execution_count": 281,
   "metadata": {
    "ExecuteTime": {
     "end_time": "2019-03-12T12:08:10.314876Z",
     "start_time": "2019-03-12T12:08:10.307999Z"
    },
    "collapsed": false,
    "deletable": true,
    "editable": true,
    "init_cell": true
   },
   "outputs": [],
   "source": [
    "def get_date_of_thanks(el):\n",
    "        # <a>...</a>(02-27-2015),</div>        \n",
    "    ascii_date = el.next_sibling\n",
    "    # u'\\xa0(05-13-2009),\n",
    "    decoded_date = ascii_date.encode('ascii', 'ignore').decode('ascii')\n",
    "    # (05-13-2009),\n",
    "    date_of_thanks = re.sub('[(),]', '', decoded_date)\n",
    "    \n",
    "    return date_of_thanks\n",
    "\n",
    "# get_date_of_thanks(links[0])"
   ]
  },
  {
   "cell_type": "markdown",
   "metadata": {
    "deletable": true,
    "editable": true
   },
   "source": [
    "#### GET THANKER USER ID"
   ]
  },
  {
   "cell_type": "code",
   "execution_count": 282,
   "metadata": {
    "ExecuteTime": {
     "end_time": "2019-03-12T12:08:10.321272Z",
     "start_time": "2019-03-12T12:08:10.317422Z"
    },
    "collapsed": false,
    "deletable": true,
    "editable": true,
    "init_cell": true
   },
   "outputs": [],
   "source": [
    "def get_thanker_user_id(el):\n",
    "    \n",
    "    return el['href'].split('=')[-1]\n",
    "\n",
    "# get_thanker_user_id(links[0])"
   ]
  },
  {
   "cell_type": "markdown",
   "metadata": {
    "deletable": true,
    "editable": true
   },
   "source": [
    "#### GET THANKER USER NAME"
   ]
  },
  {
   "cell_type": "code",
   "execution_count": 283,
   "metadata": {
    "ExecuteTime": {
     "end_time": "2019-03-12T12:08:10.327677Z",
     "start_time": "2019-03-12T12:08:10.323809Z"
    },
    "collapsed": false,
    "deletable": true,
    "editable": true,
    "init_cell": true
   },
   "outputs": [],
   "source": [
    "def get_thanker_user_name(el):\n",
    "    \n",
    "    return el.text\n",
    "\n",
    "# get_thanker_user_name(links[0])"
   ]
  },
  {
   "cell_type": "markdown",
   "metadata": {
    "deletable": true,
    "editable": true
   },
   "source": [
    "#### GET THANK YOU INFO"
   ]
  },
  {
   "cell_type": "code",
   "execution_count": 284,
   "metadata": {
    "ExecuteTime": {
     "end_time": "2019-03-12T12:08:10.341977Z",
     "start_time": "2019-03-12T12:08:10.333870Z"
    },
    "collapsed": true,
    "deletable": true,
    "editable": true,
    "init_cell": true
   },
   "outputs": [],
   "source": [
    "def get_thank_you_info(thanks_el, link_el):\n",
    "    \n",
    "    if link_el:\n",
    "    \n",
    "        thank_you = collections.OrderedDict()\n",
    "\n",
    "        thank_you['pid'] = get_thanked_post_id(thanks_el)\n",
    "        thank_you['date'] = get_date_of_thanks(link_el)\n",
    "        thank_you['from_uid'] = get_thanker_user_id(link_el)\n",
    "        thank_you['from_user'] = get_thanker_user_name(link_el)\n",
    "\n",
    "        return thank_you"
   ]
  },
  {
   "cell_type": "markdown",
   "metadata": {
    "deletable": true,
    "editable": true
   },
   "source": [
    "### FILE HANDLING"
   ]
  },
  {
   "cell_type": "markdown",
   "metadata": {
    "deletable": true,
    "editable": true
   },
   "source": [
    "#### GET FORUM DIRECTORIES"
   ]
  },
  {
   "cell_type": "code",
   "execution_count": 285,
   "metadata": {
    "ExecuteTime": {
     "end_time": "2019-03-12T12:08:10.362892Z",
     "start_time": "2019-03-12T12:08:10.355754Z"
    },
    "collapsed": false,
    "deletable": true,
    "editable": true,
    "init_cell": true
   },
   "outputs": [],
   "source": [
    "def get_forum_directories(dir_path, skip=[]):\n",
    "    \n",
    "    directories = [str(path) for path in Path(dir_path).iterdir() \n",
    "                   if (path.is_dir() and path.stem not in skip)]\n",
    "    \n",
    "    return directories\n",
    "\n",
    "# skip = ['logs', 'csv', 'error']\n",
    "# get_forum_directories('../examples/threads/parsing/', skip)"
   ]
  },
  {
   "cell_type": "code",
   "execution_count": 286,
   "metadata": {
    "ExecuteTime": {
     "end_time": "2019-03-12T12:08:10.376704Z",
     "start_time": "2019-03-12T12:08:10.369654Z"
    },
    "collapsed": false,
    "deletable": true,
    "editable": true,
    "init_cell": true
   },
   "outputs": [],
   "source": [
    "def get_forum_files(forum_path):\n",
    "    \n",
    "    thread_path = Path(forum_path)\n",
    "    all_files = [str(html_file) for html_file in thread_path.rglob('*.html')]\n",
    "    \n",
    "    return all_files\n",
    "\n",
    "\n",
    "# test_path = '../examples/threads/parsing/1506'\n",
    "# get_forum_files(test_path)"
   ]
  },
  {
   "cell_type": "markdown",
   "metadata": {
    "deletable": true,
    "editable": true
   },
   "source": [
    "#### GET FORUM FILE DICTS"
   ]
  },
  {
   "cell_type": "code",
   "execution_count": 287,
   "metadata": {
    "ExecuteTime": {
     "end_time": "2019-03-12T12:08:10.398452Z",
     "start_time": "2019-03-12T12:08:10.385673Z"
    },
    "collapsed": false,
    "deletable": true,
    "editable": true,
    "init_cell": true
   },
   "outputs": [],
   "source": [
    "def get_forum_file_dicts(forum_path, list_size):\n",
    "    \n",
    "    all_files = get_forum_files(forum_path)\n",
    "    \n",
    "    chunks = split_file_list(all_files, 3)\n",
    "    \n",
    "    forum_id = forum_path.split('/')[4]\n",
    "    \n",
    "    forum_file_dicts = [{'fid': forum_id, 'files': chunk} for chunk in chunks]\n",
    "\n",
    "    return forum_file_dicts\n",
    "\n",
    "# htmlpath = '../examples/threads/parsing/1506'\n",
    "# size = 3\n",
    "# forum_file_dicts = get_forum_file_dicts(htmlpath, size)\n",
    "# for forum_dict in forum_file_dicts:\n",
    "#     print forum_dict['fid'] + ':', len(forum_dict['files'])"
   ]
  },
  {
   "cell_type": "markdown",
   "metadata": {
    "deletable": true,
    "editable": true
   },
   "source": [
    "#### GET FORUM FILE DICT"
   ]
  },
  {
   "cell_type": "code",
   "execution_count": 288,
   "metadata": {
    "ExecuteTime": {
     "end_time": "2019-03-12T12:08:10.416561Z",
     "start_time": "2019-03-12T12:08:10.410733Z"
    },
    "collapsed": true,
    "deletable": true,
    "editable": true,
    "init_cell": true
   },
   "outputs": [],
   "source": [
    "def get_forum_file_dict(dir_path):\n",
    "    \n",
    "    thread_path = Path(dir_path)\n",
    "    forum_files = {'fid': thread_path.stem, 'files': [str(html_file) for html_file in thread_path.rglob('*.html')]}\n",
    "    \n",
    "    return forum_files"
   ]
  },
  {
   "cell_type": "markdown",
   "metadata": {
    "deletable": true,
    "editable": true
   },
   "source": [
    "#### LOAD HTML FILE"
   ]
  },
  {
   "cell_type": "code",
   "execution_count": 289,
   "metadata": {
    "ExecuteTime": {
     "end_time": "2019-03-12T12:08:10.428829Z",
     "start_time": "2019-03-12T12:08:10.419256Z"
    },
    "collapsed": false,
    "deletable": true,
    "editable": true,
    "init_cell": true
   },
   "outputs": [],
   "source": [
    "def load_html_file(file_path):\n",
    "    \n",
    "    html_page = open(file_path, 'r').read()\n",
    "    \n",
    "    posts_page = str(BeautifulSoup(html_page, 'html.parser'))\n",
    "    no_literals = posts_page.replace('\\n', '').replace('\\t', '').replace('\\r', '')\n",
    "    \n",
    "    return BeautifulSoup(no_literals, 'html.parser') \n",
    "    \n",
    "# thread_path = '../examples/threads/parsing/'\n",
    "# forum_id = '39/'\n",
    "# html_file = 'fid_39_tid_527690_pg_1.html'\n",
    "# html_page = load_html_file(thread_path + forum_id + html_file)"
   ]
  },
  {
   "cell_type": "markdown",
   "metadata": {
    "deletable": true,
    "editable": true
   },
   "source": [
    "#### CREATE LOGGER"
   ]
  },
  {
   "cell_type": "code",
   "execution_count": 290,
   "metadata": {
    "ExecuteTime": {
     "end_time": "2019-03-12T12:08:10.447675Z",
     "start_time": "2019-03-12T12:08:10.431281Z"
    },
    "collapsed": false,
    "deletable": true,
    "editable": true,
    "init_cell": true
   },
   "outputs": [],
   "source": [
    "def create_logger(file_path):\n",
    "\n",
    "    log_file = 'PT_' + datetime.strftime(datetime.today(), '%d_%m_%Y_%I_%M_%p') + '.log'\n",
    "    msgfmt = '%(asctime)s %(levelname)s: %(message)s'\n",
    "    datefmt= '%d/%m/%Y %I:%M:%S %p'\n",
    "    \n",
    "    reload(logging)\n",
    "    logging.basicConfig(filename=file_path + '/' + log_file, level=logging.INFO, format=msgfmt, datefmt=datefmt)\n",
    "    logging.Formatter.converter = time.gmtime # CHANGE TO UTC TIME\n",
    "    logger = logging.getLogger()\n",
    "    \n",
    "    return logger\n",
    "\n",
    "# logger = create_forum_logger('../examples/threads/parsing/logs')\n",
    "# html_file = '../examples/threads/parsing/39/fid_39_tid_81190_pg_10.html'.split('/')[-1]\n",
    "\n",
    "# try:\n",
    "#     1/0\n",
    "# except Exception as err:\n",
    "\n",
    "#     logger.error(html_file + ' - ' + err.__class__.__name__ + ': ' + str(err))\n",
    "#     print html_file + ' - ' + err.__class__.__name__ + ': ' + str(err)\n",
    "# # 25/08/2018 01:53:50 AM ERROR: fid_39_tid_81190_pg_10.html - ZeroDivisionError: integer division or modulo by zero"
   ]
  },
  {
   "cell_type": "markdown",
   "metadata": {
    "deletable": true,
    "editable": true
   },
   "source": [
    "#### CREATE MULTIPROCESSING LOGGER"
   ]
  },
  {
   "cell_type": "code",
   "execution_count": 291,
   "metadata": {
    "ExecuteTime": {
     "end_time": "2019-03-12T12:08:10.481898Z",
     "start_time": "2019-03-12T12:08:10.450658Z"
    },
    "collapsed": true,
    "deletable": true,
    "editable": true,
    "init_cell": true
   },
   "outputs": [],
   "source": [
    "def create_multiprocessing_logger(log_path, info_fname, error_fname='error.log', stream=True):\n",
    "\n",
    "    msg_fmt = '%(name)s %(asctime)s %(levelname)s: %(message)s'\n",
    "    date_fmt= '%d/%m/%Y %I:%M:%S %p'\n",
    "\n",
    "    logging.basicConfig(level=logging.INFO, format=msg_fmt, datefmt=date_fmt)\n",
    "    logging.Formatter.converter = time.gmtime # CHANGE TO UTC TIME\n",
    "\n",
    "    file_handler = logging.FileHandler(log_path + info_fname)\n",
    "    file_handler_formatter = logging.Formatter(fmt=msg_fmt, datefmt=date_fmt)\n",
    "    file_handler.setFormatter(file_handler_formatter)\n",
    "    file_handler.setLevel(logging.INFO)\n",
    "\n",
    "    error_handler = logging.FileHandler(log_path + error_fname)\n",
    "    error_handler_formatter = logging.Formatter(fmt=msg_fmt, datefmt=date_fmt)\n",
    "    error_handler.setFormatter(error_handler_formatter)\n",
    "    error_handler.setLevel(logging.ERROR)\n",
    "    \n",
    "    logger = logging.getLogger()\n",
    "    logger.handlers = []\n",
    "    logger.addHandler(error_handler)\n",
    "    logger.addHandler(file_handler)\n",
    "    \n",
    "    if stream:\n",
    "        stream_handler = logging.StreamHandler()\n",
    "        stream_handler_formatter = logging.Formatter(fmt=msg_fmt, datefmt=date_fmt)\n",
    "        stream_handler.setFormatter(stream_handler_formatter)\n",
    "        stream_handler.setLevel(logging.INFO)\n",
    "        logger.addHandler(stream_handler)\n",
    "        \n",
    "    return logger"
   ]
  },
  {
   "cell_type": "markdown",
   "metadata": {
    "deletable": true,
    "editable": true
   },
   "source": [
    "#### PRINT FINAL RESULTS"
   ]
  },
  {
   "cell_type": "code",
   "execution_count": 292,
   "metadata": {
    "ExecuteTime": {
     "end_time": "2019-03-12T12:08:10.500955Z",
     "start_time": "2019-03-12T12:08:10.485110Z"
    },
    "collapsed": true,
    "deletable": true,
    "editable": true,
    "init_cell": true
   },
   "outputs": [],
   "source": [
    "def print_final_results(thread_dfs, thread_data, headers, rows=5):\n",
    "    \n",
    "    for thread_df, data, header in zip(thread_dfs, thread_data, headers):\n",
    "        print 'ROWS:', len(data), 'COLS:', len(header['headers']), 'SHAPE:', thread_df.shape\n",
    "    print ''\n",
    "    \n",
    "    if rows:\n",
    "\n",
    "        print thread_dfs[0][['fid', 'tid', 'pg', 'pid']].head(rows)\n",
    "    #     print thread_dfs[0][['fid', 'tid', 'pg', 'pid']].tail(rows)\n",
    "\n",
    "        print ''\n",
    "        print thread_dfs[1][['user','join_date', 'location', 'posts']].head(rows)\n",
    "    #     print thread_dfs[1][['user','join_date', 'location', 'posts']].tail(rows)\n",
    "\n",
    "        print ''\n",
    "        print thread_dfs[2][['date', 'pid', 'from_uid', 'from_user']].head(rows)\n",
    "    #     print thread_dfs[2][['date', 'pid', 'from_uid', 'from_user']].tail(rows)\n",
    "        print ''"
   ]
  },
  {
   "cell_type": "markdown",
   "metadata": {
    "deletable": true,
    "editable": true
   },
   "source": [
    "#### CREATE CSV PAGE FILE PATH"
   ]
  },
  {
   "cell_type": "code",
   "execution_count": 293,
   "metadata": {
    "ExecuteTime": {
     "end_time": "2019-03-12T12:08:10.512342Z",
     "start_time": "2019-03-12T12:08:10.503656Z"
    },
    "collapsed": false,
    "deletable": true,
    "editable": true,
    "init_cell": true
   },
   "outputs": [],
   "source": [
    "def create_csv_page_file_path(html_file_path, out_path, data_type):\n",
    "    # '../examples/threads/parsing/1506/ --> fid_1506_tid_97875_pg_4 - .html' + '_type.csv = fid_1506_tid_97875_pg_4_posts.csv\n",
    "    file_name = html_file_path.split('/')[-1][:-5] + ('_' + data_type + '.csv')\n",
    "    csv_file_path = out_path + 'pages/' + data_type + '/' + file_name\n",
    "    \n",
    "    return csv_file_path\n",
    "\n",
    "# hfp = '../data/forums/1506/fid_1506_tid_97875_pg_4.html'\n",
    "# op = '../data/csv/'\n",
    "\n",
    "# hfp = '../examples/threads/parsing/forums/39/fid_39_tid_81190_pg_2.html'\n",
    "# op = '../examples/threads/parsing/csv/'\n",
    "# create_csv_page_file_path(hfp, op, 'posts') # '../examples/threads/parsing/csv/pages/posts/fid_39_tid_81190_pg_2_posts.csv'"
   ]
  },
  {
   "cell_type": "markdown",
   "metadata": {
    "deletable": true,
    "editable": true
   },
   "source": [
    "#### CREATE CSV FORUM FILE PATH"
   ]
  },
  {
   "cell_type": "code",
   "execution_count": 294,
   "metadata": {
    "ExecuteTime": {
     "end_time": "2019-03-12T12:08:10.523132Z",
     "start_time": "2019-03-12T12:08:10.515928Z"
    },
    "collapsed": false,
    "deletable": true,
    "editable": true,
    "init_cell": true
   },
   "outputs": [],
   "source": [
    "def create_csv_forum_file_path(csv_path, fid, data_type):\n",
    "    \n",
    "    csv_file = 'fid_' + fid + '_' + data_type + '.csv'\n",
    "    \n",
    "    return str(Path(csv_path).joinpath(data_type, csv_file))\n",
    "\n",
    "# create_csv_forum_file_path(csv_path, '48', 'posts') # '../data/csv/forums/posts/fid_48_posts.csv'"
   ]
  },
  {
   "cell_type": "markdown",
   "metadata": {
    "deletable": true,
    "editable": true
   },
   "source": [
    "#### WRITE PAGE DATA TO CSV"
   ]
  },
  {
   "cell_type": "code",
   "execution_count": 295,
   "metadata": {
    "ExecuteTime": {
     "end_time": "2019-03-12T12:08:10.550094Z",
     "start_time": "2019-03-12T12:08:10.525990Z"
    },
    "collapsed": false,
    "deletable": true,
    "editable": true,
    "init_cell": true
   },
   "outputs": [],
   "source": [
    "# MULTIPROCESSING VERSION\n",
    "def write_page_data_to_csv(thread_data, html_file_path, out_path):\n",
    "    \n",
    "    posts_headers = {'type': 'posts', 'headers': ['date', 'fid', 'tid', 'pg', 'post_num', 'pid', 'user', 'uid', 'text']}\n",
    "    users_headers = {'type': 'users', 'headers': ['user', 'uid', 'role', 'role_desc', 'join_date', 'location', 'posts', 'thanks', 'posts_thanked']}\n",
    "    thanks_headers = {'type': 'thanks', 'headers': ['date', 'pid', 'from_uid', 'from_user']}\n",
    "\n",
    "    headers = [posts_headers, users_headers, thanks_headers]\n",
    "    \n",
    "    for data, header in zip(thread_data, headers):\n",
    "\n",
    "        csv_file_path = create_csv_file_path(html_file_path, out_path, header['type'])\n",
    "\n",
    "        df = pd.DataFrame(data, columns=header['headers'])\n",
    "        df.to_csv(csv_file_path, index=False, encoding='utf-8')\n",
    "                    \n",
    "#         print file_path, df.shape\n",
    "\n",
    "# TODO: MAKE TESTS THAT DON'T RELY ON PREVIOUSLY RUN CODE\n",
    "\n",
    "# thread_data = [posts, users, thank_yous]\n",
    "# html_file_path = '../examples/threads/parsing/csv/pages/posts/fid_1506_tid_97875_pg_4_posts.csv'\n",
    "# out_path = '../examples/threads/parsing/'\n",
    "# write_page_data_to_csv(thread_data, headers, forum['fid'], out_path)"
   ]
  },
  {
   "cell_type": "markdown",
   "metadata": {
    "deletable": true,
    "editable": true
   },
   "source": [
    "#### WRITE FORUM DATA TO CSV"
   ]
  },
  {
   "cell_type": "code",
   "execution_count": 296,
   "metadata": {
    "ExecuteTime": {
     "end_time": "2019-03-12T12:08:10.563629Z",
     "start_time": "2019-03-12T12:08:10.552923Z"
    },
    "collapsed": true,
    "deletable": true,
    "editable": true,
    "init_cell": true
   },
   "outputs": [],
   "source": [
    "def write_forum_data_to_csv(unpacked_data, csv_path, fid, data_types):\n",
    "\n",
    "    for data_group, data_type in zip(unpacked_data, data_types):\n",
    "\n",
    "        csv_file_path = create_csv_forum_file_path(csv_path, fid, data_type)\n",
    "        \n",
    "        df = pd.DataFrame(data_group)\n",
    "        df.to_csv(csv_file_path, index=False, encoding='utf-8')\n",
    "\n",
    "# test_data = setup_test_data()\n",
    "\n",
    "# unpacked = test_data['unpacked']\n",
    "# csv_path = test_data['csv_path']\n",
    "# fid = test_data['fid']\n",
    "# data_types = test_data['data_types']\n",
    "\n",
    "# write_forum_data_to_csv(unpacked, csv_path, fid, data_types)\n",
    "# # fid_39_posts.csv (81 lines), fid_39_users.csv (81 lines), fid_39_thanks.csv (0 lines)"
   ]
  },
  {
   "cell_type": "markdown",
   "metadata": {
    "deletable": true,
    "editable": true
   },
   "source": [
    "#### REPORT TOTALS"
   ]
  },
  {
   "cell_type": "code",
   "execution_count": 297,
   "metadata": {
    "ExecuteTime": {
     "end_time": "2019-03-12T12:08:10.586011Z",
     "start_time": "2019-03-12T12:08:10.566249Z"
    },
    "code_folding": [],
    "collapsed": false,
    "deletable": true,
    "editable": true,
    "init_cell": true
   },
   "outputs": [],
   "source": [
    "# type(test_data['unpacked']) # List [[posts, users, thnaks]]\n",
    "# type(test_data['unpacked'][0]) # List [[{<post>},{<post>}], [{<user>},{<user>}], [{<thanks>},{<thanks>}]}\n",
    "# test_data['unpacked'][0][0] # Dict {<post>}\n",
    "\n",
    "def report_totals(unpacked):\n",
    "    # NOTE: THIS IS A POORLY EXTENSIBLE FUNCTION.\n",
    "    # IT IS A QUICK UNEXPECTED REWRITE\n",
    "        \n",
    "    num_files = len(unpacked)\n",
    "    header = 1\n",
    "    \n",
    "    total_posts = len(unpacked[0])\n",
    "    total_users = len(unpacked[1])\n",
    "    total_thanks = len(unpacked[2])\n",
    "        \n",
    "    csv_posts_lines = total_posts + header\n",
    "    csv_users_lines = total_users + header\n",
    "    csv_thanks_lines = total_thanks + header\n",
    "    \n",
    "    total_processed = total_posts + total_users + total_thanks\n",
    "    total_csv_lines = csv_posts_lines + csv_users_lines + csv_thanks_lines\n",
    "    \n",
    "    print total_processed, 'PROCESSED --->', '\\t', 'POSTS:', total_posts, '\\t', 'USERS', total_users, '\\t', 'THANKS:', total_thanks\n",
    "    print total_csv_lines, 'CSV LINES --->', '\\t', 'POSTS:', csv_posts_lines, '\\t', 'USERS', csv_users_lines, '\\t', 'THANKS:', csv_thanks_lines\n",
    "    \n",
    "    return collections.Counter({'posts': csv_posts_lines, 'users': csv_users_lines, 'thanks': csv_thanks_lines })\n",
    "\n",
    "# report_unpacked_totals(test_data['unpacked'])\n",
    "\n",
    "# # 160 PROCESSED ---> \tPOSTS: 80 \tUSERS 80 \tTHANKS: 0\n",
    "# # 163 CSV LINES ---> \tPOSTS: 81 \tUSERS 81 \tTHANKS: 1\n",
    "# # Counter({'posts': 81, 'thanks': 1, 'users': 81})"
   ]
  },
  {
   "cell_type": "markdown",
   "metadata": {
    "deletable": true,
    "editable": true
   },
   "source": [
    "#### SPLIT LIST"
   ]
  },
  {
   "cell_type": "code",
   "execution_count": 298,
   "metadata": {
    "ExecuteTime": {
     "end_time": "2019-03-12T12:08:10.593307Z",
     "start_time": "2019-03-12T12:08:10.588358Z"
    },
    "collapsed": false,
    "deletable": true,
    "editable": true,
    "init_cell": true
   },
   "outputs": [],
   "source": [
    "# https://stackoverflow.com/a/43106405/6023530\n",
    "\n",
    "def split_list(full_list, num_lists):\n",
    "    return [array.tolist() for array in np.array_split(full_list, num_lists)]\n",
    "      \n",
    "# first_names = ['Steve', 'Jane', 'Sara', 'Mary','Jack','Bob', 'Bily', 'Boni', 'Chris','Sori', 'Will', 'Won','Li']\n",
    "# split_list(first_names, 4)"
   ]
  },
  {
   "cell_type": "markdown",
   "metadata": {
    "deletable": true,
    "editable": true
   },
   "source": [
    "#### PARSE FILE PATH"
   ]
  },
  {
   "cell_type": "code",
   "execution_count": 299,
   "metadata": {
    "ExecuteTime": {
     "end_time": "2019-03-12T12:08:10.607853Z",
     "start_time": "2019-03-12T12:08:10.595672Z"
    },
    "collapsed": false,
    "deletable": true,
    "editable": true,
    "init_cell": true
   },
   "outputs": [],
   "source": [
    "def parse_file_path(file_path):\n",
    "            \n",
    "    file_info = {}\n",
    "\n",
    "    # fid_1506_tid_97875_pg_4.html'\n",
    "    file_name = file_path.split('/')[-1]\n",
    "    \n",
    "    # ['fid', '1506', 'tid', '97875', 'pg', '4']\n",
    "    file_path_data = file_name.split('.')[0].split('_')\n",
    "\n",
    "    file_info['name'] = file_name\n",
    "    file_info['fid'] = file_path_data[1]\n",
    "    file_info['tid'] = file_path_data[3]\n",
    "    file_info['pg'] = file_path_data[5]\n",
    "\n",
    "    return file_info\n",
    "\n",
    "# fp = '../examples/threads/parsing/csv/pages/posts/fid_1506_tid_97875_pg_4.html'\n",
    "# fn = 'fid_1506_tid_97875_pg_4.html'\n",
    "# file_info = parse_file_path(fn)\n",
    "# fid_1506_tid_97875_pg_4.html 1506 97875 4\n",
    "# print file_info['name'], file_info['fid'], file_info['tid'], file_info['pg'] "
   ]
  },
  {
   "cell_type": "markdown",
   "metadata": {
    "deletable": true,
    "editable": true
   },
   "source": [
    "#### SETUP TEST DATA"
   ]
  },
  {
   "cell_type": "code",
   "execution_count": 300,
   "metadata": {
    "ExecuteTime": {
     "end_time": "2019-03-12T12:08:10.625464Z",
     "start_time": "2019-03-12T12:08:10.610347Z"
    },
    "collapsed": false,
    "deletable": true,
    "editable": true,
    "init_cell": true,
    "run_control": {
     "marked": true
    }
   },
   "outputs": [],
   "source": [
    "# TODO: FIND TEST PAGES WITH THANK YOUS\n",
    "\n",
    "def setup_test_data(fid=39, page_list=[]):\n",
    "    \n",
    "    if not page_list:\n",
    "    \n",
    "        fid_39_tid_527690_pg_1 = '../examples/threads/parsing/39/fid_39_tid_527690_pg_1.html'\n",
    "        fid_39_tid_81190_pg_7 = '../examples/threads/parsing/39/fid_39_tid_81190_pg_7.html'\n",
    "        fid_39_tid_81190_pg_8 = '../examples/threads/parsing/39/fid_39_tid_81190_pg_8.html'\n",
    "        \n",
    "        page_list = [fid_39_tid_81190_pg_7, fid_39_tid_81190_pg_8, fid_39_tid_527690_pg_1]\n",
    "    \n",
    "    test_data = {}\n",
    "\n",
    "    test_data['fid'] = str(fid)\n",
    "    test_data['csv_path'] = '../data/csv/forums/'\n",
    "    \n",
    "    test_data['data_types'] = ['posts', 'users', 'thanks']\n",
    "        \n",
    "    test_data['parsed_pages'] = [parse_threads(page) for page in page_list]\n",
    "    test_data['unpacked'] = unpack_parsed_pages(test_data['parsed_pages'], test_data['data_types'])\n",
    "    \n",
    "    return test_data\n",
    "\n",
    "# test_data = setup_test_data()"
   ]
  },
  {
   "cell_type": "markdown",
   "metadata": {
    "deletable": true,
    "editable": true
   },
   "source": [
    "### PARSING"
   ]
  },
  {
   "cell_type": "markdown",
   "metadata": {
    "deletable": true,
    "editable": true
   },
   "source": [
    "#### UNPACK PARSED PAGES"
   ]
  },
  {
   "cell_type": "code",
   "execution_count": 301,
   "metadata": {
    "ExecuteTime": {
     "end_time": "2019-03-12T12:08:10.637074Z",
     "start_time": "2019-03-12T12:08:10.627914Z"
    },
    "collapsed": false,
    "deletable": true,
    "editable": true,
    "init_cell": true
   },
   "outputs": [],
   "source": [
    "def unpack_parsed_pages(pages, data_types):\n",
    "        \n",
    "    unpacked = []\n",
    "    \n",
    "    for data_type in data_types:\n",
    "\n",
    "        unpacked.append([data for page in pages if page for data in page[data_type]])\n",
    "        \n",
    "    return unpacked\n",
    "\n",
    "# # empty_lists = [{'posts': [], 'users': [], 'thanks': [] }]\n",
    "# empty_dict = [{}]\n",
    "# unpacked = unpack_parsed_pages(empty_lists, test_data['data_types'])\n",
    "\n",
    "# # # WHAT THIS ACCOMPLISHES\n",
    "# # posts = [post for parsed_page in parsed_pages for post in parsed_page['posts']]\n",
    "# # users = [user for parsed_page in parsed_pages for post in parsed_page['users']]\n",
    "# # thanks = [thank_you for parsed_page in parsed_pages for post in parsed_page['thanks']]"
   ]
  },
  {
   "cell_type": "code",
   "execution_count": 131,
   "metadata": {
    "ExecuteTime": {
     "end_time": "2019-03-11T13:39:38.629245Z",
     "start_time": "2019-03-11T13:39:38.625336Z"
    },
    "collapsed": false,
    "deletable": true,
    "editable": true
   },
   "outputs": [],
   "source": [
    "# html_file_path = '../examples/threads/parsing/39/fid_39_tid_527690_pg_1.html'\n",
    "# html_page = load_html_file(html_file_path)\n",
    "# html_posts = get_html_posts(html_page)\n",
    "# html_thank_yous = get_html_thank_yous(html_page)\n",
    "# post_thank_you_links = [get_thanks_links(html_thank_you) for html_thank_you in html_thank_yous]\n",
    "# posts = [get_post_info(html_file_path, html_post) for html_post in html_posts]"
   ]
  },
  {
   "cell_type": "markdown",
   "metadata": {
    "deletable": true,
    "editable": true
   },
   "source": [
    "#### CREATE LOG MESSAGES"
   ]
  },
  {
   "cell_type": "code",
   "execution_count": 302,
   "metadata": {
    "ExecuteTime": {
     "end_time": "2019-03-12T12:08:10.651901Z",
     "start_time": "2019-03-12T12:08:10.639616Z"
    },
    "collapsed": true,
    "deletable": true,
    "editable": true,
    "init_cell": true
   },
   "outputs": [],
   "source": [
    "def create_log_messages(html_file_path):\n",
    "    \n",
    "    fid, tid, pg = parse_file_path(html_file_path)\n",
    "    \n",
    "    file_info = '    FORUM: ' + fid + '    THREAD: ' + tid + '    PAGE: ' + pg + '    FILE: ' + file_name\n",
    "    \n",
    "    begin_msg ='PARSING' + file_info\n",
    "    end_msg = 'SUCCESS'\n",
    "        \n",
    "    info_msg = begin_msg + '\\tRESULT: ' + str(number) + ' * 2 = ' + str(doubled)\n",
    "    error_msg  = begin_msg + '\\tERR: NotDoubled ' + str(number) + ' <= ' + str(trigger)\n",
    "    critical_msg  = begin_msg + '\\tERR: '\n",
    "    \n",
    "    return {'info': info_msg, 'error': error_msg, 'critical': critical_msg}\n",
    "\n",
    "# file_name = create_dummy_file(2, 4, '36', 'html') # u'2_doubled_4_pw_36.html'\n",
    "# log_msgs = create_log_messages(2, 4, 1, '36', file_name)\n",
    "# print log_msgs['info'], '\\n', log_msgs['error'], '\\n', log_msgs['critical']"
   ]
  },
  {
   "cell_type": "code",
   "execution_count": 165,
   "metadata": {
    "ExecuteTime": {
     "end_time": "2019-03-11T14:28:14.031194Z",
     "start_time": "2019-03-11T14:28:13.989594Z"
    },
    "collapsed": false,
    "deletable": true,
    "editable": true
   },
   "outputs": [],
   "source": [
    "def log_report(file_info, thread_data={}, status=''):\n",
    "    \n",
    "#     print status\n",
    "    \n",
    "    fid = file_info['fid']\n",
    "    tid = file_info['tid']\n",
    "    pg = file_info['pg']\n",
    "    name = file_info['name']\n",
    "    \n",
    "    \n",
    "    parsing = ' FILE: ' + name + '    FORUM: ' + fid + '    THREAD: ' + tid + '    PAGE: ' + pg\n",
    "#     print parsing\n",
    "        \n",
    "    if thread_data:\n",
    "        \n",
    "        posts = len(thread_data['posts'])\n",
    "        users = len(thread_data['users'])\n",
    "        thanks = len(thread_data['thanks'])\n",
    "        \n",
    "        counts = ' FILE: ' + str(name) + '    POSTS: ' + str(posts) + '    USERS: ' + str(users) + '    THANKS: ' + str(thanks) \n",
    "\n",
    "        if status == 'parsing': # JUST STARTING\n",
    "            report = status.upper() + ':' + parsing\n",
    "        elif all([posts, users, thanks]): # IF ALL THREE HAVE CONTENT\n",
    "            status = 'success:'\n",
    "            report = status.upper() + ' PARSED' + counts\n",
    "        elif all([posts, users]) and not thanks: # IF POSTS AND USERS HAVE CONTENT BUT NO THANKS MOST LIKELY NOT A PROBLEM\n",
    "            status = 'warning:'\n",
    "            report = status.upper() + ' PARSED' + counts\n",
    "        elif any([posts, users]): # IF POSTS OR USERS IS EMPTY, HIGHLY LIKELY THERE IS A PROBLEM\n",
    "            status = 'caution:'\n",
    "            report = status.upper() + ' PARSED' + counts\n",
    "        elif status != 'parsing' and not all([posts, users, thanks]):\n",
    "            status = 'failure:'\n",
    "            report = status.upper() + ' PARSED' + counts\n",
    "        else:\n",
    "            report = 'REPORTING ERROR'\n",
    "    else:\n",
    "        report = 'FAILURE: NO THREAD DATA'\n",
    "\n",
    "#     print report\n",
    "\n",
    "    logger.info(report)"
   ]
  },
  {
   "cell_type": "markdown",
   "metadata": {
    "deletable": true,
    "editable": true
   },
   "source": [
    "#### PARSE THREADS"
   ]
  },
  {
   "cell_type": "code",
   "execution_count": 303,
   "metadata": {
    "ExecuteTime": {
     "end_time": "2019-03-12T12:08:10.690171Z",
     "start_time": "2019-03-12T12:08:10.654588Z"
    },
    "collapsed": false,
    "deletable": true,
    "editable": true,
    "init_cell": true
   },
   "outputs": [],
   "source": [
    "def parse_threads(html_file_path):\n",
    "        \n",
    "    thread_data = {'posts': [], 'users': [], 'thanks': []}\n",
    "        \n",
    "    try:\n",
    "        print 'trying', html_file_path\n",
    "        out_path = '../examples/threads/parsing/csv/'\n",
    "\n",
    "        html_page = load_html_file(html_file_path)\n",
    "        html_posts = get_html_posts(html_page)\n",
    "        html_thank_yous = get_html_thank_yous(html_page)\n",
    "        post_thank_you_links = [get_thanks_links(html_thank_you) for html_thank_you in html_thank_yous]\n",
    "        \n",
    "        \n",
    "        posts = [get_post_info(html_file_path, html_post) for html_post in html_posts]\n",
    "        \n",
    "        users = [get_user_info(html_post) for html_post in html_posts]\n",
    "        \n",
    "        thank_yous = [get_thank_you_info(html_thank_you, thank_you_link) \n",
    "                                    for html_thank_you, thank_you_links in zip(html_thank_yous, post_thank_you_links) \n",
    "                                    for thank_you_link in thank_you_links]\n",
    "                        \n",
    "        # TO-DO: CHANGE WRITE_PAGE_DATA_TO_CSV TO ACCEPT DICT AS BELOW\n",
    "        thread_data = [posts, users, thank_yous]\n",
    "        \n",
    "        # write_page_data_to_csv(thread_data, html_file_path, out_path)\n",
    "        \n",
    "#         fid, tid, pg = parse_file_path(html_file_path)\n",
    "        \n",
    "        thread_data = {'posts': posts, 'users': users, 'thanks': thank_yous}\n",
    "        \n",
    "#         return thread_data\n",
    "        \n",
    "    except Exception as err:\n",
    "        print 'excepting', html_file_path, error_path\n",
    "        shutil.copy2(html_file_path, error_path)\n",
    "        file_name = html_file_path.split('/')[-1]\n",
    "        logger.critical('CRITICAL ERROR PARSING FILE: ' + file_info['file_name'] + '    ERROR:'  + err.__class__.__name__ + ' ' + str(err))\n",
    "        \n",
    "        print file_name + ' - ' + err.__class__.__name__ + ': ' + str(err)\n",
    "\n",
    "\n",
    "    finally:\n",
    "        print 'returning thread_data', html_file_path\n",
    "        return thread_data\n",
    "        \n",
    "# TODO: RIGHT NOW THIS IS DEPENDANT ON THE HEADERS AND THREAD DATA BEING IN THE SAME ORDER.  SHOULD PROBABLY MAKE BOTH INTO DICTIONARIES\n",
    "# SO THAT A KEY CAN BE USED TO MATCH DATA TYPE TO DATA HEADER."
   ]
  },
  {
   "cell_type": "markdown",
   "metadata": {
    "deletable": true,
    "editable": true
   },
   "source": [
    "### PARSE DOCUMENTS"
   ]
  },
  {
   "cell_type": "markdown",
   "metadata": {
    "deletable": true,
    "editable": true
   },
   "source": [
    "#### SETUP VARIABLES"
   ]
  },
  {
   "cell_type": "code",
   "execution_count": null,
   "metadata": {
    "collapsed": true
   },
   "outputs": [],
   "source": [
    "crld = False\n",
    "mptest = False\n",
    "stream = False\n",
    "reset = True\n",
    "\n",
    "# WHICH SERVER/ACTION\n",
    "\n",
    "if crld:\n",
    "    log_path = '../examples/logs/'\n",
    "    error_path = '../examples/errors/'\n",
    "    csv_path = '../data/csv/forums/'\n",
    "    forums_dir = '../examples/threads/parsing/'\n",
    "    processors = 1\n",
    "elif mptest:\n",
    "    log_path = 'logs/'\n",
    "    error_path = 'errors/'\n",
    "    csv_path = 'data/csv/forums/'\n",
    "    forums_dir = 'tests/e3/'\n",
    "    processors = 10\n",
    "else:\n",
    "    log_path = '../data/forums/logs/'\n",
    "    error_path = '../data/forums/errors/'\n",
    "    csv_path = '../data/forums/csv/'\n",
    "    forums_dir = '../data/forums/'\n",
    "    processors = 32"
   ]
  },
  {
   "cell_type": "code",
   "execution_count": null,
   "metadata": {
    "ExecuteTime": {
     "end_time": "2019-03-11T13:39:38.782235Z",
     "start_time": "2019-03-11T20:39:38.694Z"
    },
    "collapsed": false,
    "deletable": true,
    "editable": true,
    "run_control": {
     "marked": false
    }
   },
   "outputs": [],
   "source": [
    "# TODO: Figure out how to procure the UTC for 'Today' and 'Yesterday'\n",
    "\n",
    "crld = True\n",
    "mptest = True\n",
    "stream = True\n",
    "debug = True\n",
    "\n",
    "# WHICH SERVER AM I ON\n",
    "\n",
    "if crld:\n",
    "    log_path = '../examples/logs/'\n",
    "    error_path = '../examples/errors/'\n",
    "    csv_path = '../data/csv/forums/'\n",
    "    forums_dir = '../examples/threads/parsing/'\n",
    "    processors = 1\n",
    "elif mptest:\n",
    "    log_path = 'logs/'\n",
    "    error_path = 'errors/'\n",
    "    csv_path = 'data/csv/forums/'\n",
    "    forums_dir = '../threads/parsing'\n",
    "    processors = 10\n",
    "\n",
    "# STREAM LOGS TO STDOUT OR USE PROGRESS BAR\n",
    "\n",
    "if stream:\n",
    "    pbar = False\n",
    "else:\n",
    "    pbar = True\n",
    "\n",
    "# RESET FOLDER CONDITIONS\n",
    "\n",
    "if reset:\n",
    "    # RESET LOGS\n",
    "    shutil.rmtree(log_path)\n",
    "    Path(log_path).mkdir()\n",
    "\n",
    "    # RESET ERRORS\n",
    "    shutil.rmtree(error_path)\n",
    "    Path(error_path).mkdir()\n",
    "\n",
    "parsed_forums = []\n",
    "totals = collections.Counter()\n",
    "\n",
    "# forums_dir = '../data/forums/'\n",
    "skip = ['logs', 'csv', 'errors']\n",
    "data_types = ['posts', 'users', 'thanks']\n",
    "\n",
    "forum_paths = get_forum_directories(forums_dir, skip)\n",
    "\n",
    "pages_by_forum = {forum_path.split('/')[-1] : [str(html_file) for html_file\n",
    "                                               in Path(forum_path).glob('*.html')]\n",
    "                                               for forum_path in forum_paths}"
   ]
  },
  {
   "cell_type": "markdown",
   "metadata": {
    "deletable": true,
    "editable": true
   },
   "source": [
    "#### RUN PARSER"
   ]
  },
  {
   "cell_type": "code",
   "execution_count": null,
   "metadata": {
    "ExecuteTime": {
     "end_time": "2019-03-11T13:39:38.782778Z",
     "start_time": "2019-03-11T20:39:38.706Z"
    },
    "collapsed": false,
    "deletable": true,
    "editable": true
   },
   "outputs": [],
   "source": [
    "for forum, html_file_paths in pages_by_forum.items():\n",
    "    \n",
    "    print 'FORUM:', forum, '\\n'\n",
    "    \n",
    "    print len(html_file_paths), 'HTML FILES WILL NOW BE PROCESSED BY', processors, 'PROCESSOR(S)', '\\n' # SHOULD BE 1679\n",
    "    \n",
    "    logger = create_multiprocessing_logger(log_path, 'fid_' + str(forum) + '.log', stream=stream)\n",
    "    multiprocessing_logging.install_mp_handler(logger)\n",
    "    \n",
    "    parsed_pages = parmap.map(parse_threads, html_file_paths, pm_processes=processors, pm_bar=pbar)\n",
    "    \n",
    "    unpacked = unpack_parsed_pages(parsed_pages, data_types)\n",
    "    \n",
    "    write_forum_data_to_csv(unpacked, csv_path, forum, data_types)\n",
    "            \n",
    "    totals += report_totals(unpacked)\n",
    "    \n",
    "    print ''\n",
    "    \n",
    "print 'TOTAL LENGTH OF CSV\\'s:', '\\t', 'POSTS:', totals['posts'], '\\t', 'USERS', totals['users'], '\\t', 'THANKS:', totals['thanks']\n",
    "# parsed_forums += [{'forum': forum, 'posts': posts, 'users': users, 'thanks': thanks}]"
   ]
  },
  {
   "cell_type": "markdown",
   "metadata": {
    "deletable": true,
    "editable": true
   },
   "source": [
    "## SCRATCH"
   ]
  },
  {
   "cell_type": "code",
   "execution_count": 164,
   "metadata": {
    "ExecuteTime": {
     "end_time": "2019-03-11T14:23:40.940164Z",
     "start_time": "2019-03-11T14:23:40.932438Z"
    },
    "code_folding": [],
    "collapsed": false
   },
   "outputs": [],
   "source": [
    "# finfo = {'fid': '39', 'tid': '81190', 'pg': '8', 'name': 'fid_39_tid_81190_pg_8.html'}\n",
    "\n",
    "# parsing = {'posts': [], 'users': [], 'thanks': []} # PARSING\n",
    "\n",
    "# all_data = {'posts': [0,1,2], 'users': [3,4,5,6,7], 'thanks': [3]} # SUCCESS\n",
    "# no_thx = {'posts': [0,1,2], 'users': [3,4,5,6,7], 'thanks': []} # WARNING\n",
    "\n",
    "# no_posts = {'posts': [], 'users': [3,4,5], 'thanks': [8,9]} # CAUTION\n",
    "# no_users = {'posts': [0,1,2], 'users': [], 'thanks': [8,9]} # CAUTION\n",
    "# no_posts_users = {'posts': [], 'users': [], 'thanks': [8,9]} # CAUTION\n",
    "\n",
    "# no_data = {'posts': [], 'users': [], 'thanks': []} # FAILURE\n",
    "\n",
    "# empty_data = {} # FAILURE NO DATA\n",
    "\n",
    "# test_data = [all_data, no_thx, no_posts, no_users, no_posts_users, no_data, empty_data]\n",
    "\n",
    "# log_report(finfo, thread_data=no_data, status='parsing')\n",
    "# options = [log_report(finfo, thread_data=test_datum, status='') for test_datum in test_data]\n",
    "\n",
    "# # PARSING: FILE: fid_39_tid_81190_pg_8.html    FORUM: 39    THREAD: 81190    PAGE: 8\n",
    "# # SUCCESS: PARSED FILE: fid_39_tid_81190_pg_8.html    POSTS: 3    USERS: 5    THANKS: 1\n",
    "# # WARNING: PARSED FILE: fid_39_tid_81190_pg_8.html    POSTS: 3    USERS: 5    THANKS: 0\n",
    "# # CAUTION: PARSED FILE: fid_39_tid_81190_pg_8.html    POSTS: 0    USERS: 3    THANKS: 2\n",
    "# # CAUTION: PARSED FILE: fid_39_tid_81190_pg_8.html    POSTS: 3    USERS: 0    THANKS: 2\n",
    "# # FAILURE: PARSED FILE: fid_39_tid_81190_pg_8.html    POSTS: 0    USERS: 0    THANKS: 2\n",
    "# # FAILURE: PARSED FILE: fid_39_tid_81190_pg_8.html    POSTS: 0    USERS: 0    THANKS: 0\n",
    "# # FAILURE: NO THREAD DATA\n",
    "\n",
    "./72 : 10496 file(s)\n",
    "./44 : 25957 file(s)"
   ]
  }
 ],
 "metadata": {
  "celltoolbar": "Initialization Cell",
  "kernelspec": {
   "display_name": "Python 2",
   "language": "python",
   "name": "python2"
  },
  "language_info": {
   "codemirror_mode": {
    "name": "ipython",
    "version": 2
   },
   "file_extension": ".py",
   "mimetype": "text/x-python",
   "name": "python",
   "nbconvert_exporter": "python",
   "pygments_lexer": "ipython2",
   "version": "2.7.13"
  },
  "toc": {
   "colors": {
    "hover_highlight": "#DAA520",
    "navigate_num": "#000000",
    "navigate_text": "#333333",
    "running_highlight": "#FF0000",
    "selected_highlight": "#FFD700",
    "sidebar_border": "#EEEEEE",
    "wrapper_background": "#FFFFFF"
   },
   "moveMenuLeft": true,
   "nav_menu": {
    "height": "154px",
    "width": "252px"
   },
   "navigate_menu": true,
   "number_sections": true,
   "sideBar": true,
   "threshold": 4,
   "toc_cell": false,
   "toc_position": {
    "height": "953px",
    "left": "0px",
    "right": "1544.55px",
    "top": "108px",
    "width": "241px"
   },
   "toc_section_display": "block",
   "toc_window_display": true,
   "widenNotebook": false
  }
 },
 "nbformat": 4,
 "nbformat_minor": 0
}
