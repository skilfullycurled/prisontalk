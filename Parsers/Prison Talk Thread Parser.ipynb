{
 "cells": [
  {
   "cell_type": "markdown",
   "metadata": {},
   "source": [
    "## NOTES"
   ]
  },
  {
   "cell_type": "markdown",
   "metadata": {},
   "source": [
    "#### RESOURCES"
   ]
  },
  {
   "cell_type": "code",
   "execution_count": null,
   "metadata": {
    "collapsed": true
   },
   "outputs": [],
   "source": [
    "https://brennan.io/2016/03/02/logging-in-with-requests/\n",
    "https://kazuar.github.io/scraping-tutorial/"
   ]
  },
  {
   "cell_type": "code",
   "execution_count": 3,
   "metadata": {
    "collapsed": false
   },
   "outputs": [
    {
     "name": "stdout",
     "output_type": "stream",
     "text": [
      "'all done'\n"
     ]
    }
   ],
   "source": [
    "import json\n",
    "import pandas as pd\n",
    "import csv\n",
    "import datetime\n",
    "import collections\n",
    "import re\n",
    "import copy\n",
    "\n",
    "from pprint import pprint\n",
    "\n",
    "from bs4 import BeautifulSoup, NavigableString, Tag\n",
    "import lxml.html\n",
    "import requests\n",
    "from string import capwords\n",
    "from titlecase import titlecase\n",
    "\n",
    "pprint('all done')"
   ]
  },
  {
   "cell_type": "markdown",
   "metadata": {},
   "source": [
    "#### COOKIES & LOGIN"
   ]
  },
  {
   "cell_type": "code",
   "execution_count": null,
   "metadata": {
    "collapsed": true
   },
   "outputs": [],
   "source": [
    "NOT NECCESSARY B/C THE FORUM LIST DOESN'T REQIURE LOGIN TO ACCESS\n",
    "However, see Prison Talk Scraper Login Notebook for process."
   ]
  },
  {
   "cell_type": "code",
   "execution_count": null,
   "metadata": {
    "collapsed": true
   },
   "outputs": [],
   "source": [
    "domain = 'www.prisontalk.com'\n",
    "\n",
    "headers =   {\n",
    "                'Host': domain,\n",
    "                'User-Agent': 'Mozilla/5.0 (Macintosh; Intel Mac OS X 10.7; rv:44.0) Gecko/20100101 Firefox/44.0',\n",
    "                'Accept': 'text/html,application/xhtml+xml,application/xml;q=0.9,*/*;q=0.8',\n",
    "                'Accept-Language': 'en-US,en;q=0.5',\n",
    "                'Accept-Encoding': 'gzip, deflate',\n",
    "                'DNT': '1',\n",
    "                'Connection': 'keep-alive'\n",
    "            }"
   ]
  },
  {
   "cell_type": "code",
   "execution_count": null,
   "metadata": {
    "collapsed": true
   },
   "outputs": [],
   "source": [
    "username = 'YOUR USERNAME'\n",
    "password = 'YOUR PASSWORD'\n",
    "\n",
    "login_form = {\n",
    "                'vb_login_username': username, \n",
    "                'vb_login_password': password,\n",
    "                'do': 'login',\n",
    "                'url': '/forums/memberlist.php', \n",
    "                'vb_login_md5password': '',\n",
    "                'vb_login_md5password_utf': '',\n",
    "                's': '',\n",
    "                'securitytoken': 'guest'\n",
    "             }\n",
    "\n",
    "# login_form"
   ]
  },
  {
   "cell_type": "code",
   "execution_count": null,
   "metadata": {
    "collapsed": true
   },
   "outputs": [],
   "source": [
    "prison_talk = BeautifulSoup(response.content, 'lxml')"
   ]
  },
  {
   "cell_type": "code",
   "execution_count": null,
   "metadata": {
    "collapsed": true
   },
   "outputs": [],
   "source": [
    "login_url = 'http://www.prisontalk.com/forums/login.php?do=login'\n",
    "\n",
    "s.post(login_url, data=form)\n",
    "\n",
    "s = requests.session()\n",
    "response = s.get(login_url, headers=headers)\n",
    "print response.status_code"
   ]
  },
  {
   "cell_type": "code",
   "execution_count": null,
   "metadata": {
    "collapsed": true
   },
   "outputs": [],
   "source": [
    "login_form = get_login_form(login_page, 'YOUR USERNAME', 'YOUR PASSWORD')\n",
    "login_form\n",
    "logged_in = s.post(login_url, data=login_form, headers=headers)\n",
    "logged_in.status_code"
   ]
  },
  {
   "cell_type": "code",
   "execution_count": null,
   "metadata": {
    "collapsed": true
   },
   "outputs": [],
   "source": [
    "success_page = BeautifulSoup(logged_in.content)\n",
    "bool(success_page.find_all(string=re.compile('Redirecting')))"
   ]
  },
  {
   "cell_type": "markdown",
   "metadata": {},
   "source": [
    "#### REQUEST WEBPAGE AND SAVE TO FILE"
   ]
  },
  {
   "cell_type": "code",
   "execution_count": 18,
   "metadata": {
    "collapsed": false
   },
   "outputs": [
    {
     "data": {
      "text/plain": [
       "'http://prisontalk.com/forums/forumdisplay.php?f=38&order=DESC&sort=posts&pp=100&page=1'"
      ]
     },
     "execution_count": 18,
     "metadata": {},
     "output_type": "execute_result"
    }
   ],
   "source": [
    "forum = 38\n",
    "order = 'DESC'\n",
    "sort = 'posts'\n",
    "pages_per = '100'\n",
    "page = 1\n",
    "\n",
    "forum_url = 'http://prisontalk.com/forums/forumdisplay.php?'+ \\\n",
    "                                            'f='+str(forum)+ \\\n",
    "                                            '&order='+order+ \\\n",
    "                                            '&sort='+sort+ \\\n",
    "                                            '&pp='+pages_per+ \\\n",
    "                                            '&page='+str(page)\n",
    "forum_url"
   ]
  },
  {
   "cell_type": "code",
   "execution_count": 20,
   "metadata": {
    "collapsed": false
   },
   "outputs": [
    {
     "name": "stdout",
     "output_type": "stream",
     "text": [
      "200\n"
     ]
    }
   ],
   "source": [
    "s = requests.session()\n",
    "response = s.get(forum_url)\n",
    "\n",
    "print response.status_code\n",
    "    \n",
    "if response.status_code == 200:\n",
    "\n",
    "    thread_list = BeautifulSoup(response.content, 'lxml')\n",
    "    \n",
    "    with open(\"examples/thread_list.html\", \"w\") as file:\n",
    "        file.write(str(thread_list))"
   ]
  },
  {
   "cell_type": "markdown",
   "metadata": {},
   "source": [
    "#### LOAD WEBPAGE FROM FILE & REMOVE STRING LITERALS (THEY'RE THEY WORST)"
   ]
  },
  {
   "cell_type": "code",
   "execution_count": 59,
   "metadata": {
    "collapsed": false
   },
   "outputs": [],
   "source": [
    "threads = 'thread_list'\n",
    "threads_w_subforums = 'thread_list_w_sub_forums'\n",
    "\n",
    "html_page = open('examples/' + threads_w_subforums + '.html', 'r').read()\n",
    "thread_page = BeautifulSoup(html_page, 'html.parser')\n",
    "thread_page = str(thread_page)\n",
    "no_literals = thread_page.replace('\\n', '').replace('\\t', '').replace('\\r', '')\n",
    "\n",
    "\n",
    "thread_page = BeautifulSoup(no_literals, 'html.parser')#skip u'html PUBLIC \"-//W3C//"
   ]
  },
  {
   "cell_type": "code",
   "execution_count": 45,
   "metadata": {
    "collapsed": false
   },
   "outputs": [
    {
     "data": {
      "text/plain": [
       "bs4.BeautifulSoup"
      ]
     },
     "execution_count": 45,
     "metadata": {},
     "output_type": "execute_result"
    }
   ],
   "source": [
    "type(thread_page)"
   ]
  },
  {
   "cell_type": "markdown",
   "metadata": {},
   "source": [
    "#### EXTRACT NAV FOR NUMBER OF PAGES"
   ]
  },
  {
   "cell_type": "code",
   "execution_count": 108,
   "metadata": {
    "collapsed": false
   },
   "outputs": [
    {
     "data": {
      "text/plain": [
       "u'444'"
      ]
     },
     "execution_count": 108,
     "metadata": {},
     "output_type": "execute_result"
    }
   ],
   "source": [
    "# NOTE: THIS DOES NOT ASSUME EVERY THREAD PAGE WILL HAVE >100 THREADS\n",
    "\n",
    "def get_num_thread_pages(el):\n",
    "    \n",
    "    try:\n",
    "    \n",
    "        # THERE IS A TOP AND BOTTOM NAV SO WE'LL JUST TAKE THE TOP\n",
    "        nav = el.find_all('div', {'class':'pagenav'})[0]\n",
    "        page_x_of_y = nav.find_all('td', {'class':'vbmenu_control'})[0]\n",
    "        num_pages = page_x_of_y.text.split(' ')[-1]\n",
    "        \n",
    "    except IndexError as er:\n",
    "        \n",
    "        num_pages = 1\n",
    "    \n",
    "    return num_pages\n",
    "\n",
    "get_num_thread_pages(thread_page)  #263"
   ]
  },
  {
   "cell_type": "markdown",
   "metadata": {},
   "source": [
    "#### EXTRACT ALL THREADS, THEN REMOVE 'DIVIDER'"
   ]
  },
  {
   "cell_type": "code",
   "execution_count": 61,
   "metadata": {
    "collapsed": false
   },
   "outputs": [
    {
     "data": {
      "text/plain": [
       "35"
      ]
     },
     "execution_count": 61,
     "metadata": {},
     "output_type": "execute_result"
    }
   ],
   "source": [
    "def get_threads(el):\n",
    "    \n",
    "    thread = copy.copy(el)\n",
    "    \n",
    "    posts = thread.find_all(id=re.compile('threadbits_forum'))\n",
    "    \n",
    "    # NEED TO REMOVE DIVIDER BETWEEN STICKY POSTS AND REGULAR\n",
    "    posts[0].find_all('td', {'class' : 'thead'})[0].parent.decompose()\n",
    "    \n",
    "    return posts[0]\n",
    "\n",
    "threads = get_threads(thread_page)\n",
    "len(threads) # 103"
   ]
  },
  {
   "cell_type": "markdown",
   "metadata": {},
   "source": [
    "#### EXTRACT INFO FROM LISTING OF POSTS"
   ]
  },
  {
   "cell_type": "code",
   "execution_count": 62,
   "metadata": {
    "collapsed": false
   },
   "outputs": [
    {
     "data": {
      "text/plain": [
       "35"
      ]
     },
     "execution_count": 62,
     "metadata": {},
     "output_type": "execute_result"
    }
   ],
   "source": [
    "def clean_threads(threads):\n",
    "    \n",
    "    data = []\n",
    "    \n",
    "    idx = 0\n",
    "\n",
    "    for thread in threads:\n",
    "        \n",
    "        cols = thread.find_all('td')\n",
    "        \n",
    "        cols = [cols[2], cols[4], cols[5]]\n",
    "            \n",
    "        data.append(cols)\n",
    "\n",
    "        idx += 1\n",
    "    \n",
    "    return data\n",
    "\n",
    "cleaned_threads = clean_threads(threads)\n",
    "len(cleaned_threads)"
   ]
  },
  {
   "cell_type": "code",
   "execution_count": 105,
   "metadata": {
    "collapsed": false
   },
   "outputs": [],
   "source": [
    "def get_thread_data(cleaned):\n",
    "    \n",
    "    rows = []\n",
    "    \n",
    "    for el in cleaned:\n",
    "        \n",
    "                \n",
    "        thread_id = get_thread_id(el)\n",
    "        thread_title = get_thread_title(el)\n",
    "        \n",
    "        try:\n",
    "\n",
    "            num_thread_replies = get_thread_replies(el)\n",
    "            num_thread_views = get_thread_views(el)\n",
    "\n",
    "            row = [thread_id, thread_title, num_thread_replies, num_thread_views]\n",
    "\n",
    "            rows.append(row)\n",
    "\n",
    "    #         print 'ID:', thread_id\n",
    "    #         print 'TITLE:', thread_title\n",
    "    #         print 'REPLIES:', num_thread_replies\n",
    "    #         print 'VIEWS:', num_thread_views\n",
    "    #         print ''\n",
    "    \n",
    "        except Exception as e:\n",
    "            \n",
    "            print thread_id + ':', thread_title\n",
    "        \n",
    "    return rows\n",
    "\n",
    "# # [[u'708682', u'LASO Chit Chat 2018', u'47', u'307'],\n",
    "# #  [u'548317', u'***Thread Titles:  All members please read***', u'2', u'453']]\n",
    "# data = get_thread_data(cleaned_threads)  \n",
    "# print len(data)\n",
    "# data[10:13]"
   ]
  },
  {
   "cell_type": "code",
   "execution_count": 64,
   "metadata": {
    "collapsed": false
   },
   "outputs": [
    {
     "data": {
      "text/plain": [
       "u'708682'"
      ]
     },
     "execution_count": 64,
     "metadata": {},
     "output_type": "execute_result"
    }
   ],
   "source": [
    "def get_thread_id(el):\n",
    "    \n",
    "    # u'showthread.php?s=59e...01&t=32294'\n",
    "    return el[0].a['href'].split('=')[-1]\n",
    "\n",
    "get_thread_id(cleaned_threads[0]) # u'32294'"
   ]
  },
  {
   "cell_type": "code",
   "execution_count": 95,
   "metadata": {
    "collapsed": false
   },
   "outputs": [
    {
     "data": {
      "text/plain": [
       "u'Some tips on prison \"etiquette\".'"
      ]
     },
     "execution_count": 95,
     "metadata": {},
     "output_type": "execute_result"
    }
   ],
   "source": [
    "def get_thread_title(el):\n",
    "    \n",
    "    text = el[0].find_all(id=re.compile('thread_title'))[0].text\n",
    "    # <a href=\"show... id=\"thread_title_708682\"...\">LASO Chit Chat 2018</a>\n",
    "    return text\n",
    "\n",
    "get_thread_title(cleaned_threads[2]) # u'Some tips on prison \"etiquette\".'"
   ]
  },
  {
   "cell_type": "code",
   "execution_count": 96,
   "metadata": {
    "collapsed": false
   },
   "outputs": [
    {
     "data": {
      "text/plain": [
       "u'47'"
      ]
     },
     "execution_count": 96,
     "metadata": {},
     "output_type": "execute_result"
    }
   ],
   "source": [
    "def get_thread_replies(el):\n",
    "    # <td align='...'><a href=\"...\" onclick=\"...\">540</a></td>\n",
    "    return el[1].a.text\n",
    "\n",
    "get_thread_replies(cleaned_threads[0]) # u'540'"
   ]
  },
  {
   "cell_type": "code",
   "execution_count": 97,
   "metadata": {
    "collapsed": false
   },
   "outputs": [
    {
     "data": {
      "text/plain": [
       "u'307'"
      ]
     },
     "execution_count": 97,
     "metadata": {},
     "output_type": "execute_result"
    }
   ],
   "source": [
    "def get_thread_views(el):\n",
    "    # <td align=\"center\" class=\"alt2\">92,824</td>\n",
    "    return el[2].text\n",
    "\n",
    "get_thread_views(cleaned_threads[0]) # u'92,824'"
   ]
  },
  {
   "cell_type": "markdown",
   "metadata": {},
   "source": [
    "#### WRITE TO CSV (IN THE FUTURE CHANGE TO DICTWRITER)"
   ]
  },
  {
   "cell_type": "code",
   "execution_count": 385,
   "metadata": {
    "collapsed": false
   },
   "outputs": [],
   "source": [
    "fieldnames = ['number', 'name', 'threads', 'posts', 'description']\n",
    "\n",
    "with open('data/forum_list.csv', 'w') as csv_file:\n",
    "    \n",
    "    writer = csv.writer(csv_file, delimiter=',')\n",
    "    writer.writerow(fieldnames)\n",
    "    \n",
    "    for forum in forums:\n",
    "        writer.writerow(forum)"
   ]
  }
 ],
 "metadata": {
  "kernelspec": {
   "display_name": "Python 2",
   "language": "python",
   "name": "python2"
  },
  "language_info": {
   "codemirror_mode": {
    "name": "ipython",
    "version": 2
   },
   "file_extension": ".py",
   "mimetype": "text/x-python",
   "name": "python",
   "nbconvert_exporter": "python",
   "pygments_lexer": "ipython2",
   "version": "2.7.13"
  }
 },
 "nbformat": 4,
 "nbformat_minor": 0
}
