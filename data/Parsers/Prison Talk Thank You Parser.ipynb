{
 "cells": [
  {
   "cell_type": "markdown",
   "metadata": {},
   "source": [
    "## NOTES"
   ]
  },
  {
   "cell_type": "markdown",
   "metadata": {},
   "source": [
    "#### RESOURCES"
   ]
  },
  {
   "cell_type": "code",
   "execution_count": null,
   "metadata": {
    "collapsed": true
   },
   "outputs": [],
   "source": [
    "https://brennan.io/2016/03/02/logging-in-with-requests/\n",
    "https://kazuar.github.io/scraping-tutorial/"
   ]
  },
  {
   "cell_type": "code",
   "execution_count": 2,
   "metadata": {
    "collapsed": false
   },
   "outputs": [
    {
     "name": "stdout",
     "output_type": "stream",
     "text": [
      "'all done'\n"
     ]
    }
   ],
   "source": [
    "import json\n",
    "import pandas as pd\n",
    "import csv\n",
    "import datetime\n",
    "import collections\n",
    "import re\n",
    "import copy\n",
    "\n",
    "from pprint import pprint\n",
    "\n",
    "from bs4 import BeautifulSoup, NavigableString, Tag\n",
    "import lxml.html\n",
    "import requests\n",
    "from string import capwords\n",
    "from titlecase import titlecase\n",
    "\n",
    "pprint('all done')"
   ]
  },
  {
   "cell_type": "markdown",
   "metadata": {},
   "source": [
    "#### COOKIES & LOGIN"
   ]
  },
  {
   "cell_type": "code",
   "execution_count": null,
   "metadata": {
    "collapsed": true
   },
   "outputs": [],
   "source": [
    "NOT NECCESSARY B/C THE FORUM LIST DOESN'T REQIURE LOGIN TO ACCESS\n",
    "However, see Prison Talk Scraper Login Notebook for process."
   ]
  },
  {
   "cell_type": "code",
   "execution_count": null,
   "metadata": {
    "collapsed": true
   },
   "outputs": [],
   "source": [
    "domain = 'www.prisontalk.com'\n",
    "\n",
    "headers =   {\n",
    "                'Host': domain,\n",
    "                'User-Agent': 'Mozilla/5.0 (Macintosh; Intel Mac OS X 10.7; rv:44.0) Gecko/20100101 Firefox/44.0',\n",
    "                'Accept': 'text/html,application/xhtml+xml,application/xml;q=0.9,*/*;q=0.8',\n",
    "                'Accept-Language': 'en-US,en;q=0.5',\n",
    "                'Accept-Encoding': 'gzip, deflate',\n",
    "                'DNT': '1',\n",
    "                'Connection': 'keep-alive'\n",
    "            }"
   ]
  },
  {
   "cell_type": "code",
   "execution_count": null,
   "metadata": {
    "collapsed": true
   },
   "outputs": [],
   "source": [
    "username = 'YOUR_USERNAME'\n",
    "password = 'YOUR_PASSWORD'\n",
    "\n",
    "login_form = {\n",
    "                'vb_login_username': username, \n",
    "                'vb_login_password': password,\n",
    "                'do': 'login',\n",
    "                'url': '/forums/memberlist.php', \n",
    "                'vb_login_md5password': '',\n",
    "                'vb_login_md5password_utf': '',\n",
    "                's': '',\n",
    "                'securitytoken': 'guest'\n",
    "             }\n",
    "\n",
    "# login_form"
   ]
  },
  {
   "cell_type": "code",
   "execution_count": null,
   "metadata": {
    "collapsed": true
   },
   "outputs": [],
   "source": [
    "prison_talk = BeautifulSoup(response.content, 'lxml')"
   ]
  },
  {
   "cell_type": "code",
   "execution_count": null,
   "metadata": {
    "collapsed": true
   },
   "outputs": [],
   "source": [
    "login_url = 'http://www.prisontalk.com/forums/login.php?do=login'\n",
    "\n",
    "s.post(login_url, data=form)\n",
    "\n",
    "s = requests.session()\n",
    "response = s.get(login_url, headers=headers)\n",
    "print response.status_code"
   ]
  },
  {
   "cell_type": "code",
   "execution_count": null,
   "metadata": {
    "collapsed": true
   },
   "outputs": [],
   "source": [
    "login_form = get_login_form(login_page, username, password)\n",
    "login_form\n",
    "logged_in = s.post(login_url, data=login_form, headers=headers)\n",
    "logged_in.status_code"
   ]
  },
  {
   "cell_type": "code",
   "execution_count": null,
   "metadata": {
    "collapsed": true
   },
   "outputs": [],
   "source": [
    "success_page = BeautifulSoup(logged_in.content)\n",
    "bool(success_page.find_all(string=re.compile('Redirecting')))"
   ]
  },
  {
   "cell_type": "markdown",
   "metadata": {},
   "source": [
    "#### REQUEST WEBPAGE AND SAVE TO FILE"
   ]
  },
  {
   "cell_type": "code",
   "execution_count": 18,
   "metadata": {
    "collapsed": false
   },
   "outputs": [
    {
     "data": {
      "text/plain": [
       "'http://prisontalk.com/forums/forumdisplay.php?f=38&order=DESC&sort=posts&pp=100&page=1'"
      ]
     },
     "execution_count": 18,
     "metadata": {},
     "output_type": "execute_result"
    }
   ],
   "source": [
    "forum = 38\n",
    "order = 'DESC'\n",
    "sort = 'posts'\n",
    "pages_per = '100'\n",
    "page = 1\n",
    "\n",
    "forum_url = 'http://prisontalk.com/forums/forumdisplay.php?'+ \\\n",
    "                                            'f='+str(forum)+ \\\n",
    "                                            '&order='+order+ \\\n",
    "                                            '&sort='+sort+ \\\n",
    "                                            '&pp='+pages_per+ \\\n",
    "                                            '&page='+str(page)\n",
    "forum_url"
   ]
  },
  {
   "cell_type": "code",
   "execution_count": 20,
   "metadata": {
    "collapsed": false
   },
   "outputs": [
    {
     "name": "stdout",
     "output_type": "stream",
     "text": [
      "200\n"
     ]
    }
   ],
   "source": [
    "s = requests.session()\n",
    "response = s.get(forum_url)\n",
    "\n",
    "print response.status_code\n",
    "    \n",
    "if response.status_code == 200:\n",
    "\n",
    "    thread_list = BeautifulSoup(response.content, 'lxml')\n",
    "    \n",
    "    with open(\"examples/thread_list.html\", \"w\") as file:\n",
    "        file.write(str(thread_list))"
   ]
  },
  {
   "cell_type": "markdown",
   "metadata": {},
   "source": [
    "#### LOAD WEBPAGE FROM FILE & REMOVE STRING LITERALS (THEY'RE THEY WORST)"
   ]
  },
  {
   "cell_type": "code",
   "execution_count": 132,
   "metadata": {
    "collapsed": false
   },
   "outputs": [],
   "source": [
    "posts_no_nav_w_thanks = 'posts_no_nav_w_thanks'\n",
    "posts_w_nav_w_thanks = 'posts_w_nav_w_thanks'\n",
    "posts_w_nav = 'posts_w_nav'\n",
    "posts_w_poll_nav = 'posts_w_poll_nav'\n",
    "\n",
    "\n",
    "html_page = open('examples/' + posts_w_nav_w_thanks + '.html', 'r').read()\n",
    "posts_page = BeautifulSoup(html_page, 'html.parser')\n",
    "posts_page = str(posts_page)\n",
    "no_literals = posts_page.replace('\\n', '').replace('\\t', '').replace('\\r', '')\n",
    "\n",
    "\n",
    "posts_page = BeautifulSoup(no_literals, 'html.parser')#skip u'html PUBLIC \"-//W3C//"
   ]
  },
  {
   "cell_type": "code",
   "execution_count": 17,
   "metadata": {
    "collapsed": false
   },
   "outputs": [
    {
     "data": {
      "text/plain": [
       "bs4.BeautifulSoup"
      ]
     },
     "execution_count": 17,
     "metadata": {},
     "output_type": "execute_result"
    }
   ],
   "source": [
    "type(posts_page)"
   ]
  },
  {
   "cell_type": "markdown",
   "metadata": {},
   "source": [
    "#### EXTRACT NAV FOR NUMBER OF PAGES"
   ]
  },
  {
   "cell_type": "code",
   "execution_count": 18,
   "metadata": {
    "collapsed": false
   },
   "outputs": [
    {
     "data": {
      "text/plain": [
       "u'8'"
      ]
     },
     "execution_count": 18,
     "metadata": {},
     "output_type": "execute_result"
    }
   ],
   "source": [
    "# NOTE: THIS DOES NOT ASSUME EVERY THREAD PAGE WILL HAVE >100 THREADS AND THEREFORE A NAV\n",
    "\n",
    "def get_num_post_pages(el):\n",
    "    \n",
    "    try:\n",
    "        # THERE IS A TOP AND BOTTOM NAV SO WE'LL JUST TAKE THE TOP\n",
    "        nav = el.find_all('div', {'class':'pagenav'})[0]\n",
    "        page_x_of_y = nav.find_all('td', {'class':'vbmenu_control'})[0]\n",
    "        num_pages = page_x_of_y.text.split(' ')[-1]\n",
    "        \n",
    "    except IndexError as er:\n",
    "        \n",
    "        num_pages = 1\n",
    "        \n",
    "    return num_pages\n",
    "\n",
    "get_num_post_pages(posts_page)  #263"
   ]
  },
  {
   "cell_type": "code",
   "execution_count": 220,
   "metadata": {
    "collapsed": false
   },
   "outputs": [],
   "source": [
    "def get_thanks(page_of_posts):\n",
    "    \n",
    "    thankers = []\n",
    "\n",
    "    # <div id=\"post_thanks_box_4543095\"><div...Say Thank You to...div> <a href=\"member.php?u=166646\"...\">Catoneswife</a> (05-13-2009)\n",
    "    thanks_boxes = get_thanks_boxes(page_of_posts)\n",
    "    \n",
    "    for thanks_box in thanks_boxes:\n",
    "        \n",
    "        # u'post_thanks_box_4543095'\n",
    "        thanked_post_id = thanks_box['id'].split('_')[-1]\n",
    "        \n",
    "        links_of_thanks = thanks_box.find_all('a')\n",
    "#         dates_of_thanks = thanks_box.find_all('a')\n",
    "            \n",
    "        for link_of_thanks in links_of_thanks:  \n",
    "        # <a href=\"member.php?u=166646\" rel=\"nofollow\">Catoneswife</a>(02-27-2015)</div>\n",
    "        \n",
    "            thanker = {}\n",
    "        \n",
    "            thanker['thanked_post_id'] = thanked_post_id\n",
    "            \n",
    "            # <a>...</a>(02-27-2015),</div>        \n",
    "            date_of_thanks = link_of_thanks.next_sibling\n",
    "            # u'\\xa0(05-13-2009),\n",
    "            date_of_thanks = date_of_thanks.encode('ascii', 'ignore').decode('ascii')\n",
    "            # (05-13-2009),\n",
    "            thanker['date_of_thanks'] = re.sub('[(),]', '', date_of_thanks)\n",
    "\n",
    "#             u'member.php?u=166646'\n",
    "            thanker['thanker_user_id'] = link_of_thanks['href'].split('=')[-1]\n",
    "\n",
    "            # u'Catoneswife'\n",
    "            thanker['thanker_user_name'] = link_of_thanks.text\n",
    "\n",
    "            thankers.append(thanker)\n",
    "\n",
    "    return thankers\n",
    "\n",
    "# NOTE: THANKER USER ID AND POST ID SHOULD NEVER APPEAR TWICE AS\n",
    "# THAT WOULD INDICATE THAT THE SAME PERSON THANKED THE POST TWICE WHICH\n",
    "# TO MY KNOWLEDGE IS NOT POSSIBLE\n",
    "\n",
    "# [{'date_of_thanks': u'05-13-2009 ','thanked_post_id': u'4543095',\n",
    "#   'thanker_user_id': u'166646','thanker_user_name': u'Catoneswife'},\n",
    "#  {'date_of_thanks': u'02-27-2015','thanked_post_id': u'4543095',\n",
    "#   'thanker_user_id': u'377524','thanker_user_name': u'Maushel'}\n",
    "\n",
    "thanks = get_thanks(posts_page)\n",
    "# thanks"
   ]
  },
  {
   "cell_type": "code",
   "execution_count": 221,
   "metadata": {
    "collapsed": false
   },
   "outputs": [],
   "source": [
    "def get_thanks_boxes(el):\n",
    "    \n",
    "    thanks_boxes = el.find_all(id=re.compile('post_thanks_box'))\n",
    "    \n",
    "    return thanks_boxes\n",
    "    \n",
    "# thanks_boxes = get_thanks_boxes(posts_page)\n",
    "# print thanks_boxes[0].prettify()"
   ]
  },
  {
   "cell_type": "markdown",
   "metadata": {},
   "source": [
    "#### WRITE TO CSV (IN THE FUTURE CHANGE TO DICTWRITER)"
   ]
  },
  {
   "cell_type": "code",
   "execution_count": 385,
   "metadata": {
    "collapsed": false
   },
   "outputs": [],
   "source": [
    "fieldnames = ['number', 'name', 'threads', 'posts', 'description']\n",
    "\n",
    "with open('data/forum_list.csv', 'w') as csv_file:\n",
    "    \n",
    "    writer = csv.writer(csv_file, delimiter=',')\n",
    "    writer.writerow(fieldnames)\n",
    "    \n",
    "    for forum in forums:\n",
    "        writer.writerow(forum)"
   ]
  }
 ],
 "metadata": {
  "kernelspec": {
   "display_name": "Python 2",
   "language": "python",
   "name": "python2"
  },
  "language_info": {
   "codemirror_mode": {
    "name": "ipython",
    "version": 2
   },
   "file_extension": ".py",
   "mimetype": "text/x-python",
   "name": "python",
   "nbconvert_exporter": "python",
   "pygments_lexer": "ipython2",
   "version": "2.7.13"
  }
 },
 "nbformat": 4,
 "nbformat_minor": 0
}
