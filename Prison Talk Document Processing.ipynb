{
 "cells": [
  {
   "cell_type": "code",
   "execution_count": 18,
   "metadata": {
    "collapsed": false
   },
   "outputs": [
    {
     "name": "stdout",
     "output_type": "stream",
     "text": [
      "imported\n"
     ]
    }
   ],
   "source": [
    "import os\n",
    "from bs4 import BeautifulSoup, NavigableString, Tag \n",
    "\n",
    "from nltk.util import ngrams\n",
    "from nltk import word_tokenize\n",
    "\n",
    "import json\n",
    "import numpy as np\n",
    "import pandas as pd\n",
    "\n",
    "%matplotlib inline\n",
    "import matplotlib as plt\n",
    "import seaborn as sns\n",
    "\n",
    "import collections\n",
    "import csv\n",
    "\n",
    "from datetime import datetime\n",
    "from pytz import timezone\n",
    "\n",
    "print \"imported\""
   ]
  },
  {
   "cell_type": "code",
   "execution_count": 19,
   "metadata": {
    "collapsed": false
   },
   "outputs": [
    {
     "name": "stdout",
     "output_type": "stream",
     "text": [
      "imported\n"
     ]
    }
   ],
   "source": [
    "# IMPORTS SPECIFIC TO TOPIC MODELING\n",
    "\n",
    "import langid\n",
    "import nltk\n",
    "import re\n",
    "import time\n",
    "from collections import defaultdict\n",
    "from configparser import ConfigParser\n",
    "from gensim import corpora, models, similarities\n",
    "from nltk.tokenize import RegexpTokenizer\n",
    "from string import digits\n",
    "print \"imported\""
   ]
  },
  {
   "cell_type": "code",
   "execution_count": 5,
   "metadata": {
    "collapsed": false
   },
   "outputs": [
    {
     "data": {
      "text/html": [
       "<div>\n",
       "<table border=\"1\" class=\"dataframe\">\n",
       "  <thead>\n",
       "    <tr style=\"text-align: right;\">\n",
       "      <th></th>\n",
       "      <th>date</th>\n",
       "      <th>post_id</th>\n",
       "      <th>user</th>\n",
       "      <th>post_body</th>\n",
       "    </tr>\n",
       "  </thead>\n",
       "  <tbody>\n",
       "    <tr>\n",
       "      <th>0</th>\n",
       "      <td>03-21-2005 11:42 AM</td>\n",
       "      <td>t-113714-1</td>\n",
       "      <td>Morrigan68</td>\n",
       "      <td>I would like to get started compiling informat...</td>\n",
       "    </tr>\n",
       "    <tr>\n",
       "      <th>1</th>\n",
       "      <td>03-23-2005 12:33 AM</td>\n",
       "      <td>t-113714-2</td>\n",
       "      <td>CET</td>\n",
       "      <td>I have visited at Stateville Lawrence and Cent...</td>\n",
       "    </tr>\n",
       "    <tr>\n",
       "      <th>2</th>\n",
       "      <td>03-27-2005 07:44 PM</td>\n",
       "      <td>t-113714-3</td>\n",
       "      <td>valorie1</td>\n",
       "      <td>Tamms: RE: Visiting- you must get a perspectiv...</td>\n",
       "    </tr>\n",
       "    <tr>\n",
       "      <th>3</th>\n",
       "      <td>03-28-2005 12:07 AM</td>\n",
       "      <td>t-113714-4</td>\n",
       "      <td>CET</td>\n",
       "      <td>Dress code: They determine it while you are th...</td>\n",
       "    </tr>\n",
       "    <tr>\n",
       "      <th>4</th>\n",
       "      <td>04-04-2005 05:54 PM</td>\n",
       "      <td>t-113714-5</td>\n",
       "      <td>iqyou</td>\n",
       "      <td>Hi my name is Michele and I have never posted ...</td>\n",
       "    </tr>\n",
       "    <tr>\n",
       "      <th>5</th>\n",
       "      <td>04-08-2005 01:46 AM</td>\n",
       "      <td>t-113714-6</td>\n",
       "      <td>KristinGish</td>\n",
       "      <td>Hi. This is my first post here. My husband is ...</td>\n",
       "    </tr>\n",
       "    <tr>\n",
       "      <th>6</th>\n",
       "      <td>04-12-2005 09:09 AM</td>\n",
       "      <td>t-113714-7</td>\n",
       "      <td>eddyswife39</td>\n",
       "      <td>My husband is in Sheridan. He just got sentenc...</td>\n",
       "    </tr>\n",
       "    <tr>\n",
       "      <th>7</th>\n",
       "      <td>04-25-2005 07:42 AM</td>\n",
       "      <td>t-113714-8</td>\n",
       "      <td>CET</td>\n",
       "      <td>I think it would be helpful to get input from ...</td>\n",
       "    </tr>\n",
       "    <tr>\n",
       "      <th>8</th>\n",
       "      <td>05-05-2005 05:47 PM</td>\n",
       "      <td>t-113714-9</td>\n",
       "      <td>CET</td>\n",
       "      <td>I would like to have another thread with a sti...</td>\n",
       "    </tr>\n",
       "    <tr>\n",
       "      <th>9</th>\n",
       "      <td>05-23-2006 11:09 AM</td>\n",
       "      <td>t-113714-10</td>\n",
       "      <td>boosmom</td>\n",
       "      <td>Do you still need info on Hill Correctional in...</td>\n",
       "    </tr>\n",
       "  </tbody>\n",
       "</table>\n",
       "</div>"
      ],
      "text/plain": [
       "                  date      post_id         user  \\\n",
       "0  03-21-2005 11:42 AM   t-113714-1   Morrigan68   \n",
       "1  03-23-2005 12:33 AM   t-113714-2          CET   \n",
       "2  03-27-2005 07:44 PM   t-113714-3     valorie1   \n",
       "3  03-28-2005 12:07 AM   t-113714-4          CET   \n",
       "4  04-04-2005 05:54 PM   t-113714-5        iqyou   \n",
       "5  04-08-2005 01:46 AM   t-113714-6  KristinGish   \n",
       "6  04-12-2005 09:09 AM   t-113714-7  eddyswife39   \n",
       "7  04-25-2005 07:42 AM   t-113714-8          CET   \n",
       "8  05-05-2005 05:47 PM   t-113714-9          CET   \n",
       "9  05-23-2006 11:09 AM  t-113714-10      boosmom   \n",
       "\n",
       "                                           post_body  \n",
       "0  I would like to get started compiling informat...  \n",
       "1  I have visited at Stateville Lawrence and Cent...  \n",
       "2  Tamms: RE: Visiting- you must get a perspectiv...  \n",
       "3  Dress code: They determine it while you are th...  \n",
       "4  Hi my name is Michele and I have never posted ...  \n",
       "5  Hi. This is my first post here. My husband is ...  \n",
       "6  My husband is in Sheridan. He just got sentenc...  \n",
       "7  I think it would be helpful to get input from ...  \n",
       "8  I would like to have another thread with a sti...  \n",
       "9  Do you still need info on Hill Correctional in...  "
      ]
     },
     "execution_count": 5,
     "metadata": {},
     "output_type": "execute_result"
    }
   ],
   "source": [
    "df = pd.read_csv('prison_talk_il.csv')\n",
    "df.head(10)"
   ]
  },
  {
   "cell_type": "code",
   "execution_count": 6,
   "metadata": {
    "collapsed": false
   },
   "outputs": [
    {
     "data": {
      "text/html": [
       "<div>\n",
       "<table border=\"1\" class=\"dataframe\">\n",
       "  <thead>\n",
       "    <tr style=\"text-align: right;\">\n",
       "      <th></th>\n",
       "      <th>date</th>\n",
       "      <th>thread_id</th>\n",
       "      <th>post_id</th>\n",
       "      <th>user</th>\n",
       "      <th>post_body</th>\n",
       "    </tr>\n",
       "  </thead>\n",
       "  <tbody>\n",
       "    <tr>\n",
       "      <th>0</th>\n",
       "      <td>03-21-2005 11:42 AM</td>\n",
       "      <td>113714</td>\n",
       "      <td>t-113714-1</td>\n",
       "      <td>Morrigan68</td>\n",
       "      <td>I would like to get started compiling informat...</td>\n",
       "    </tr>\n",
       "    <tr>\n",
       "      <th>1</th>\n",
       "      <td>03-23-2005 12:33 AM</td>\n",
       "      <td>113714</td>\n",
       "      <td>t-113714-2</td>\n",
       "      <td>CET</td>\n",
       "      <td>I have visited at Stateville Lawrence and Cent...</td>\n",
       "    </tr>\n",
       "    <tr>\n",
       "      <th>2</th>\n",
       "      <td>03-27-2005 07:44 PM</td>\n",
       "      <td>113714</td>\n",
       "      <td>t-113714-3</td>\n",
       "      <td>valorie1</td>\n",
       "      <td>Tamms: RE: Visiting- you must get a perspectiv...</td>\n",
       "    </tr>\n",
       "    <tr>\n",
       "      <th>3</th>\n",
       "      <td>03-28-2005 12:07 AM</td>\n",
       "      <td>113714</td>\n",
       "      <td>t-113714-4</td>\n",
       "      <td>CET</td>\n",
       "      <td>Dress code: They determine it while you are th...</td>\n",
       "    </tr>\n",
       "    <tr>\n",
       "      <th>4</th>\n",
       "      <td>04-04-2005 05:54 PM</td>\n",
       "      <td>113714</td>\n",
       "      <td>t-113714-5</td>\n",
       "      <td>iqyou</td>\n",
       "      <td>Hi my name is Michele and I have never posted ...</td>\n",
       "    </tr>\n",
       "    <tr>\n",
       "      <th>5</th>\n",
       "      <td>04-08-2005 01:46 AM</td>\n",
       "      <td>113714</td>\n",
       "      <td>t-113714-6</td>\n",
       "      <td>KristinGish</td>\n",
       "      <td>Hi. This is my first post here. My husband is ...</td>\n",
       "    </tr>\n",
       "    <tr>\n",
       "      <th>6</th>\n",
       "      <td>04-12-2005 09:09 AM</td>\n",
       "      <td>113714</td>\n",
       "      <td>t-113714-7</td>\n",
       "      <td>eddyswife39</td>\n",
       "      <td>My husband is in Sheridan. He just got sentenc...</td>\n",
       "    </tr>\n",
       "    <tr>\n",
       "      <th>7</th>\n",
       "      <td>04-25-2005 07:42 AM</td>\n",
       "      <td>113714</td>\n",
       "      <td>t-113714-8</td>\n",
       "      <td>CET</td>\n",
       "      <td>I think it would be helpful to get input from ...</td>\n",
       "    </tr>\n",
       "    <tr>\n",
       "      <th>8</th>\n",
       "      <td>05-05-2005 05:47 PM</td>\n",
       "      <td>113714</td>\n",
       "      <td>t-113714-9</td>\n",
       "      <td>CET</td>\n",
       "      <td>I would like to have another thread with a sti...</td>\n",
       "    </tr>\n",
       "    <tr>\n",
       "      <th>9</th>\n",
       "      <td>05-23-2006 11:09 AM</td>\n",
       "      <td>113714</td>\n",
       "      <td>t-113714-10</td>\n",
       "      <td>boosmom</td>\n",
       "      <td>Do you still need info on Hill Correctional in...</td>\n",
       "    </tr>\n",
       "  </tbody>\n",
       "</table>\n",
       "</div>"
      ],
      "text/plain": [
       "                  date thread_id      post_id         user  \\\n",
       "0  03-21-2005 11:42 AM    113714   t-113714-1   Morrigan68   \n",
       "1  03-23-2005 12:33 AM    113714   t-113714-2          CET   \n",
       "2  03-27-2005 07:44 PM    113714   t-113714-3     valorie1   \n",
       "3  03-28-2005 12:07 AM    113714   t-113714-4          CET   \n",
       "4  04-04-2005 05:54 PM    113714   t-113714-5        iqyou   \n",
       "5  04-08-2005 01:46 AM    113714   t-113714-6  KristinGish   \n",
       "6  04-12-2005 09:09 AM    113714   t-113714-7  eddyswife39   \n",
       "7  04-25-2005 07:42 AM    113714   t-113714-8          CET   \n",
       "8  05-05-2005 05:47 PM    113714   t-113714-9          CET   \n",
       "9  05-23-2006 11:09 AM    113714  t-113714-10      boosmom   \n",
       "\n",
       "                                           post_body  \n",
       "0  I would like to get started compiling informat...  \n",
       "1  I have visited at Stateville Lawrence and Cent...  \n",
       "2  Tamms: RE: Visiting- you must get a perspectiv...  \n",
       "3  Dress code: They determine it while you are th...  \n",
       "4  Hi my name is Michele and I have never posted ...  \n",
       "5  Hi. This is my first post here. My husband is ...  \n",
       "6  My husband is in Sheridan. He just got sentenc...  \n",
       "7  I think it would be helpful to get input from ...  \n",
       "8  I would like to have another thread with a sti...  \n",
       "9  Do you still need info on Hill Correctional in...  "
      ]
     },
     "execution_count": 6,
     "metadata": {},
     "output_type": "execute_result"
    }
   ],
   "source": [
    "df['thread_id'] = df['post_id'].str.split('-').str.get(1)\n",
    "cols = df.columns.tolist()\n",
    "cols = [cols[0]] + [cols[-1]] + cols[1:4]\n",
    "df = df[cols]\n",
    "df.head(10)"
   ]
  },
  {
   "cell_type": "code",
   "execution_count": 7,
   "metadata": {
    "collapsed": false,
    "scrolled": true
   },
   "outputs": [
    {
     "data": {
      "text/html": [
       "<div>\n",
       "<table border=\"1\" class=\"dataframe\">\n",
       "  <thead>\n",
       "    <tr style=\"text-align: right;\">\n",
       "      <th></th>\n",
       "      <th>date</th>\n",
       "      <th>thread_id</th>\n",
       "      <th>post_id</th>\n",
       "      <th>user</th>\n",
       "      <th>post_body</th>\n",
       "    </tr>\n",
       "  </thead>\n",
       "  <tbody>\n",
       "    <tr>\n",
       "      <th>0</th>\n",
       "      <td>03-21-2005 11:42 AM</td>\n",
       "      <td>113714</td>\n",
       "      <td>t-113714-1</td>\n",
       "      <td>Morrigan68</td>\n",
       "      <td>I would like to get started compiling informat...</td>\n",
       "    </tr>\n",
       "    <tr>\n",
       "      <th>1</th>\n",
       "      <td>03-23-2005 12:33 AM</td>\n",
       "      <td>113714</td>\n",
       "      <td>t-113714-2</td>\n",
       "      <td>CET</td>\n",
       "      <td>I have visited at Stateville Lawrence and Cent...</td>\n",
       "    </tr>\n",
       "    <tr>\n",
       "      <th>2</th>\n",
       "      <td>03-27-2005 07:44 PM</td>\n",
       "      <td>113714</td>\n",
       "      <td>t-113714-3</td>\n",
       "      <td>valorie1</td>\n",
       "      <td>Tamms: RE: Visiting- you must get a perspectiv...</td>\n",
       "    </tr>\n",
       "    <tr>\n",
       "      <th>3</th>\n",
       "      <td>03-28-2005 12:07 AM</td>\n",
       "      <td>113714</td>\n",
       "      <td>t-113714-4</td>\n",
       "      <td>CET</td>\n",
       "      <td>Dress code: They determine it while you are th...</td>\n",
       "    </tr>\n",
       "    <tr>\n",
       "      <th>4</th>\n",
       "      <td>04-04-2005 05:54 PM</td>\n",
       "      <td>113714</td>\n",
       "      <td>t-113714-5</td>\n",
       "      <td>iqyou</td>\n",
       "      <td>Hi my name is Michele and I have never posted ...</td>\n",
       "    </tr>\n",
       "  </tbody>\n",
       "</table>\n",
       "</div>"
      ],
      "text/plain": [
       "                  date thread_id     post_id        user  \\\n",
       "0  03-21-2005 11:42 AM    113714  t-113714-1  Morrigan68   \n",
       "1  03-23-2005 12:33 AM    113714  t-113714-2         CET   \n",
       "2  03-27-2005 07:44 PM    113714  t-113714-3    valorie1   \n",
       "3  03-28-2005 12:07 AM    113714  t-113714-4         CET   \n",
       "4  04-04-2005 05:54 PM    113714  t-113714-5       iqyou   \n",
       "\n",
       "                                           post_body  \n",
       "0  I would like to get started compiling informat...  \n",
       "1  I have visited at Stateville Lawrence and Cent...  \n",
       "2  Tamms: RE: Visiting- you must get a perspectiv...  \n",
       "3  Dress code: They determine it while you are th...  \n",
       "4  Hi my name is Michele and I have never posted ...  "
      ]
     },
     "execution_count": 7,
     "metadata": {},
     "output_type": "execute_result"
    }
   ],
   "source": [
    "df.head()"
   ]
  },
  {
   "cell_type": "code",
   "execution_count": 8,
   "metadata": {
    "collapsed": false
   },
   "outputs": [
    {
     "name": "stdout",
     "output_type": "stream",
     "text": [
      "UNIQUE THREADS: 296\n",
      "UNIQUE POSTS: 2109\n",
      "UNIQUE USERS: 634\n"
     ]
    }
   ],
   "source": [
    "print 'UNIQUE THREADS:', len(df['thread_id'].unique())\n",
    "print 'UNIQUE POSTS:', len(df['post_id'])\n",
    "print 'UNIQUE USERS:', len(df['user'].unique())"
   ]
  },
  {
   "cell_type": "code",
   "execution_count": 9,
   "metadata": {
    "collapsed": false
   },
   "outputs": [
    {
     "data": {
      "text/plain": [
       "downtownchicago    77\n",
       "Miss_A             73\n",
       "Patty              57\n",
       "jiggysgirl         56\n",
       "herewithoutyou2    44\n",
       "heisRfamily2       41\n",
       "blah8705           41\n",
       "MiniMoose          39\n",
       "seagrtj            39\n",
       "JaiDan             38\n",
       "26thncaliswag      32\n",
       "chris idoc         31\n",
       "wolcat             31\n",
       "MobPrincess        29\n",
       "bigmuddy           29\n",
       "rhewsbbgurl        25\n",
       "Kemo'sWife         24\n",
       "adamsrubberduck    24\n",
       "jennnshane1999     23\n",
       "reetz              19\n",
       "Rostonhall         17\n",
       "daveswifey6        16\n",
       "Jillian            16\n",
       "yourself           16\n",
       "cher50             15\n",
       "Name: user, dtype: int64"
      ]
     },
     "execution_count": 9,
     "metadata": {},
     "output_type": "execute_result"
    }
   ],
   "source": [
    "df['user'].value_counts(sort=True)[:25]"
   ]
  },
  {
   "cell_type": "code",
   "execution_count": 10,
   "metadata": {
    "collapsed": false
   },
   "outputs": [
    {
     "data": {
      "text/plain": [
       "<matplotlib.axes._subplots.AxesSubplot at 0x119130610>"
      ]
     },
     "execution_count": 10,
     "metadata": {},
     "output_type": "execute_result"
    },
    {
     "data": {
      "image/png": "[encoded data removed]",
      "text/plain": [
       "<matplotlib.figure.Figure at 0x115bba990>"
      ]
     },
     "metadata": {},
     "output_type": "display_data"
    }
   ],
   "source": [
    "df['user'].value_counts(sort=True).hist(log=True, bins=25)"
   ]
  },
  {
   "cell_type": "code",
   "execution_count": 11,
   "metadata": {
    "collapsed": false
   },
   "outputs": [],
   "source": [
    "df['post_body'].fillna(' ', inplace = True)"
   ]
  },
  {
   "cell_type": "code",
   "execution_count": 12,
   "metadata": {
    "collapsed": false
   },
   "outputs": [],
   "source": [
    "# http://stackoverflow.com/questions/17841149/pandas-groupby-how-to-get-a-union-of-strings\n",
    "threaded = df.groupby(['thread_id'])['post_body'].agg(lambda col : ' '.join(col))"
   ]
  },
  {
   "cell_type": "code",
   "execution_count": 13,
   "metadata": {
    "collapsed": false
   },
   "outputs": [],
   "source": [
    "documents = threaded.tolist()"
   ]
  },
  {
   "cell_type": "code",
   "execution_count": 14,
   "metadata": {
    "collapsed": false
   },
   "outputs": [],
   "source": [
    "# for doc in documents[:5]:\n",
    "#     print doc\n",
    "#     print ''"
   ]
  },
  {
   "cell_type": "markdown",
   "metadata": {},
   "source": [
    "### Pre-processing"
   ]
  },
  {
   "cell_type": "code",
   "execution_count": 15,
   "metadata": {
    "collapsed": false
   },
   "outputs": [],
   "source": [
    "# CODE HELP FROM:\n",
    "# https://github.com/alexperrier/datatalks/blob/master/twitter/twitter_preprocessing.py\n",
    "\n",
    "# SPLITS EACH POST INTO WORDS WHILE REMOVING PUNCTUATION (\\w+) AND LOWER CASES THEM A WORD SUCH AS\n",
    "# I'M WILL BECOME I, M\n",
    "tokenizer = RegexpTokenizer(r'\\w+')\n",
    "documents = [ tokenizer.tokenize(doc.lower()) for doc in documents ]\n",
    "## [['what', 'do', 'they', 'look', 'for', 'for', 'approval', 'or', 'denial'],\n",
    "##  ['hi','i','m','wondering','if','someone','could','answer',...]...\n",
    "# documents[:2]"
   ]
  },
  {
   "cell_type": "code",
   "execution_count": 16,
   "metadata": {
    "collapsed": false
   },
   "outputs": [],
   "source": [
    "# I'M NOT SURE THESE ARE TECHNICALLY UNIGRAMS AND BIGRAMS SO MUCH AS THEY ARE SINGLE LETTER WORDS\n",
    "# AND TWO LETTER WORDS BUT WHO AM I TO JUDEGE (SHULDER SHURG)\n",
    "\n",
    "# ['i','m','a','a','i','t','6',...]\n",
    "unigrams = [ w for doc in documents for w in doc if len(w)==1]\n",
    "# ['do','or','or','of','be',...]\n",
    "bigrams  = [ w for doc in documents for w in doc if len(w)==2]\n",
    "\n",
    "misc = ['get', 'know', 'would']\n",
    "\n",
    "# print unigrams[:5]\n",
    "# print bigrams[:5]"
   ]
  },
  {
   "cell_type": "code",
   "execution_count": 17,
   "metadata": {
    "collapsed": false
   },
   "outputs": [
    {
     "ename": "LookupError",
     "evalue": "\n**********************************************************************\n  Resource u'corpora/stopwords' not found.  Please use the NLTK\n  Downloader to obtain the resource:  >>> nltk.download()\n  Searched in:\n    - '/Users/bsugar/nltk_data'\n    - '/usr/share/nltk_data'\n    - '/usr/local/share/nltk_data'\n    - '/usr/lib/nltk_data'\n    - '/usr/local/lib/nltk_data'\n**********************************************************************",
     "output_type": "error",
     "traceback": [
      "\u001b[0;31m---------------------------------------------------------------------------\u001b[0m",
      "\u001b[0;31mLookupError\u001b[0m                               Traceback (most recent call last)",
      "\u001b[0;32m<ipython-input-17-6a491dd840f1>\u001b[0m in \u001b[0;36m<module>\u001b[0;34m()\u001b[0m\n\u001b[1;32m      1\u001b[0m \u001b[0;31m# CREATES THE SET OF UNIQUE \"CUSTOM STOP LIST WITH NLTK + THE ABOVE\u001b[0m\u001b[0;34m\u001b[0m\u001b[0;34m\u001b[0m\u001b[0m\n\u001b[0;32m----> 2\u001b[0;31m \u001b[0mstoplist\u001b[0m  \u001b[0;34m=\u001b[0m \u001b[0mset\u001b[0m\u001b[0;34m(\u001b[0m\u001b[0mnltk\u001b[0m\u001b[0;34m.\u001b[0m\u001b[0mcorpus\u001b[0m\u001b[0;34m.\u001b[0m\u001b[0mstopwords\u001b[0m\u001b[0;34m.\u001b[0m\u001b[0mwords\u001b[0m\u001b[0;34m(\u001b[0m\u001b[0;34m\"english\"\u001b[0m\u001b[0;34m)\u001b[0m \u001b[0;34m+\u001b[0m \u001b[0munigrams\u001b[0m \u001b[0;34m+\u001b[0m \u001b[0mbigrams\u001b[0m \u001b[0;34m+\u001b[0m \u001b[0mmisc\u001b[0m\u001b[0;34m)\u001b[0m\u001b[0;34m\u001b[0m\u001b[0m\n\u001b[0m\u001b[1;32m      3\u001b[0m \u001b[0;34m\u001b[0m\u001b[0m\n\u001b[1;32m      4\u001b[0m \u001b[0;31m# REMOVES STOP WORDS\u001b[0m\u001b[0;34m\u001b[0m\u001b[0;34m\u001b[0m\u001b[0m\n\u001b[1;32m      5\u001b[0m documents = [[token for token in doc if token not in stoplist]\n",
      "\u001b[0;32m/Users/bsugar/anaconda/lib/python2.7/site-packages/nltk/corpus/util.pyc\u001b[0m in \u001b[0;36m__getattr__\u001b[0;34m(self, attr)\u001b[0m\n\u001b[1;32m     97\u001b[0m             \u001b[0;32mraise\u001b[0m \u001b[0mAttributeError\u001b[0m\u001b[0;34m(\u001b[0m\u001b[0;34m\"LazyCorpusLoader object has no attribute '__bases__'\"\u001b[0m\u001b[0;34m)\u001b[0m\u001b[0;34m\u001b[0m\u001b[0m\n\u001b[1;32m     98\u001b[0m \u001b[0;34m\u001b[0m\u001b[0m\n\u001b[0;32m---> 99\u001b[0;31m         \u001b[0mself\u001b[0m\u001b[0;34m.\u001b[0m\u001b[0m__load\u001b[0m\u001b[0;34m(\u001b[0m\u001b[0;34m)\u001b[0m\u001b[0;34m\u001b[0m\u001b[0m\n\u001b[0m\u001b[1;32m    100\u001b[0m         \u001b[0;31m# This looks circular, but its not, since __load() changes our\u001b[0m\u001b[0;34m\u001b[0m\u001b[0;34m\u001b[0m\u001b[0m\n\u001b[1;32m    101\u001b[0m         \u001b[0;31m# __class__ to something new:\u001b[0m\u001b[0;34m\u001b[0m\u001b[0;34m\u001b[0m\u001b[0m\n",
      "\u001b[0;32m/Users/bsugar/anaconda/lib/python2.7/site-packages/nltk/corpus/util.pyc\u001b[0m in \u001b[0;36m__load\u001b[0;34m(self)\u001b[0m\n\u001b[1;32m     62\u001b[0m             \u001b[0;32mexcept\u001b[0m \u001b[0mLookupError\u001b[0m \u001b[0;32mas\u001b[0m \u001b[0me\u001b[0m\u001b[0;34m:\u001b[0m\u001b[0;34m\u001b[0m\u001b[0m\n\u001b[1;32m     63\u001b[0m                 \u001b[0;32mtry\u001b[0m\u001b[0;34m:\u001b[0m \u001b[0mroot\u001b[0m \u001b[0;34m=\u001b[0m \u001b[0mnltk\u001b[0m\u001b[0;34m.\u001b[0m\u001b[0mdata\u001b[0m\u001b[0;34m.\u001b[0m\u001b[0mfind\u001b[0m\u001b[0;34m(\u001b[0m\u001b[0;34m'corpora/%s'\u001b[0m \u001b[0;34m%\u001b[0m \u001b[0mzip_name\u001b[0m\u001b[0;34m)\u001b[0m\u001b[0;34m\u001b[0m\u001b[0m\n\u001b[0;32m---> 64\u001b[0;31m                 \u001b[0;32mexcept\u001b[0m \u001b[0mLookupError\u001b[0m\u001b[0;34m:\u001b[0m \u001b[0;32mraise\u001b[0m \u001b[0me\u001b[0m\u001b[0;34m\u001b[0m\u001b[0m\n\u001b[0m\u001b[1;32m     65\u001b[0m \u001b[0;34m\u001b[0m\u001b[0m\n\u001b[1;32m     66\u001b[0m         \u001b[0;31m# Load the corpus.\u001b[0m\u001b[0;34m\u001b[0m\u001b[0;34m\u001b[0m\u001b[0m\n",
      "\u001b[0;31mLookupError\u001b[0m: \n**********************************************************************\n  Resource u'corpora/stopwords' not found.  Please use the NLTK\n  Downloader to obtain the resource:  >>> nltk.download()\n  Searched in:\n    - '/Users/bsugar/nltk_data'\n    - '/usr/share/nltk_data'\n    - '/usr/local/share/nltk_data'\n    - '/usr/lib/nltk_data'\n    - '/usr/local/lib/nltk_data'\n**********************************************************************"
     ]
    }
   ],
   "source": [
    "# CREATES THE SET OF UNIQUE \"CUSTOM STOP LIST WITH NLTK + THE ABOVE\n",
    "stoplist  = set(nltk.corpus.stopwords.words(\"english\") + unigrams + bigrams + misc)\n",
    "\n",
    "# REMOVES STOP WORDS\n",
    "documents = [[token for token in doc if token not in stoplist]\n",
    "                for doc in documents]\n",
    "\n",
    "# REMOVES WORDS THAT ARE NUMBERS ONLY\n",
    "documents = [ [token for token in doc if len(token.strip(digits)) == len(token)]\n",
    "                for doc in documents ]\n",
    "\n",
    "# # [['look', 'approval', 'denial', 'parole', 'approval'...],\n",
    "# # ['wondering', 'someone', 'could', 'answer', 'question'...]...]\n",
    "# print documents[0][:5]\n",
    "# print documents[1][:5]"
   ]
  },
  {
   "cell_type": "code",
   "execution_count": 14,
   "metadata": {
    "collapsed": false
   },
   "outputs": [],
   "source": [
    "# REMOVE WORDS THAT OCCUR ONLY ONCE\n",
    "token_frequency = defaultdict(int)\n",
    "\n",
    "# count all tokens\n",
    "for doc in documents:\n",
    "    for token in doc:\n",
    "        token_frequency[token] += 1\n",
    "\n",
    "# keep words that occur more than once\n",
    "documents = [ [token for token in doc if token_frequency[token] > 1]\n",
    "                for doc in documents  ]\n",
    "\n",
    "# Sort words in documents\n",
    "for doc in documents:\n",
    "    doc.sort()\n",
    "    \n",
    "## [['approval', 'approval', 'approval', 'approval', 'approval'...],\n",
    "##  ['answer', 'benefit', 'benefit', 'benefit', 'confused'...]...]\n",
    "\n",
    "# print documents[0][:5]\n",
    "# print documents[1][:5]"
   ]
  },
  {
   "cell_type": "code",
   "execution_count": 15,
   "metadata": {
    "collapsed": false
   },
   "outputs": [],
   "source": [
    "# I HATE UNICODE!!\n",
    "documents = [ [token.decode('ascii', 'ignore') for token in doc] for doc in documents  ]"
   ]
  },
  {
   "cell_type": "code",
   "execution_count": 16,
   "metadata": {
    "collapsed": false
   },
   "outputs": [],
   "source": [
    "# Build a dictionary where for each document each word has its own id\n",
    "dictionary = corpora.Dictionary(documents)\n",
    "dictionary.compactify()\n",
    "# and save the dictionary for future use\n",
    "dictionary.save('prison_talk_nyc_no_misc.dict')"
   ]
  },
  {
   "cell_type": "code",
   "execution_count": 18,
   "metadata": {
    "collapsed": false
   },
   "outputs": [],
   "source": [
    "# We now have a dictionary with 11127 unique tokens\n",
    "# Dictionary(11127 unique tokens: [u'foul', u'narcotic', u'four', u'woods', u'hanging']...)\n",
    "# print dictionary"
   ]
  },
  {
   "cell_type": "code",
   "execution_count": 19,
   "metadata": {
    "collapsed": false
   },
   "outputs": [],
   "source": [
    "# Build the corpus: vectors with occurence of each word for each document\n",
    "# convert tokenized documents to vectors\n",
    "corpus = [dictionary.doc2bow(doc) for doc in documents]"
   ]
  },
  {
   "cell_type": "code",
   "execution_count": 20,
   "metadata": {
    "collapsed": false
   },
   "outputs": [],
   "source": [
    "# and save in Market Matrix format\n",
    "corpora.MmCorpus.serialize('prison_talk_nyc_no_misc.mm', corpus)\n",
    "# this corpus can be loaded with corpus = corpora.MmCorpus('prison_talk_nyc.mm')"
   ]
  },
  {
   "cell_type": "code",
   "execution_count": null,
   "metadata": {
    "collapsed": true
   },
   "outputs": [],
   "source": []
  }
 ],
 "metadata": {
  "kernelspec": {
   "display_name": "Python 2",
   "language": "python",
   "name": "python2"
  },
  "language_info": {
   "codemirror_mode": {
    "name": "ipython",
    "version": 2
   },
   "file_extension": ".py",
   "mimetype": "text/x-python",
   "name": "python",
   "nbconvert_exporter": "python",
   "pygments_lexer": "ipython2",
   "version": "2.7.13"
  }
 },
 "nbformat": 4,
 "nbformat_minor": 0
}
