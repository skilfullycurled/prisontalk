{
 "cells": [
  {
   "cell_type": "markdown",
   "metadata": {
    "deletable": true,
    "editable": true
   },
   "source": [
    "#### RESOURCES"
   ]
  },
  {
   "cell_type": "code",
   "execution_count": null,
   "metadata": {
    "code_folding": [],
    "collapsed": true,
    "deletable": true,
    "editable": true
   },
   "outputs": [],
   "source": [
    "# SCRAPING\n",
    "# https://brennan.io/2016/03/02/logging-in-with-requests/\n",
    "# https://kazuar.github.io/scraping-tutorial/\n",
    "    \n",
    "# EXAMPLES OF MULTIPLE ACCOUNT LOG IN NOTIFICATIONS\n",
    "# http://956sportsforum.com/forumdisplay.php?78-Multiple-Acount-detection\n",
    "    \n",
    "# GENERAL TECHNIQUES\n",
    "# https://stackoverflow.com/questions/273192/how-can-i-create-a-directory-if-it-does-not-exist/14364249#14364249\n",
    "# https://stackoverflow.com/questions/438894/how-do-i-stop-a-program-when-an-exception-is-raised-in-python\n",
    "# https://stackoverflow.com/questions/13210436/get-full-traceback\n",
    "# https://stackoverflow.com/questions/14058453/making-python-loggers-output-all-messages-to-stdout-in-addition-to-log\n",
    "# https://stackoverflow.com/questions/40858658/python-logging-to-stdout-and-log-file"
   ]
  },
  {
   "cell_type": "markdown",
   "metadata": {
    "deletable": true,
    "editable": true
   },
   "source": [
    "#### COOKIES"
   ]
  },
  {
   "cell_type": "markdown",
   "metadata": {
    "collapsed": true,
    "deletable": true,
    "editable": true
   },
   "source": [
    "USES: vBulletin 3.7.4\n",
    "\n",
    "There is a plug-in which detects multiple log-ins from the same computer.  I'm not entire sure\n",
    "of the specifics but it accomplishes this by setting a cookie called IDstack.\n",
    "\n",
    "http://www.vbulletin.org/forum/showthread.php?t=183268&page=27\n",
    "    \n",
    "The cookie can be deleted once logged in and it does not appear to return.  After logging out\n",
    "and back-in again, the cookie will reappear.  Therefore, the program will need to check for and\n",
    "delete this cookie upon each request.\n",
    "\n",
    "IDstack:\"%2C451297%2C\"\n",
    "    CreationTime:\"Mon, 06 Mar 2017 20:25:56 GMT\"\n",
    "    Domain:\"www.prisontalk.com\"\n",
    "    Expires:\"Tue, 04 Jul 2017 20:27:27 GMT\"\n",
    "    HostOnly:true\n",
    "    HttpOnly:false\n",
    "    LastAccessed:\"Mon, 06 Mar 2017 20:55:45 GMT\"\n",
    "    Path:\"/\"\n",
    "    Secure:false\n",
    "        \n",
    "vBulletin also uses cookies to display when the site was last accessed, the last activity, \n",
    "last visit, etc.  These may need to be changed to avoid detection as well.\n",
    "\n",
    "***NOTE: The following are *not* the key value pairs.  You must check for exact values.  If\n",
    "you have cookie manager for firefox you can copy the raw values***\n",
    "\n",
    "---\n",
    "PHPSESSID\n",
    "---\n",
    "Host:                 www.prisontalk.com\n",
    "Name:                 PHPSESSID\n",
    "Path:                 %2F\n",
    "Content:              uouvfmhmooh7tidfho4gsbaj64\n",
    "Expires:              At end of session\n",
    "Send for:             Any type of connection\n",
    "Created:              March 6, 2017 at 4:13:47 PM\n",
    "Last accessed:        March 6, 2017 at 4:15:05 PM\n",
    "HTTP only:            No\n",
    "This domain only:     No\n",
    "Policy:               no information available\n",
    "Status:               no information available\n",
    "---"
   ]
  },
  {
   "cell_type": "markdown",
   "metadata": {
    "deletable": true,
    "editable": true
   },
   "source": [
    "#### PRE LOGIN REQUEST HEADERS"
   ]
  },
  {
   "cell_type": "code",
   "execution_count": null,
   "metadata": {
    "collapsed": true,
    "deletable": true,
    "editable": true
   },
   "outputs": [],
   "source": [
    "REQUEST HEADERS\n",
    "\n",
    "Host: www.prisontalk.com\n",
    "User-Agent: Mozilla/5.0 (Macintosh; Intel Mac OS X 10.12; rv:58.0) Gecko/20100101 Firefox/58.0\n",
    "Accept: text/html,application/xhtml+xml,application/xml;q=0.9,*/*;q=0.8\n",
    "Accept-Language: en-US,en;q=0.5\n",
    "Accept-Encoding: gzip, deflate\n",
    "Cookie: ap-settings-cached=N%7C2%7C5000%7Chttp%3A%2F%2Fwww.prisontalk.com%2Fptoads%7Caeroview%40gmail.com%7CThanks%2C%0D%0ADavid%0D%0Aaeroview%40gmail.com; __utma=160411260.263799196.1518124335.1518894718.1518899923.25; __utmz=160411260.1518124335.1.1.utmccn=(direct)|utmcsr=(direct)|utmcmd=(none); __qca=P0-1564290053-1518124335352; IDstack=%2C451297%2C%2C469607%2C; bblastvisit=1518127085; bblastactivity=0; bbsessionhash=c9d7625c482e698cdaf4e5d88d2fc6ac; PHPSESSID=ocd53ttttsp7fft2sbls12smv1; __utmc=160411260; bbpda=1; __utmb=160411260\n",
    "Connection: keep-alive\n",
    "Upgrade-Insecure-Requests: 1\n",
    "Cache-Control: max-age=0\n",
    "\n",
    "REPSONSE HEADERS \n",
    "Connection: keep-alive\n",
    "Accept-Encoding: gzip, deflate\n",
    "Accept: text/html,application/xhtml+xml,application/xml;q=0.9,*/*;q=0.8\n",
    "User-Agent: Mozilla/5.0 (Windows NT 6.1; rv:52.0) Gecko/20100101 Firefox/52.0\n",
    "Accept-Language: en-US,en;q=0.5\n",
    "DNT: 1\n",
    "Host: www.prisontalk.com\n",
    "\n",
    "RESPONSE COOKIES\n",
    "bblastactivity: 0\n",
    "bblastvisit: 1518982179\n",
    "bbsessionhash: 2116591513c0a59d000602a392960a26"
   ]
  },
  {
   "cell_type": "code",
   "execution_count": 101,
   "metadata": {
    "collapsed": false,
    "deletable": true,
    "editable": true
   },
   "outputs": [
    {
     "name": "stdout",
     "output_type": "stream",
     "text": [
      "all done\n"
     ]
    }
   ],
   "source": [
    "import json\n",
    "import pandas as pd\n",
    "import csv\n",
    "from datetime import datetime\n",
    "import collections\n",
    "import re\n",
    "import random\n",
    "import time\n",
    "import os\n",
    "import logging\n",
    "import sys\n",
    "import errno\n",
    "from pathlib2 import Path\n",
    "\n",
    "from pprint import pprint\n",
    "\n",
    "from bs4 import BeautifulSoup, NavigableString, Tag\n",
    "import lxml.html\n",
    "import requests\n",
    "from string import capwords\n",
    "from titlecase import titlecase\n",
    "\n",
    "import smtplib\n",
    "\n",
    "from email.mime.multipart import MIMEMultipart\n",
    "from email.mime.text import MIMEText\n",
    "\n",
    "print 'all done'"
   ]
  },
  {
   "cell_type": "code",
   "execution_count": 102,
   "metadata": {
    "collapsed": false,
    "deletable": true,
    "editable": true
   },
   "outputs": [],
   "source": [
    "firefox_win_ua = 'Mozilla/5.0 (Windows NT 6.1; rv:52.0) Gecko/20100101 Firefox/52.0'\n",
    "firefox_mac_ua = 'Mozilla/5.0 (Macintosh; Intel Mac OS X 10.12; rv:58.0) Gecko/20100101 Firefox/58.0'\n",
    "safari_mac_ua = 'Mozilla/5.0 (Macintosh; Intel Mac OS X 10_12_6) AppleWebKit/604.4.7 (KHTML, like Gecko) Version/11.0.2 Safari/604.4.7'\n",
    "\n",
    "domain = 'www.prisontalk.com'\n",
    "\n",
    "headers =   {\n",
    "                'Host': domain,\n",
    "                'User-Agent': firefox_win_ua,\n",
    "                'Accept': 'text/html,application/xhtml+xml,application/xml;q=0.9,*/*;q=0.8',\n",
    "                'Accept-Language': 'en-US,en;q=0.5',\n",
    "                'Accept-Encoding': 'gzip, deflate',\n",
    "                'DNT': '1',\n",
    "                'Connection': 'keep-alive'\n",
    "            }"
   ]
  },
  {
   "cell_type": "markdown",
   "metadata": {
    "deletable": true,
    "editable": true
   },
   "source": [
    "### THREAD SCRAPER"
   ]
  },
  {
   "cell_type": "markdown",
   "metadata": {
    "deletable": true,
    "editable": true
   },
   "source": [
    "#### FOR FINDING GOOD TEST FORUMS OR REMOVING TEST FORUMS ALREADY RETRIEVED"
   ]
  },
  {
   "cell_type": "code",
   "execution_count": 59,
   "metadata": {
    "collapsed": false,
    "deletable": true,
    "editable": true
   },
   "outputs": [],
   "source": [
    "# # FOR FINDING GOOD TEST FORUMS OR REMOVING TEST FORUMS ALREADY RETRIEVED\n",
    "\n",
    "file_path = 'data/forums/'\n",
    "log_path = file_path + 'logs/'\n",
    "forums_csv = 'data/forum_ids.csv'\n",
    "forum_list = get_forum_list(forums_csv)\n",
    "test_forums = [forum_list[5], forum_list[6], forum_list[9]]\n",
    "\n",
    "# # for idx, forum in enumerate(forum_list[:10]):\n",
    "# #     print idx, forum['fid'], forum['threads'], forum['name']\n",
    "\n",
    "# # for forum in test_forums:\n",
    "# #     print forum['fid'], forum['threads'], forum['name']"
   ]
  },
  {
   "cell_type": "markdown",
   "metadata": {
    "deletable": true,
    "editable": true
   },
   "source": [
    "#### TO REMOVE ALREADY RETRIEVED FORUMS WHEN RESUMING "
   ]
  },
  {
   "cell_type": "code",
   "execution_count": 156,
   "metadata": {
    "collapsed": false,
    "deletable": true,
    "editable": true
   },
   "outputs": [
    {
     "name": "stdout",
     "output_type": "stream",
     "text": [
      "ORIGINAL FORUMS: 43\n",
      "RETRIEVED FORUMS: 25\n",
      "FORUMS REMAINNIG: 18\n",
      "\n",
      "TOTAL FORUMS: 43\n"
     ]
    }
   ],
   "source": [
    "full_forum_list = get_forum_list(forums_csv)\n",
    "\n",
    "path = 'data/forums/' # end in '/' so we can add filename later\n",
    "\n",
    "retrieved_fids = os.listdir(path)#[1:] # skips .DS_Store IF THERE IS ONE\n",
    "retrieved_fids.remove('logs')\n",
    "\n",
    "remaining_forum_list = remove_retrieved_forums(full_forum_list, retrieved_fids)\n",
    "\n",
    "# TO FIND NUMBER OF DIRECTORIES IT SHOULD EQUAL DO 'echo */ | wc'\n",
    "# LOOK AT SECOND NUMBER, THEN SUBTRACT 1 ('logs')\n",
    "\n",
    "print 'ORIGINAL FORUMS:', len(full_forum_list)\n",
    "print 'RETRIEVED FORUMS:', len(retrieved_fids)\n",
    "print 'FORUMS REMAINNIG:', len(remaining_forum_list)\n",
    "print ''\n",
    "print 'TOTAL FORUMS:', len(retrieved_fids) + len(remaining_forum_list)"
   ]
  },
  {
   "cell_type": "markdown",
   "metadata": {
    "deletable": true,
    "editable": true
   },
   "source": [
    "#### DOES NOT REQURE LOGIN"
   ]
  },
  {
   "cell_type": "code",
   "execution_count": 157,
   "metadata": {
    "collapsed": false,
    "deletable": true,
    "editable": true
   },
   "outputs": [
    {
     "name": "stdout",
     "output_type": "stream",
     "text": [
      "200 http://prisontalk.com/\n",
      "200 http://www.prisontalk.com/forums/\n"
     ]
    }
   ],
   "source": [
    "# HUMANS START AT START PAGE (OOOOOOOOOO...HOW TRICKY OF ME...!)\n",
    "s = requests.session()\n",
    "response = s.get('http://prisontalk.com', headers=headers)\n",
    "\n",
    "print response.status_code, response.url # 200 http://prisontalk.com/\n",
    "# print_headers(response.headers)\n",
    "\n",
    "time.sleep(3)\n",
    "\n",
    "# THEN HUMANS CLICK ON THE FORUMS PAGE (AGAIN, A REAL TRICKSTER I AM.)\n",
    "forum_list_url = 'http://www.prisontalk.com/forums/'\n",
    "forum_list_res = s.get(forum_list_url, headers=headers)\n",
    "\n",
    "print forum_list_res.status_code, forum_list_res.url # 200 http://prisontalk.com/forums/\n",
    "# print_headers(response.headers)"
   ]
  },
  {
   "cell_type": "markdown",
   "metadata": {
    "deletable": true,
    "editable": true
   },
   "source": [
    "#### SETUP VARIABLES"
   ]
  },
  {
   "cell_type": "code",
   "execution_count": 158,
   "metadata": {
    "collapsed": true,
    "deletable": true,
    "editable": true
   },
   "outputs": [],
   "source": [
    "# # THIS ANNOYS ME THAT I NEED TO REQUEST THE INITIAL PAGE TWICE \n",
    "# # BUT MY BRAIN IS TOO TIRED TO ABSTRACT OUT THE FIRST PART\n",
    "\n",
    "# TODO: SEND AN UPDATE ONCE AN EVENING...?\n",
    "# TODO: RENAME ALL TEST_FORUM(S) FORUM(S)\n",
    "\n",
    "# MIN/MAX SCRAPE/BREAK TIMES IN MINUTES\n",
    "min_time = 8\n",
    "max_time = 18\n",
    "\n",
    "# HOW LONG WE'LL INITIALLY SCRAPE FOR BEFORE TAKING A BREAK\n",
    "start_time, scrape_time = get_next_scrape_times(min_time, max_time)\n",
    "\n",
    "file_path = 'data/forums/'\n",
    "log_path = file_path + 'logs/'\n",
    "\n",
    "# LOAD ALL FORUMS\n",
    "forums_csv = 'data/forum_ids.csv'\n",
    "full_forum_list = get_forum_list(forums_csv)\n",
    "\n",
    "# GET LIST OF ALREADY RETRIEVED ID'S FROM DIRECTORY AND REMOVE 'logs'\n",
    "retrieved_fids = os.listdir(path)#[1:] # skips .DS_Store IF THERE IS ONE\n",
    "retrieved_fids.remove('logs')\n",
    "\n",
    "# GET REMAINING FORUMS BY REMOVING ALREADY RETRIEVED FORUMS FROM FULL LIST\n",
    "test_forums = remove_retrieved_forums(full_forum_list, retrieved_fids)\n",
    "\n",
    "\n",
    "\n",
    "# progress_states = ['forum_complete', 'downtime', 'continuing', 'finished'] # USED FOR TESTING\n",
    "# forum_complete = False # I THINK THIS CAN BE MOVED INTO THE TRY CASE AND WE CAN REMOVE THE SWITCH IN THE THIRD IF...?\\"
   ]
  },
  {
   "cell_type": "markdown",
   "metadata": {
    "deletable": true,
    "editable": true
   },
   "source": [
    "#### SCRAPE"
   ]
  },
  {
   "cell_type": "code",
   "execution_count": null,
   "metadata": {
    "collapsed": false,
    "deletable": true,
    "editable": true
   },
   "outputs": [],
   "source": [
    "# TODO: WHEN SMALLER FORUMS, SEE IF REMOVING SECOND 'FORUM COMPLETE' IS OKAY\n",
    "# TODO: REMOVE FINAL WAIT TIME (AFTER LAST FORUM IS RETRIEVED)\n",
    "# TODO: CHANGE 'CONTINUING' STATUS TO GIVE CORRECT FORUM IS STARTING A NEW ONE\n",
    "\n",
    "# COULD DO WHILE LOOP BUT I HATE THE THOUGHT OF ACCIDENTALLY INDUCING INFINITY\n",
    "for test_forum in test_forums:\n",
    "    \n",
    "    try:\n",
    "        # STARTING NEW FORUM, (RE)SET FORUM COMPLETION TO FALSE\n",
    "        forum_complete = False\n",
    "        forum_id = test_forum['fid'] # NOT NECCESSARY BUT I USE IT LATER IN THE FOR LOOP\n",
    "        \n",
    "        test_forum['forum_url'] = get_forum_url(forum_id, 0) # GET INITIAL URL\n",
    "        test_forum['num_pages'] = get_num_thread_pages(test_forum['forum_url'], headers) # GET NO. THREAD PAGES\n",
    "\n",
    "        pages = range(test_forum['num_pages']) # TURN NUMBER OF THREAD PAGES INTO LIST\n",
    "        \n",
    "        logger = create_forum_logger(log_path, forum_id)\n",
    "        logger.info('STARTING RETRIEVAL OF ' + str(test_forum['num_pages']) + ' PAGES OF FORUM ID ' + str(forum_id))\n",
    "\n",
    "    # KEEPING TRY FOR NOW IN CASE WE NEED TO DEBUG, WILL NEED TO INDENT ALL BY ONE\n",
    "    # try:\n",
    "\n",
    "        for page in pages:\n",
    "        # IF THERE ARE STILL PAGES TO RETRIEVE AND IT'S NOT BREAK TIME, ELSE, SEE ELSE\n",
    "\n",
    "            # CREATE URL TO RETRIEVE\n",
    "            thread_page_url = get_forum_url(forum_id, page)\n",
    "            logger.info('GETTING: ' + str(thread_page_url.split('?')[-1])) #'f=39&order=DESC&sort=posts&pp=100&page=25'\n",
    "\n",
    "            # GET PAGE\n",
    "            thread_page = s.get(thread_page_url, headers=headers)\n",
    "            logger.info('STATUS CODE: ' + str(thread_page.status_code))\n",
    "\n",
    "            # IF YOU GET A GOOD STATUS CODE HOPEFULLY THE PAGE IS RETRIEVED THEN SAVE IT, IF NOT, RAISE EXCEPTION\n",
    "            if not thread_page.raise_for_status():\n",
    "\n",
    "                #SAVE FILE\n",
    "                saved_file_location = save_html_file(thread_page, file_path, forum_id, page)\n",
    "                logger.info('WROTE PAGE TO: ' + saved_file_location)\n",
    "\n",
    "                # LET'S WAIT A FEW SECONDS SO WE DON'T SEEM SO MECHANICAL AND OVERLOAD THEY'RE SYSTEM\n",
    "                page_wait_time = random.randint(6, 10)\n",
    "                logger.info('WAITING: ' + str(page_wait_time) + ' SECONDS')\n",
    "\n",
    "                # WAIT IN SECONDS BEFORE GETTING THE NEXT PAGE\n",
    "                time.sleep(page_wait_time)\n",
    "\n",
    "            # THE IMPLICATION HERE IS THAT SINCE IT'S NOT BREAK TIME WE'VE REACHED, TODO: PUT IN ELSE?\n",
    "            if page == pages[-1]:\n",
    "\n",
    "                logger.info('REACHED PAGE ' + str(page + 1) + ' OF ' + str(pages[-1] + 1) + ' FORUM ' + str(forum_id) + ' COMPLETE!')\n",
    "\n",
    "                # SINCE WE'RE DONE WITH THIS THREAD, FLIP THE SWITCH TO UTILIZE NEXT 'IF'\n",
    "                forum_complete = True\n",
    "\n",
    "            if time_to_take_a_break(start_time, scrape_time) or forum_complete:\n",
    "\n",
    "                # SET THE CURRENT STATUS TO CAN SEND THE CORRECT NOTIFICATION\n",
    "                if forum_complete:\n",
    "                    current_status = 'forum_complete'\n",
    "                    forum_complete = False # RESET STATUS OF FORUM COMPLETION, MAY NOT NEED SINCE VAR IS RESET AT START?\n",
    "                else:\n",
    "                    current_status = 'downtime'\n",
    "\n",
    "                # CALCULATE BREAK TIME IN MINUTES\n",
    "                length_of_time = random.randint(min_time, max_time)\n",
    "                logger.info('TAKING A ' + str(length_of_time) + ' MINUTE BREAK.  TALK SOON.')\n",
    "\n",
    "                # LET ME KNOW CURRENT STATUS\n",
    "                report_sent = send_progress_report(current_status, forum_id, length_of_time)\n",
    "\n",
    "                # BREAK TIME! (IN SECONDS)\n",
    "                time.sleep(length_of_time * 60)\n",
    "\n",
    "                # CHANGE STATUS BACK TO RUNNING\n",
    "                current_status = 'continuing'\n",
    "\n",
    "                # LET ME KNOW THAT THINGS ARE RESUMING\n",
    "                logger.info('WAIT TIME OVER. RESUMING PAGE RETRIEVAL\\n')\n",
    "\n",
    "                # CREATE NEW START TIME AND BREAK TIME            \n",
    "                start_time, scrape_time = get_next_scrape_times(min_time, max_time)\n",
    "\n",
    "                # LET ME KNOW WE'RE BACK ON THE CASE\n",
    "                report_sent = send_progress_report(current_status, forum_id, scrape_time)\n",
    "\n",
    "    # IF THERE IS ANY PROBLEM WHATSOEVER\n",
    "    except Exception as err:\n",
    "\n",
    "        logger.info('CRITICAL ERROR:', err.__class__.__name__, err)\n",
    "\n",
    "        # PLEASE LET ME KNOW\n",
    "        report_sent = send_critical_report(err, traceback)\n",
    "\n",
    "        # LOG SUCCESS/FAILURE OF REPORT\n",
    "        if report_sent:\n",
    "            logger.info('WORD\\'S OUT. REPORT SENT\\n')\n",
    "        else:\n",
    "            logger.info('NOT SURE WHY BUT YOU COULD NOT BE REACHED BY YOURSELF.  BUMMER.\\n')\n",
    "\n",
    "        # SHUT IT DOWN. IF WE DON'T WE'LL KEEP RECEIVING NOTIFICATIONS\n",
    "        print traceback.format_exc()\n",
    "\n",
    "        raise\n",
    "        \n",
    "logger.info('WE DID IT. ALL FORUMS DOWNLOADED. PEACE.\\n')\n",
    "report_sent = send_progress_report('finished', forum_id, scrape_time)"
   ]
  },
  {
   "cell_type": "markdown",
   "metadata": {
    "deletable": true,
    "editable": true
   },
   "source": [
    "#### PLACE TO TEST EXCEPTIONS"
   ]
  },
  {
   "cell_type": "code",
   "execution_count": 349,
   "metadata": {
    "collapsed": false,
    "deletable": true,
    "editable": true
   },
   "outputs": [],
   "source": [
    "# for i in [0,1,2]:\n",
    "    \n",
    "#     try:\n",
    "#         if i == 1:\n",
    "#             1/0\n",
    "#         else: \n",
    "#             print 'i is equal to', i\n",
    "        \n",
    "#     except Exception as err:\n",
    "\n",
    "# #         print err.__class__.__name__, err\n",
    "        \n",
    "# #         print traceback.format_exc()\n",
    "\n",
    "#         raise"
   ]
  },
  {
   "cell_type": "markdown",
   "metadata": {
    "deletable": true,
    "editable": true
   },
   "source": [
    "### FUNCTIONS"
   ]
  },
  {
   "cell_type": "markdown",
   "metadata": {
    "deletable": true,
    "editable": true
   },
   "source": [
    "#### SEND PROGRESS REPORT"
   ]
  },
  {
   "cell_type": "code",
   "execution_count": 87,
   "metadata": {
    "collapsed": false,
    "deletable": true,
    "editable": true
   },
   "outputs": [],
   "source": [
    "def send_progress_report(progress, forum, minutes):\n",
    "    \n",
    "    try:\n",
    "\n",
    "        logger.info('PROGRES REPORT! SENT YOU A TEXT/EMAIL')\n",
    "\n",
    "        txt_msg = MIMEMultipart()\n",
    "\n",
    "        txt_msg['From']= 'YOUR SCRAPER'\n",
    "        txt_msg['To'] = '***REMOVED***'\n",
    "        txt_msg['Subject'] = 'GOOD NEWS EVERYONE!'\n",
    "        txt_body = 'CHECK YOUR EMAIL.'\n",
    "\n",
    "        txt_msg.attach(MIMEText(txt_body))\n",
    "\n",
    "\n",
    "        email_msg = MIMEMultipart()\n",
    "\n",
    "        email_msg['From']=' YOUR SCRAPER'\n",
    "        email_msg['To'] = '***REMOVED***'\n",
    "        email_msg['Subject'] = 'PROGRESS REPORT'\n",
    "        \n",
    "        if progress == 'forum_complete':\n",
    "        \n",
    "            email_body =  'SO FAR SO GOOD. \\r\\n' \\\n",
    "                        + 'JUST FINISHED DOWNLOADING FORUM ' + str(forum) + '\\r\\n' \\\n",
    "                        + 'TAKING A BREAK FOR ' + str(minutes) + ' MINUTES TO KEEP UNDER THE RADAR\\r\\n' \\\n",
    "                        + 'I\\'LL LET YOU KNOW WHEN I\\'M BACK AT IT\\r\\n' \\\n",
    "                        + 'TAKE CARE!'\n",
    "                    \n",
    "        elif progress == 'downtime':\n",
    "                \n",
    "            email_body =  'SO FAR SO GOOD. \\r\\n' \\\n",
    "                        + 'STILL DOWNLOADING PAGES FROM FORUM ' + str(forum) + '\\r\\n' \\\n",
    "                        + 'GONNA TAKE SOME DOWNTIME FOR ' + str(minutes) + ' MINUTES TO KEEP UNDER THE RADAR' + '\\r\\n' \\\n",
    "                        + 'I\\'LL LET YOU KNOW WHEN I\\'M BACK AT IT\\r\\n' \\\n",
    "                        + 'BE SEEING YOU!'\n",
    "                    \n",
    "        elif progress == 'continuing':\n",
    "            \n",
    "            email_body =  'YAAAAAAAAWN. \\r\\n' \\\n",
    "                        + 'OKAY, GOING BACK AT IT FOR ANOTHER ' + str(minutes) + ' MINUTES\\r\\n' \\\n",
    "                        + 'CONTINUING TO DOWNLOAD PAGES FROM FORUM ' + str(forum) + '\\r\\n' \\\n",
    "                        + 'TALK SOON!'\n",
    "                        \n",
    "        elif progress == 'finished':\n",
    "            \n",
    "            email_body =  'ALL DONE WITH WHATEVER YOU WERE HAVING ME DO. \\r\\n' \\\n",
    "                        + 'MAYBE EXPAND THIS FUNCTION TO TELL YOU WHAT I\\'VE FINISHED?  \\r\\n' \\\n",
    "                        + 'IN THE MEANTIME, I\\'M PRETTY CACHED, AND GRATEFUL WE DIDN\\'T GET BANNED \\r\\n' \\\n",
    "                        + 'PEACE OUT.'\n",
    "        \n",
    "        email_msg.attach(MIMEText(email_body, 'plain'))\n",
    "        \n",
    "        smtp_gmail = smtplib.SMTP('smtp.gmail.com', 587)\n",
    "        smtp_gmail.starttls()\n",
    "        smtp_gmail.login('***REMOVED***', '***REMOVED***')\n",
    "\n",
    "\n",
    "#         smtp_gmail.sendmail(txt_msg['From'], txt_msg['To'], txt_msg.as_string())\n",
    "        smtp_gmail.sendmail(email_msg['From'], email_msg['To'], email_msg.as_string())\n",
    "\n",
    "        smtp_gmail.close()\n",
    "        \n",
    "        return True\n",
    "        \n",
    "    except Exception as err:\n",
    "        \n",
    "        err_type = err.__class__.__name__\n",
    "        \n",
    "        logger.info('COULDN\\'T SEND PROGRESS REPORT:', err_type, err) \n",
    "        logger.info('TRIED TO REACH YOU. GOT VOICEMAIL. I THINK I\\'LL JUST QUIT WHILE I\\'M AHEAD')\n",
    "        \n",
    "        return False \n",
    "\n",
    "    \n",
    "\n",
    "# progress_states = ['forum_complete', 'downtime', 'continuing', 'finished']\n",
    "# forums = [11, 22, 33, 44 ]\n",
    "# break_times = [12, 34, 56, 78]\n",
    "\n",
    "# for progress_state, forum, break_time in zip(progress_states, forums, break_times):\n",
    "    \n",
    "#     report_sent = send_progress_report(progress_state, forum, break_time)\n",
    "\n",
    "#     if report_sent:\n",
    "#         print 'OMG.  FINALLY.'\n",
    "#     elif not report_sent:\n",
    "#         print 'IF THIS KEEPS HAPPENING, I\\'LL WALK, I SWEAR.'"
   ]
  },
  {
   "cell_type": "markdown",
   "metadata": {
    "deletable": true,
    "editable": true
   },
   "source": [
    "#### EMAIL SELF IF THERE IS AN ERROR SUCH THAT THE WHOLE THING HAS TO BE SHUT DOWN"
   ]
  },
  {
   "cell_type": "code",
   "execution_count": 88,
   "metadata": {
    "collapsed": false,
    "deletable": true,
    "editable": true
   },
   "outputs": [],
   "source": [
    "def send_critical_report(err, tb):\n",
    "    \n",
    "    try:\n",
    "\n",
    "        tb_str = tb.format_exc()\n",
    "        \n",
    "        # KEEPING THIS FOR NOW BUT NOT NECCESSARY ANYMORE B/C TRACEBACK CONTAINS ALL THE INFO\n",
    "        err_type = err.__class__.__name__ \n",
    "        \n",
    "\n",
    "        txt_msg = MIMEMultipart()\n",
    "\n",
    "        txt_msg['From']=' YOUR SCRAPER'\n",
    "        txt_msg['To'] = '***REMOVED***'\n",
    "        txt_msg['Subject'] = ' DON\\'T PANIC BUT...'\n",
    "        txt_body = 'CHECK YOUR EMAIL.'\n",
    "\n",
    "        txt_msg.attach(MIMEText(txt_body))\n",
    "\n",
    "\n",
    "        email_msg = MIMEMultipart()\n",
    "\n",
    "        email_msg['From']=' YOUR SCRAPER'\n",
    "        email_msg['To'] = '***REMOVED***'\n",
    "        email_msg['Subject'] = 'CRITICAL FAILURE'\n",
    "        email_body = 'ERROR:\\r\\n' + \\\n",
    "                    '\\r\\n' + \\\n",
    "                    tb_str + \\\n",
    "                    '\\r\\n' + \\\n",
    "                    'TRIED TO REACH YOU.\\r\\n' + \\\n",
    "                    'GOT VOICEMAIL.\\r\\n' + \\\n",
    "                    'GET READY FOR THE THUNDERDOME.\\r\\n' + \\\n",
    "                    'SHUT IT DOWN FOLKS. SHUT IT DOWN.'\n",
    "\n",
    "        email_msg.attach(MIMEText(email_body, 'plain'))\n",
    "\n",
    "\n",
    "        smtp_gmail = smtplib.SMTP('smtp.gmail.com', 587)\n",
    "        smtp_gmail.starttls()\n",
    "        smtp_gmail.login('***REMOVED***', '***REMOVED***')\n",
    "\n",
    "        \n",
    "        logger.info('DOUBLE CRITICAL FAILURE. SENT YOU A TEXT/EMAIL')\n",
    "        smtp_gmail.sendmail(txt_msg['From'], txt_msg['To'], txt_msg.as_string())\n",
    "        smtp_gmail.sendmail(email_msg['From'], email_msg['To'], email_msg.as_string())\n",
    "\n",
    "        smtp_gmail.close()\n",
    "        \n",
    "        return True\n",
    "        \n",
    "    except Exception as err:\n",
    "        \n",
    "        err_type = err.__class__.__name__\n",
    "        \n",
    "        logger.info('TRIPLE CRITICAL FAILURE: ' + err_type + ' ' + str(err)) \n",
    "        logger.info('TRIED TO REACH YOU. GOT VOICEMAIL. SHUT IT DOWN FOLKS! SHUT IT DOWN.')\n",
    "        \n",
    "        return False \n",
    "\n",
    "\n",
    "# TEST IN A LOOP BECAUSE PREVIOUSLY I DID NOT AND \n",
    "# IN A REAL WORLD SITUATION IN A LOOP, I WAS TEXT SPAMMED\n",
    "# BY MY OWN PROGRAM\n",
    "\n",
    "# file_path = 'data/forums/'\n",
    "# log_name = 'forum_'+ str(forum_id) + '.log'\n",
    "# msgfmt = '%(asctime)s %(levelname)s: %(message)s'\n",
    "# datefmt= '%d/%m/%Y %I:%M:%S %p'\n",
    "\n",
    "# reload(logging)\n",
    "# logging.basicConfig(filename=file_path + log_name, level=logging.INFO, format=msgfmt, datefmt=datefmt)\n",
    "# logger = logging.getLogger()\n",
    "\n",
    "# for i in range(2):\n",
    "    \n",
    "#     try:\n",
    "#         1/0\n",
    "#     except Exception as err:\n",
    "\n",
    "#         report_sent = send_critical_report(err, traceback)\n",
    "\n",
    "#         if report_sent:\n",
    "#             print 'OMG.  FINALLY.'\n",
    "#         elif not report_sent:\n",
    "#             print 'IF THIS KEEPS HAPPENING, I\\'LL WALK, I SWEAR.'\n",
    "#             raise\n",
    "# #         sys.exit()\n",
    "        \n",
    "\n",
    "# # SHOULD PRINT THE FOLLOWING AND SEND *ONE* TEXT AND EMAIL OF MESSAGE ABOVE\n",
    "# # OMG.  FINALLY.\n",
    "# # An exception has occurred, use %tb to see the full traceback.\n",
    "# # SystemExit"
   ]
  },
  {
   "cell_type": "markdown",
   "metadata": {
    "deletable": true,
    "editable": true
   },
   "source": [
    "#### HELPERS"
   ]
  },
  {
   "cell_type": "code",
   "execution_count": 135,
   "metadata": {
    "collapsed": false,
    "deletable": true,
    "editable": true,
    "scrolled": true
   },
   "outputs": [],
   "source": [
    "def remove_retrieved_forums(original_list, retrieved_fids):\n",
    "    # USED TO BE int(forum['fid']) but now list of fids is strings\n",
    "    return [forum for forum in original_list if forum['fid'] not in retrieved_fids]\n",
    "\n",
    "# forums_csv = 'data/forum_ids.csv'\n",
    "# original_forum_list = get_forum_list(forums_csv)\n",
    "# retrieved_fids = [12, 1506, 38, 39, 44, 583, 584, 645, 72]\n",
    "\n",
    "# new_forum_list = remove_retrieved_forums(original_forum_list, retrieved_fids)\n",
    "\n",
    "# print 'TOTAL FORUMS:', len(original_forum_list)\n",
    "# print 'RETRIEVED FORUMS:', len(retrieved_fids)\n",
    "# print 'FORUMS REMAINNIG:', len(new_forum_list)\n",
    "\n",
    "# # TOTAL FORUMS: 43\n",
    "# # RETRIEVED FORUMS: 9\n",
    "# # FORUMS REMAINNIG: 35"
   ]
  },
  {
   "cell_type": "code",
   "execution_count": 90,
   "metadata": {
    "collapsed": false,
    "deletable": true,
    "editable": true
   },
   "outputs": [],
   "source": [
    "def save_html_file(thread_page, path, forum_id, page):\n",
    "    \n",
    "    # NEW DIRECTORY PATH, EX: 'data/forums/28/'\n",
    "    forum_path = path + str(forum_id) + '/'\n",
    "    # NEW FILENAME, EX: 'fid_39_pg_14.html \n",
    "    file_name = 'fid_' + str(forum_id) + '_pg_' + str(page + 1) + '.hmtl'\n",
    "    \n",
    "    # CREATE FORUM_PATH DIRECTORY IF IT DOESN'T EXIST, ELSE, MOVE ON\n",
    "    Path(forum_path).mkdir(parents=False, exist_ok=True)\n",
    "\n",
    "    #SAVE FILE\n",
    "    with open(forum_path + file_name, 'w') as html_file:\n",
    "\n",
    "        html_file.write(thread_page.content)\n",
    "    \n",
    "    return forum_path + file_name\n",
    "    \n",
    "# forum_list_url = 'http://www.prisontalk.com/forums/'\n",
    "# forum_list_res = s.get(forum_list_url, headers=headers)\n",
    "\n",
    "# print forum_list_res.status_code, forum_list_res.url\n",
    "# save_html_file(forum_list_res, 'data/forums/', 12, 27)"
   ]
  },
  {
   "cell_type": "code",
   "execution_count": 91,
   "metadata": {
    "collapsed": false,
    "deletable": true,
    "editable": true
   },
   "outputs": [],
   "source": [
    "def create_forum_logger(file_path, forum_id):\n",
    "\n",
    "    log_file = 'forum_'+ str(forum_id) + '.log'\n",
    "    msgfmt = '%(asctime)s %(levelname)s: %(message)s'\n",
    "    datefmt= '%d/%m/%Y %I:%M:%S %p'\n",
    "    \n",
    "    reload(logging)\n",
    "    logging.basicConfig(filename=file_path + log_file, level=logging.INFO, format=msgfmt, datefmt=datefmt)\n",
    "    logging.Formatter.converter = time.gmtime # CHANGE TO UTC TIME\n",
    "    logger = logging.getLogger()\n",
    "    \n",
    "    return logger \n",
    "\n",
    "# fid = 'fid'\n",
    "# fpath = 'data/forums/'\n",
    "# log_path = fpath + 'logs/'\n",
    "# fpages = 'fpages'\n",
    "\n",
    "# logger = create_forum_logger(log_path, fid)\n",
    "# # SHOULD SEE?: DAY TIME LEVEL: STARTING RETRIEVAL OF fpages PAGES OF FORUM ID fid\n",
    "# logger.info('STARTING RETRIEVAL OF ' + str(fpages) + ' PAGES OF FORUM ID ' + str(fid))"
   ]
  },
  {
   "cell_type": "code",
   "execution_count": 100,
   "metadata": {
    "collapsed": false,
    "deletable": true,
    "editable": true
   },
   "outputs": [],
   "source": [
    "def get_next_scrape_times(time_one, time_two):\n",
    "\n",
    "    start_time = datetime.now() # TO SUBTRACT LATER\n",
    "    scrape_time = random.randint(time_one, time_two) # HOW LONG WE'LL SCRAPE FOR BEFORE TAKING A BREAK\n",
    "    \n",
    "    return start_time, scrape_time\n",
    "\n",
    "# # get_next_scrape_times(90, 150)\n",
    "\n",
    "# start, scrape = get_next_scrape_times(90, 150)\n",
    "# print start, scrape"
   ]
  },
  {
   "cell_type": "code",
   "execution_count": 93,
   "metadata": {
    "collapsed": false,
    "deletable": true,
    "editable": true
   },
   "outputs": [],
   "source": [
    "def time_to_take_a_break(start_time, minutes_to_scrape):\n",
    "    \n",
    "    current_time = datetime.now()\n",
    "    # NOT REALLY NECCESSARY IN MINUTE CONDITIONS BUT TESTS ARE IN SECONDS AND I'M IMPATIENT\n",
    "    seconds_to_scrape = int(minutes_to_scrape * 60.0) \n",
    "    \n",
    "    elapsed_time = current_time - start_time\n",
    "    \n",
    "#     print elapsed_time.total_seconds(), seconds_to_scrape\n",
    "    \n",
    "    return elapsed_time.total_seconds() >= seconds_to_scrape\n",
    "\n",
    "# min_to_scrape_false = 0.1341245 # ~8.047 seconds, returns False\n",
    "# min_to_scrape_true = 0.08343145 # ~5.005 seconds, returns True\n",
    "\n",
    "# start = datetime.now()\n",
    "# time.sleep(5)\n",
    "# time_to_take_a_break(start, min_to_scrape_false), time_to_take_a_break(start, min_to_scrape_true)"
   ]
  },
  {
   "cell_type": "code",
   "execution_count": 94,
   "metadata": {
    "collapsed": false,
    "deletable": true,
    "editable": true
   },
   "outputs": [],
   "source": [
    "def get_forum_url(forum_id, page):\n",
    "\n",
    "    forum = forum_id\n",
    "    order = 'DESC'\n",
    "    sort = 'posts'\n",
    "    pages_per = '100'\n",
    "    page = page + 1 # SINCE INEVITABLE ARRAY STARTS AT THE 0th ELEMENT, ADD 1\n",
    "\n",
    "    forum_url = 'http://prisontalk.com/forums/forumdisplay.php?'+ \\\n",
    "                                                'f='+str(forum)+ \\\n",
    "                                                '&order='+order+ \\\n",
    "                                                '&sort='+sort+ \\\n",
    "                                                '&pp='+pages_per+ \\\n",
    "                                                '&page='+str(page)\n",
    "    return forum_url\n",
    "\n",
    "# 'http://prisontalk.com/forums/forumdisplay.php?f=30&order=DESC&sort=posts&pp=100&page=3'\n",
    "# get_forum_url(30, 0)"
   ]
  },
  {
   "cell_type": "code",
   "execution_count": 95,
   "metadata": {
    "collapsed": false,
    "deletable": true,
    "editable": true
   },
   "outputs": [],
   "source": [
    "def get_forum_list(csv_filename):\n",
    "    \n",
    "    forum_list = []\n",
    "    \n",
    "    with open(csv_filename) as csv_file:\n",
    "        \n",
    "        reader = csv.DictReader(csv_file)\n",
    "        \n",
    "        # # TODO: ADD GET RETRIEVAL TIME TO ORIGINAL DictWriter FUNCTION\n",
    "        for forum in reader:\n",
    "            \n",
    "            forum['retrieval_time'] = get_retrieval_time(forum['threads'])\n",
    "            \n",
    "            forum_list.append(forum)\n",
    "            \n",
    "    return forum_list\n",
    "\n",
    "# csv_filename = 'data/forum_ids.csv'\n",
    "# forum_list = get_forum_list(csv_filename)\n",
    "\n",
    "# test_forums = [forum_list[1], forum_list[8], forum_list[18]]\n",
    "\n",
    "# for forum in test_forums[:3]:\n",
    "    \n",
    "#     print 'ID:', forum['fid'] # ID: 38\n",
    "#     print 'NAME:', forum['name'] # NAME: Introduce Yourself!\n",
    "#     print 'THREADS', forum['threads'] # THREADS 25870\n",
    "#     print 'RETRIEVAL TIME:', get_retrieval_time(forum['threads']), 'minutes' # RETRIEVAL TIME: 30 minutes\n",
    "#     print ''"
   ]
  },
  {
   "cell_type": "code",
   "execution_count": 96,
   "metadata": {
    "collapsed": false,
    "deletable": true,
    "editable": true
   },
   "outputs": [],
   "source": [
    "# NOTE: THIS DOES NOT ASSUME EVERY THREAD PAGE WILL HAVE >100 THREADS\n",
    "# NOT SURE WHY YOU SHOULD NOTE IT BUT I WROTE THAT A BIT AGO SO YOU'LL HAVE TO ASK ME THEN\n",
    "def get_num_thread_pages(forum_url, headers):\n",
    "    \n",
    "    try:\n",
    "        initial_forum_page = s.get(forum_url, headers=headers)\n",
    "        \n",
    "        thread_page = str(BeautifulSoup(initial_forum_page.content, 'html.parser'))\n",
    "#         thread_page = str(thread_page)\n",
    "        no_literals = thread_page.replace('\\n', '').replace('\\t', '').replace('\\r', '')\n",
    "        thread_page = BeautifulSoup(no_literals, 'html.parser')# skip u'html PUBLIC \"-//W3C//\n",
    "    \n",
    "        # THERE IS A TOP AND BOTTOM NAV SO WE'LL JUST TAKE THE TOP\n",
    "        nav = thread_page.find_all('div', {'class':'pagenav'})[0]\n",
    "        page_x_of_y = nav.find_all('td', {'class':'vbmenu_control'})[0]\n",
    "        num_pages = page_x_of_y.text.split(' ')[-1]\n",
    "        \n",
    "    except IndexError as er:\n",
    "        \n",
    "        num_pages = 1\n",
    "    \n",
    "    return int(num_pages)\n",
    "\n",
    "# forum_id_39 = forum_list[0] # ASSUMING WE HAVEN'T SHUFFLED LIST\n",
    "# forum_id_39['forum_url'] = get_forum_url(forum_id_39['fid'], 0)\n",
    "\n",
    "# forum_id_39['num_pages'] = get_num_thread_pages(forum_id_39['forum_url'], headers)  #101 FOR FORUM 39\n",
    "# print forum_id_39['num_pages'], 'PAGES OF 100 THREADS EACH:', forum_id_39['forum_url']\n",
    "# # 101 PAGES OF 100 THREADS EACH: http://prisontalk.com/forums/forumdisplay.php?f=39&order=DESC&sort=posts&pp=100&page=1"
   ]
  },
  {
   "cell_type": "code",
   "execution_count": 97,
   "metadata": {
    "collapsed": false,
    "deletable": true,
    "editable": true
   },
   "outputs": [],
   "source": [
    "def get_retrieval_time(threads):\n",
    "    \n",
    "    average_page_wait = 7\n",
    "    \n",
    "    pages = int(threads)/100\n",
    "    \n",
    "    total_seconds = pages * 7\n",
    "    \n",
    "    total_minutes = total_seconds/60\n",
    "    \n",
    "    return total_minutes\n",
    "\n",
    "# test_forums = [forum_list[1], forum_list[8], forum_list[18]]\n",
    "\n",
    "# prints\n",
    "# ID: 38\n",
    "# NAME: Introduce Yourself!\n",
    "# THREADS 25870\n",
    "# RETRIEVAL TIME: 30 minutes\n",
    "\n",
    "# for forum in test_forums:\n",
    "    \n",
    "#     print 'ID:', forum['fid']\n",
    "#     print 'NAME:', forum['name']\n",
    "#     print 'THREADS', forum['threads']\n",
    "#     print 'RETRIEVAL TIME:', get_retrieval_time(forum['threads']), 'minutes'\n",
    "#     print ''"
   ]
  },
  {
   "cell_type": "code",
   "execution_count": 98,
   "metadata": {
    "collapsed": false,
    "deletable": true,
    "editable": true
   },
   "outputs": [],
   "source": [
    "def print_headers(response):\n",
    "    \n",
    "    print 'RESPONSE HEADERS'\n",
    "    for key, val in response.headers.iteritems():\n",
    "        print key + ':', val\n",
    "    print ''\n",
    "    print 'REQUEST HEADERS'\n",
    "    for key, val in response.request.headers.iteritems():\n",
    "        print key + ':', val\n",
    "        \n",
    "# s = requests.session()\n",
    "# test_response = s.get('http://prisontalk.com', headers=headers)\n",
    "# print_headers(test_response)\n",
    "\n",
    "# # RESPONSE HEADERS\n",
    "# # Date: Mon, 26 Feb 2018 20:57:24 GMT\n",
    "# # Server: Apache/2.2.3 (CentOS)\n",
    "# # ...\n",
    "# # Transfer-Encoding: chunked\n",
    "# # Content-Type: text/html; charset=ISO-8859-1\n",
    "    \n",
    "# # REQUEST HEADERS\n",
    "# # Connection: keep-alive\n",
    "# # Accept-Encoding: gzip, deflate\n",
    "# # ...\n",
    "# # DNT: 1\n",
    "# # Host: www.prisontalk.com"
   ]
  },
  {
   "cell_type": "markdown",
   "metadata": {
    "deletable": true,
    "editable": true
   },
   "source": [
    "#### LOGIN"
   ]
  },
  {
   "cell_type": "code",
   "execution_count": 4,
   "metadata": {
    "collapsed": false,
    "deletable": true,
    "editable": true
   },
   "outputs": [],
   "source": [
    "username = 'YOUR USERNAME'\n",
    "password = 'YOUR PASSWORD'\n",
    "\n",
    "login_form = {\n",
    "                'vb_login_username': username, \n",
    "                'vb_login_password': password,\n",
    "                'do': 'login',\n",
    "                'url': '/forums/memberlist.php', \n",
    "                'vb_login_md5password': '',\n",
    "                'vb_login_md5password_utf': '',\n",
    "                's': '',\n",
    "                'securitytoken': 'guest'\n",
    "             }\n",
    "\n",
    "# login_form"
   ]
  },
  {
   "cell_type": "code",
   "execution_count": 62,
   "metadata": {
    "collapsed": false,
    "deletable": true,
    "editable": true
   },
   "outputs": [
    {
     "name": "stdout",
     "output_type": "stream",
     "text": [
      "200 http://prisontalk.com/\n"
     ]
    }
   ],
   "source": [
    "# HUMANS START AT START PAGE\n",
    "s = requests.session()\n",
    "response = s.get('http://prisontalk.com')\n",
    "\n",
    "print response.status_code, response.url\n",
    "\n",
    "# print 'RESPONSE HEADERS'\n",
    "# for key, val in response.headers.iteritems():\n",
    "#     print key + ':', val\n",
    "# print ''\n",
    "# print 'REQUEST HEADERS'\n",
    "# for key, val in response.request.headers.iteritems():\n",
    "#     print key + ':', val"
   ]
  },
  {
   "cell_type": "code",
   "execution_count": null,
   "metadata": {
    "collapsed": true,
    "deletable": true,
    "editable": true
   },
   "outputs": [],
   "source": [
    "prison_talk = BeautifulSoup(response.content, 'lxml')"
   ]
  },
  {
   "cell_type": "code",
   "execution_count": 10,
   "metadata": {
    "collapsed": false,
    "deletable": true,
    "editable": true
   },
   "outputs": [],
   "source": [
    "# login_url = 'http://www.prisontalk.com/forums/login.php?do=login'\n",
    "\n",
    "# login_response = s.post(login_url, data=login_form)\n",
    "print login_response.status_code\n",
    "login_page = BeautifulSoup(login_response.content, 'lxml')"
   ]
  },
  {
   "cell_type": "code",
   "execution_count": 17,
   "metadata": {
    "collapsed": false,
    "deletable": true,
    "editable": true
   },
   "outputs": [],
   "source": [
    "# print login_page.prettify()"
   ]
  },
  {
   "cell_type": "code",
   "execution_count": 15,
   "metadata": {
    "collapsed": false,
    "deletable": true,
    "editable": true
   },
   "outputs": [
    {
     "data": {
      "text/plain": [
       "True"
      ]
     },
     "execution_count": 15,
     "metadata": {},
     "output_type": "execute_result"
    }
   ],
   "source": [
    "# CHECK THAT LOGIN SUCCEEDED\n",
    "bool(login_page.find_all(string=re.compile('redirect')))"
   ]
  },
  {
   "cell_type": "code",
   "execution_count": 11,
   "metadata": {
    "collapsed": false,
    "deletable": true,
    "editable": true
   },
   "outputs": [
    {
     "data": {
      "text/plain": [
       "200"
      ]
     },
     "execution_count": 11,
     "metadata": {},
     "output_type": "execute_result"
    }
   ],
   "source": [
    "login_form = get_login_form(login_page, 'YOUR USERNAME', 'YOUR PASSWORD')\n",
    "login_form\n",
    "logged_in = s.post(login_url, data=login_form, headers=headers)\n",
    "logged_in.status_code"
   ]
  },
  {
   "cell_type": "code",
   "execution_count": 12,
   "metadata": {
    "collapsed": false,
    "deletable": true,
    "editable": true
   },
   "outputs": [],
   "source": [
    "def get_login_form(content, username, password):\n",
    "    \n",
    "    hidden_inputs = content.find_all('input', type='hidden')\n",
    "    form = { hidden_input.get('name') : hidden_input.get('value') for hidden_input in hidden_inputs}\n",
    "    form['vb_login_username'] = username\n",
    "    form['vb_login_password'] = password\n",
    "    \n",
    "    return form\n",
    "\n",
    "# login_form(login_page, '***REMOVED***', '***REMOVED***')\n",
    "\n",
    "# SHOULD RETURN SOMETHING LIKE THIS\n",
    "# {'childforums': '1',\n",
    "#  'daysprune': '',\n",
    "#  'do': 'login',\n",
    "#  'exactname': '1',\n",
    "#  'quicksearch': '1',\n",
    "#  's': '9cb4afa5672281f960f38061b55124d4',\n",
    "#  'securitytoken': 'guest',\n",
    "#  'url': '/forums/memberlist.php?order=DESC&sort=posts&pp=100&page=1',\n",
    "#  'vb_login_md5password': None,\n",
    "#  'vb_login_md5password_utf': None,\n",
    "#  'vb_login_password': '***REMOVED***',\n",
    "#  'vb_login_username': '***REMOVED***'}\n",
    "# login_form = login_form(login_page, '***REMOVED***', '***REMOVED***')\n",
    "# logged_in = s.post(login_url, data=login_form, headers=headers)\n",
    "# logged_in.status_code"
   ]
  },
  {
   "cell_type": "markdown",
   "metadata": {
    "deletable": true,
    "editable": true
   },
   "source": [
    "#### LOGOUT"
   ]
  },
  {
   "cell_type": "code",
   "execution_count": 15,
   "metadata": {
    "collapsed": false,
    "deletable": true,
    "editable": true
   },
   "outputs": [
    {
     "data": {
      "text/plain": [
       "200"
      ]
     },
     "execution_count": 15,
     "metadata": {},
     "output_type": "execute_result"
    }
   ],
   "source": [
    "logout_form = get_logout_form(members_page)\n",
    "logout_form\n",
    "logged_out = s.post(login_url, data=logout_form, headers=headers)\n",
    "logged_out.status_code"
   ]
  },
  {
   "cell_type": "code",
   "execution_count": 16,
   "metadata": {
    "collapsed": false,
    "deletable": true,
    "editable": true
   },
   "outputs": [
    {
     "data": {
      "text/plain": [
       "True"
      ]
     },
     "execution_count": 16,
     "metadata": {},
     "output_type": "execute_result"
    }
   ],
   "source": [
    "logout_page = BeautifulSoup(logged_out.content)\n",
    "bool(logout_page.find_all(string=re.compile('All cookies cleared!')))"
   ]
  },
  {
   "cell_type": "code",
   "execution_count": 3,
   "metadata": {
    "collapsed": false,
    "deletable": true,
    "editable": true
   },
   "outputs": [
    {
     "name": "stdout",
     "output_type": "stream",
     "text": [
      "200\n"
     ]
    }
   ],
   "source": [
    "# actual_logout_url = 'http://www.prisontalk.com/forums/login.php?do=logout&logouthash=1488913889-27078f9aebdfa124592c6aec5bf7fb354d8ccc5a'\n",
    "# actual_members_url = 'http://prisontalk.com/forums/memberlist.php?order=DESC&sort=posts&pp=100&page=1'\n",
    "\n",
    "order = 'DESC'\n",
    "sort = 'posts'\n",
    "pages_per = '100'\n",
    "page = 1\n",
    "\n",
    "members_url = 'http://prisontalk.com/forums/memberlist.php?order='+order+'&sort='+sort+'&pp='+pages_per+'&page='+str(page)\n",
    "\n",
    "# s = requests.session()\n",
    "# response = s.get(members_url, headers=headers)\n",
    "# print response.status_code"
   ]
  },
  {
   "cell_type": "code",
   "execution_count": 13,
   "metadata": {
    "collapsed": false,
    "deletable": true,
    "editable": true
   },
   "outputs": [],
   "source": [
    "def get_logout_form(content):\n",
    "    \n",
    "    hidden_inputs = content.find_all('input', attrs={'type':'hidden'})\n",
    "    logout_form = { hidden_input.get('name') : hidden_input.get('value') for hidden_input in hidden_inputs}\n",
    "    logout_form['do'] = 'logout'\n",
    "    logout_form['logouthash'] = logout_form['securitytoken']\n",
    "    \n",
    "    return logout_form\n",
    "\n",
    "# logout_form(some_response)\n",
    "# {'childforums': '1',\n",
    "#  'daysprune': '',\n",
    "#  'do': 'logout',\n",
    "#  'exactname': '1',\n",
    "#  'logouthash': '1490140816-e339d91901d66f6437b3b47164b82460ea981106',\n",
    "#  'quicksearch': '1',\n",
    "#  's': '',\n",
    "#  'securitytoken': '1490140816-e339d91901d66f6437b3b47164b82460ea981106',\n",
    "#  'usergroupid': '0'}\n",
    "\n",
    "# logged_out = s.post(login_url, data=logout_form, headers=headers)\n",
    "# logged_out.status_code\n",
    "\n",
    "# lgo = BeautifulSoup(logged_out.content)\n",
    "# bool(lgo.find_all(string=re.compile('All cookies cleared!')))"
   ]
  },
  {
   "cell_type": "code",
   "execution_count": 254,
   "metadata": {
    "collapsed": false,
    "deletable": true,
    "editable": true
   },
   "outputs": [],
   "source": [
    "# TODO: I'm meh about this whole technique.  Something about it is not quite extensible...?\n",
    "def get_logout_hash(href):\n",
    "    return href and re.compile('logouthash').search(href)\n",
    "\n",
    "#'http://www.prisontalk.com/forums/login.php?do=logout&logouthash=1488913889-27078f9aebdfa124592c6aec5bf7fb354d8ccc5a'\n",
    "# ml = BeautifulSoup(members_list.text)\n",
    "# get_logout_url(ml)"
   ]
  },
  {
   "cell_type": "code",
   "execution_count": 351,
   "metadata": {
    "collapsed": false,
    "deletable": true,
    "editable": true
   },
   "outputs": [],
   "source": [
    "page = BeautifulSoup(logged_out.content)\n",
    "\n",
    "with open('logged_out'+str(2)+'.html', 'w') as html_file:\n",
    "    html_file.write(page.prettify('utf-8'))"
   ]
  },
  {
   "cell_type": "markdown",
   "metadata": {
    "deletable": true,
    "editable": true
   },
   "source": [
    "#### NOT SURE WHY I FEEL I NEED TO KEEP THIS FOR NOW"
   ]
  },
  {
   "cell_type": "code",
   "execution_count": 360,
   "metadata": {
    "collapsed": false,
    "deletable": true,
    "editable": true
   },
   "outputs": [
    {
     "name": "stdout",
     "output_type": "stream",
     "text": [
      "START: 2018-02-22 06:39:34.675765 SCRAPE: 0:00:05 START + SCRAPE: 2018-02-22 06:39:39.675765\n"
     ]
    }
   ],
   "source": [
    "from datetime import timedelta\n",
    "\n",
    "# type(elapsed_time.total_seconds())\n",
    "\n",
    "start_time = datetime.now()\n",
    "scrape_time = timedelta(seconds=5)\n",
    "\n",
    "print 'START:', start_time, 'SCRAPE:', scrape_time, 'START + SCRAPE:', start_time + scrape_time"
   ]
  },
  {
   "cell_type": "code",
   "execution_count": 291,
   "metadata": {
    "collapsed": false,
    "deletable": true,
    "editable": true
   },
   "outputs": [],
   "source": [
    "# # THIS ENDED UP BEING STUPID BUT IT TOOK ME A LONG TIME TO FIGUIRE OUT SO\n",
    "# # I'M LEAVING IT FOREVER AS A TESTIMENT TO MY HATRED OF REGEX\n",
    "# no_carraige = members[0].text.replace('\\n', '').strip()\n",
    "# fields = re.split('\\s{2,}', no_carraige)\n",
    "# fields"
   ]
  },
  {
   "cell_type": "code",
   "execution_count": 168,
   "metadata": {
    "collapsed": false,
    "deletable": true,
    "editable": true
   },
   "outputs": [
    {
     "name": "stdout",
     "output_type": "stream",
     "text": [
      "101 PAGES OF 100 THREADS EACH: http://prisontalk.com/forums/forumdisplay.php?f=39&order=DESC&sort=posts&pp=100&page=1\n"
     ]
    }
   ],
   "source": [
    "# # TURNED INTO get_num_thread_pages() KEEPING FOR NOW JUST IN CASE\n",
    "# # TEST LIST IS FORUM 39, FOR NOW, START AT FIRST PAGE WHICH WILL BE 0th ELEMENT, MAYBE RANDOMIZE LATER\n",
    "# test_forum['forum_url'] = get_forum_url(test_forum['fid'], 0) \n",
    "\n",
    "# initial_forum_page = s.get(test_forum['forum_url'], headers=headers)\n",
    "\n",
    "# thread_page = BeautifulSoup(initial_forum_page.content, 'html.parser')\n",
    "# thread_page = str(thread_page)\n",
    "# no_literals = thread_page.replace('\\n', '').replace('\\t', '').replace('\\r', '')\n",
    "# thread_page = BeautifulSoup(no_literals, 'html.parser')# skip u'html PUBLIC \"-//W3C//\n",
    "\n",
    "# test_forum['num_pages'] = get_num_thread_pages(thread_page)\n",
    "# print test_forum['num_pages'], 'PAGES OF 100 THREADS EACH:', test_forum['forum_url']\n",
    "# # 101 PAGES OF 100 THREADS EACH: http://prisontalk.com/forums/forumdisplay.php?f=39&order=DESC&sort=posts&pp=100&page=1"
   ]
  },
  {
   "cell_type": "code",
   "execution_count": 166,
   "metadata": {
    "collapsed": false,
    "deletable": true,
    "editable": true
   },
   "outputs": [],
   "source": [
    "# NOTE: THIS DOES NOT ASSUME EVERY THREAD PAGE WILL HAVE >100 THREADS\n",
    "\n",
    "# def get_num_thread_pages(el):\n",
    "    \n",
    "#     try:\n",
    "    \n",
    "#         # THERE IS A TOP AND BOTTOM NAV SO WE'LL JUST TAKE THE TOP\n",
    "#         nav = el.find_all('div', {'class':'pagenav'})[0]\n",
    "#         page_x_of_y = nav.find_all('td', {'class':'vbmenu_control'})[0]\n",
    "#         num_pages = page_x_of_y.text.split(' ')[-1]\n",
    "        \n",
    "#     except IndexError as er:\n",
    "        \n",
    "#         num_pages = 1\n",
    "    \n",
    "#     return int(num_pages)\n",
    "\n",
    "# # get_num_thread_pages(thread_page)  #101 FOR FORUM 39"
   ]
  }
 ],
 "metadata": {
  "kernelspec": {
   "display_name": "Python 2",
   "language": "python",
   "name": "python2"
  },
  "language_info": {
   "codemirror_mode": {
    "name": "ipython",
    "version": 2
   },
   "file_extension": ".py",
   "mimetype": "text/x-python",
   "name": "python",
   "nbconvert_exporter": "python",
   "pygments_lexer": "ipython2",
   "version": "2.7.13"
  },
  "toc": {
   "colors": {
    "hover_highlight": "#DAA520",
    "navigate_num": "#000000",
    "navigate_text": "#333333",
    "running_highlight": "#FF0000",
    "selected_highlight": "#FFD700",
    "sidebar_border": "#EEEEEE",
    "wrapper_background": "#FFFFFF"
   },
   "moveMenuLeft": true,
   "nav_menu": {
    "height": "365px",
    "width": "252px"
   },
   "navigate_menu": true,
   "number_sections": true,
   "sideBar": true,
   "threshold": 4,
   "toc_cell": false,
   "toc_section_display": "block",
   "toc_window_display": false,
   "widenNotebook": false
  },
  "varInspector": {
   "cols": {
    "lenName": 16,
    "lenType": 16,
    "lenVar": 40
   },
   "kernels_config": {
    "python": {
     "delete_cmd_postfix": "",
     "delete_cmd_prefix": "del ",
     "library": "var_list.py",
     "varRefreshCmd": "print(var_dic_list())"
    },
    "r": {
     "delete_cmd_postfix": ") ",
     "delete_cmd_prefix": "rm(",
     "library": "var_list.r",
     "varRefreshCmd": "cat(var_dic_list()) "
    }
   },
   "types_to_exclude": [
    "module",
    "function",
    "builtin_function_or_method",
    "instance",
    "_Feature"
   ],
   "window_display": false
  }
 },
 "nbformat": 4,
 "nbformat_minor": 0
}
