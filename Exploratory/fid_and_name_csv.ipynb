{
 "cells": [
  {
   "cell_type": "code",
   "execution_count": 2,
   "metadata": {},
   "outputs": [],
   "source": [
    "import pandas as pd\n",
    "import os, sys\n",
    "import csv\n",
    "from pathlib2 import Path\n",
    "\n",
    "%matplotlib inline\n",
    "import matplotlib.pyplot as plt\n",
    "plt.style.use('ggplot')"
   ]
  },
  {
   "cell_type": "code",
   "execution_count": 3,
   "metadata": {},
   "outputs": [],
   "source": [
    "def get_forum_files(forum_path, suffix):\n",
    "    \n",
    "    forum_path = Path(forum_path)\n",
    "    all_files = [str(file) for file in forum_path.rglob('*.' + suffix)]\n",
    "    \n",
    "    return all_files"
   ]
  },
  {
   "cell_type": "code",
   "execution_count": 4,
   "metadata": {},
   "outputs": [],
   "source": [
    "def get_forum_id(forum_path):\n",
    "    \n",
    "    forum_id = forum_path.split('/')[-1].split('_')[1]\n",
    "\n",
    "    return forum_id\n",
    "\n",
    "# forum_path = '/l/nx/data/deepspace/prisontalk/data/fid_583_posts.csv'\n",
    "# fid = get_forum_id(forum_path)\n",
    "# fid"
   ]
  },
  {
   "cell_type": "code",
   "execution_count": 5,
   "metadata": {},
   "outputs": [],
   "source": [
    "def get_forum_ids(forum_paths):\n",
    "    \n",
    "    forum_ids = [int(get_forum_id(forum_path)) for forum_path in forum_paths]\n",
    "    \n",
    "    return forum_ids\n",
    "\n",
    "\n",
    "# data_path = '/l/nx/data/deepspace/prisontalk/data/'\n",
    "# forum_posts_path = 'forums/parsed/posts/'\n",
    "# forum_files = get_forum_files(data_path + forum_posts_path, 'csv')\n",
    "# file_fids = get_forum_ids(forum_files)\n",
    "# print len(file_fids)"
   ]
  },
  {
   "cell_type": "markdown",
   "metadata": {},
   "source": [
    "### FID TO FORUM NAME MAPPING\n",
    "\n",
    "The forum files only have a column for the forum id (fid), but not the name of the forum.  Therefore we will need a dictionary to map one to the other so that we can have propper titles on the plots. In order to do so, we will create a dataframe with the fid and name and save it to csv.  That way we can import it into any program we wish to.  While we could simply use forum_list.csv, it is important to make sure that this is done by file so we can be assured that each forum in the file will have one mapping and not have any doubts that something is missing. Forums 957 and 1627 (the ones that require a login) will be removed manually."
   ]
  },
  {
   "cell_type": "code",
   "execution_count": 8,
   "metadata": {},
   "outputs": [
    {
     "name": "stdout",
     "output_type": "stream",
     "text": [
      "FORUM LIST: 43 FORUM FILES 41\n"
     ]
    }
   ],
   "source": [
    "data_path = '/l/nx/data/deepspace/prisontalk/data/'\n",
    "forum_posts_path = 'forums/parsed/posts/'\n",
    "\n",
    "forum_list = pd.read_csv(data_path + 'forums/forum_ids.csv')\n",
    "forum_files = get_forum_files(data_path + forum_posts_path, 'csv')\n",
    "print 'FORUM LIST:', forum_list.shape[0], 'FORUM FILES', len(forum_files)"
   ]
  },
  {
   "cell_type": "markdown",
   "metadata": {},
   "source": [
    "#### REMOVE FORUMS THAT REQUIRE LOGINS (957, 1627)"
   ]
  },
  {
   "cell_type": "code",
   "execution_count": 25,
   "metadata": {},
   "outputs": [
    {
     "name": "stdout",
     "output_type": "stream",
     "text": [
      "FORUM LIST: 43 FORUM FILES: 41 SCRAPED IDS: 41\n"
     ]
    }
   ],
   "source": [
    "not_fid_957 = forum_list['fid'] != 957 # CONDITION A\n",
    "not_fid_1627 = forum_list['fid'] != 1627 # CONDITION B\n",
    "\n",
    "no_logins = forum_list[not_fid_957 & not_fid_1627] # NEW DF MINUS FID'S 957 & 1627\n",
    "scraped_ids = no_logins[['fid', 'name']] # NEW DF WITH FID AND NAME ONLY\n",
    "\n",
    "scraped_ids.to_csv(data_path + 'forums/scraped_ids.csv', index=False)\n",
    "\n",
    "print 'FORUM LIST:', forum_list.shape[0], 'FORUM FILES:', len(forum_files), 'SCRAPED IDS:', scraped_ids.shape[0]"
   ]
  },
  {
   "cell_type": "markdown",
   "metadata": {},
   "source": [
    "#### SANITY CHECK  \n",
    "Confirm lists are identical"
   ]
  },
  {
   "cell_type": "code",
   "execution_count": 26,
   "metadata": {},
   "outputs": [
    {
     "name": "stdout",
     "output_type": "stream",
     "text": [
      "SCRAPED FIDS: 41 FILE FIDS 41 LISTS IDENTICAL: True\n"
     ]
    }
   ],
   "source": [
    "data_path = '/l/nx/data/deepspace/prisontalk/data/'\n",
    "forum_posts_path = 'forums/parsed/posts/'\n",
    "\n",
    "scraped_forums = pd.read_csv(data_path + 'forums/scraped_ids.csv')\n",
    "forum_files = get_forum_files(data_path + forum_posts_path, 'csv')\n",
    "\n",
    "file_fids = get_forum_ids(forum_files) # ID's FROM PARSING THE FILES\n",
    "scraped_fids = list(scraped_forums['fid']) # ID'S FROM THE forum_list DATAFRAME\n",
    "\n",
    "is_identical = set(scraped_fids) == set(file_fids) #\n",
    "\n",
    "print 'SCRAPED FIDS:', len(scraped_fids), 'FILE FIDS', len(file_fids), 'LISTS IDENTICAL:', is_identical"
   ]
  }
 ],
 "metadata": {
  "kernelspec": {
   "display_name": "Python 2",
   "language": "python",
   "name": "python2"
  },
  "language_info": {
   "codemirror_mode": {
    "name": "ipython",
    "version": 2
   },
   "file_extension": ".py",
   "mimetype": "text/x-python",
   "name": "python",
   "nbconvert_exporter": "python",
   "pygments_lexer": "ipython2",
   "version": "2.7.13"
  }
 },
 "nbformat": 4,
 "nbformat_minor": 2
}
