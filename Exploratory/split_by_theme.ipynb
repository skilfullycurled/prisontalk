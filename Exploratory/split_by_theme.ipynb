{
 "cells": [
  {
   "cell_type": "code",
   "execution_count": 3,
   "metadata": {},
   "outputs": [],
   "source": [
    "import pandas as pd\n",
    "import os, sys\n",
    "import csv\n",
    "from pathlib2 import Path"
   ]
  },
  {
   "cell_type": "code",
   "execution_count": 8,
   "metadata": {},
   "outputs": [],
   "source": [
    "results_path = '~/prisontalk/data/results/'\n",
    "timestamped_forums = 'forums_timestamped.csv'\n",
    "\n",
    "theme_fids = {'general': [39], 'intro': [38], 'pre': [91],\n",
    "              'inside' : [72, 124, 1506, 126, 1035, 51, 92, 105],\n",
    "              'death_row' : [66, 375, 116, 114],\n",
    "              'post' : [52, 206, 372, 53, 208, 209, 207],\n",
    "              'parent_child' : [75, 1377, 1534, 65, 94],\n",
    "              'kin': [44, 110, 192, 240, 241],\n",
    "              'loving': [645, 211, 242, 180, 412],\n",
    "              'addiction': [202, 584, 583]}\n",
    "\n",
    "forums = pd.read_csv(results_path + timestamped_forums, index_col='date', parse_dates=True, infer_datetime_format=True)\n",
    "\n",
    "themes = []\n",
    "\n",
    "for category, fid_list in theme_fids.items():\n",
    "    \n",
    "    theme = forums[forums['fid'].isin(theme_fids[category])] # ISOLATE THEME USING LIST OF FID'S\n",
    "    theme['theme'] = category # BAD PRACTICE, SettingWithCopyWarning: \n",
    "    themes.append(theme)\n",
    "    \n",
    "    theme.to_csv(results_path + 'themes/' + category + '_forums.csv')\n",
    "    \n",
    "themed_forums = pd.concat(themes)\n",
    "themed_forums.to_csv(results_path + 'themed_forums.csv')\n",
    "\n",
    "print forums.shape[0], themed_forums.shape[0]"
   ]
  },
  {
   "cell_type": "markdown",
   "metadata": {},
   "source": [
    "### FUNCTIONS"
   ]
  },
  {
   "cell_type": "code",
   "execution_count": 3,
   "metadata": {},
   "outputs": [],
   "source": [
    "def get_forum_files(forum_path, suffix):\n",
    "    \n",
    "    forum_path = Path(forum_path)\n",
    "    all_files = [str(file) for file in forum_path.rglob('*.' + suffix)]\n",
    "    \n",
    "    return all_files"
   ]
  },
  {
   "cell_type": "code",
   "execution_count": 4,
   "metadata": {},
   "outputs": [],
   "source": [
    "def get_forum_id(forum_path):\n",
    "    \n",
    "    forum_id = forum_path.split('/')[-1].split('_')[1]\n",
    "\n",
    "    return forum_id\n",
    "\n",
    "# forum_path = '/l/nx/data/deepspace/prisontalk/data/fid_583_posts.csv'\n",
    "# fid = get_forum_id(forum_path)\n",
    "# fid"
   ]
  },
  {
   "cell_type": "code",
   "execution_count": 5,
   "metadata": {},
   "outputs": [],
   "source": [
    "def get_forum_ids(forum_paths):\n",
    "    \n",
    "    forum_ids = [int(get_forum_id(forum_path)) for forum_path in forum_paths]\n",
    "    \n",
    "    return forum_ids\n",
    "\n",
    "\n",
    "# data_path = '/l/nx/data/deepspace/prisontalk/data/'\n",
    "# forum_posts_path = 'forums/parsed/posts/'\n",
    "# forum_files = get_forum_files(data_path + forum_posts_path, 'csv')\n",
    "# file_fids = get_forum_ids(forum_files)\n",
    "# print len(file_fids)"
   ]
  },
  {
   "cell_type": "code",
   "execution_count": 6,
   "metadata": {},
   "outputs": [],
   "source": [
    "def create_fid_to_name_dict(df, key, value):\n",
    "    \n",
    "    keys = df[key]\n",
    "    values = df[value]\n",
    "    \n",
    "    return dict(zip(keys, values))\n",
    "\n",
    "# scraped_ids = pd.read_csv(data_path + 'forums/scraped_ids.csv')\n",
    "# fid_to_name = create_fid_to_name_dict(scraped_ids, 'fid', 'name')\n",
    "\n",
    "# for fid, name in fid_to_name.items()[:5]:\n",
    "#     print fid, name\n",
    "    \n",
    "# # 645 Met While Incarcerated\n",
    "# # 1035 Remembering Those That Passed While In Prison\n",
    "# # 412 When the Relationship is Over...\n",
    "# # 928 The Countdown\n",
    "# # 38 Introduce Yourself!"
   ]
  }
 ],
 "metadata": {
  "kernelspec": {
   "display_name": "Python 2",
   "language": "python",
   "name": "python2"
  },
  "language_info": {
   "codemirror_mode": {
    "name": "ipython",
    "version": 2
   },
   "file_extension": ".py",
   "mimetype": "text/x-python",
   "name": "python",
   "nbconvert_exporter": "python",
   "pygments_lexer": "ipython2",
   "version": "2.7.16"
  }
 },
 "nbformat": 4,
 "nbformat_minor": 2
}
