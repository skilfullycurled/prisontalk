{
 "cells": [
  {
   "cell_type": "markdown",
   "metadata": {},
   "source": [
    "## NOTES"
   ]
  },
  {
   "cell_type": "markdown",
   "metadata": {},
   "source": [
    "#### RESOURCES"
   ]
  },
  {
   "cell_type": "code",
   "execution_count": null,
   "metadata": {
    "collapsed": true
   },
   "outputs": [],
   "source": [
    "https://brennan.io/2016/03/02/logging-in-with-requests/\n",
    "https://kazuar.github.io/scraping-tutorial/"
   ]
  },
  {
   "cell_type": "code",
   "execution_count": 2,
   "metadata": {
    "collapsed": false
   },
   "outputs": [
    {
     "name": "stdout",
     "output_type": "stream",
     "text": [
      "'all done'\n"
     ]
    }
   ],
   "source": [
    "import json\n",
    "import pandas as pd\n",
    "import csv\n",
    "import datetime\n",
    "import collections\n",
    "import re\n",
    "\n",
    "from pprint import pprint\n",
    "\n",
    "from bs4 import BeautifulSoup, NavigableString, Tag\n",
    "import lxml.html\n",
    "import requests\n",
    "from string import capwords\n",
    "from titlecase import titlecase\n",
    "\n",
    "pprint('all done')"
   ]
  },
  {
   "cell_type": "markdown",
   "metadata": {},
   "source": [
    "#### COOKIES & LOGIN"
   ]
  },
  {
   "cell_type": "code",
   "execution_count": null,
   "metadata": {
    "collapsed": true
   },
   "outputs": [],
   "source": [
    "NOT NECCESSARY B/C WE ARE IMPORTING PREVIOUSLY SCRAPED RAW HTML\n",
    "However, see Prison Talk Scraper Login Notebook for process."
   ]
  },
  {
   "cell_type": "code",
   "execution_count": 3,
   "metadata": {
    "collapsed": false
   },
   "outputs": [],
   "source": [
    "html_page = open('examples/members_list.html', 'r').read()\n",
    "members_list_page = str(html_page)\n",
    "no_literals = members_list_page.replace('\\n', '').replace('\\t', '').replace('\\r', '')\n",
    "members_list = BeautifulSoup(no_literals, 'html.parser')"
   ]
  },
  {
   "cell_type": "markdown",
   "metadata": {},
   "source": [
    "#### REMOVE ALPHA LINKS, SEPPERATE HEADERS AND MEMBERS"
   ]
  },
  {
   "cell_type": "code",
   "execution_count": 218,
   "metadata": {
    "collapsed": false
   },
   "outputs": [
    {
     "name": "stdout",
     "output_type": "stream",
     "text": [
      "MEMBERS IN LIST: 100\n",
      "\n",
      "HEADERS: [u'user_name', u'join_date', u'posts', u'last_visit', u'role', u'profile_picture', u'birthday']\n"
     ]
    }
   ],
   "source": [
    "# remove rows[0] since it is the alpha links\n",
    "rows = members_list.select('table.tborder > tr[align=center]')[1:]\n",
    "\n",
    "# get headers (e.g. 'user_name', u'join_date', ..., u'birthday')\n",
    "headers = get_headers(rows[0])\n",
    "\n",
    "# remove header row\n",
    "members = rows[1:]\n",
    "\n",
    "print 'MEMBERS IN LIST:', len(members) # MEMBERS IN LIST: 100\n",
    "print ''\n",
    "print 'HEADERS:', headers # HEADERS: [u'user_name', u'join_date', u'posts', u'last_visit', u'birthday']"
   ]
  },
  {
   "cell_type": "markdown",
   "metadata": {},
   "source": [
    "#### EXTRACT HEADERS FROM FIRST ROW AND CONVERT TO UNDERSCORE CASE"
   ]
  },
  {
   "cell_type": "code",
   "execution_count": 325,
   "metadata": {
    "collapsed": false
   },
   "outputs": [],
   "source": [
    "def get_headers(header_els):\n",
    "    \n",
    "    # grab column headers (e.g. 'User Name', 'Home Page', ..., Birthday) from a bunch of <td><a>...blah...</a><td>\n",
    "    col_headers = [col_header.text.strip() for col_header in header_els.select('td')] \n",
    "    \n",
    "    # We only need...[u'User Name', u'Join Date', u'Posts', u'Last Visit', u'Birthday', 'Profile Picture']\n",
    "    # We have to add 'role' e.g. moderator, admin, site mod, etc.\n",
    "    col_headers = [u'member_id', col_headers[0]] + col_headers[3:6] + [u'role'] + col_headers[-2:]\n",
    "    \n",
    "    # Put them in the form [u'user_name', u'join_date', u'posts', u'last_visit', u'birthday']\n",
    "    headers = [col_header.replace(' ', '_').lower() for col_header in col_headers]\n",
    "    \n",
    "    return headers\n",
    "\n",
    "# [u'user_name', u'join_date', u'posts', u'last_visit', 'role', u'birthday', 'profile_picture']\n",
    "# headers = get_headers(rows[0])\n",
    "# headers"
   ]
  },
  {
   "cell_type": "markdown",
   "metadata": {},
   "source": [
    "#### CLEAN ROWS OF UNNECESSARY COLUMNS"
   ]
  },
  {
   "cell_type": "code",
   "execution_count": 326,
   "metadata": {
    "collapsed": true
   },
   "outputs": [],
   "source": [
    "# 0: MEMBER ID, ROLE\n",
    "# 1: HOME PAGE (no)\n",
    "# 2: FIND POSTS (no)\n",
    "# 3: JOIN DATE\n",
    "# 4: POSTS\n",
    "# 5: LAST VISIT\n",
    "# 6: AVATAR (no) <--- MAYBE CHANGE LATER\n",
    "# 7: PROFILE PIC\n",
    "# 8: BIRTHDAY"
   ]
  },
  {
   "cell_type": "code",
   "execution_count": 327,
   "metadata": {
    "collapsed": false
   },
   "outputs": [],
   "source": [
    "def clean_rows(rows):\n",
    "    \n",
    "    cleaned_rows = []\n",
    "    \n",
    "    for row in rows:\n",
    "        \n",
    "        cols = list(row.find_all('td'))\n",
    "\n",
    "        cleaned_row = [ cols[0] ] + cols[3:6] + cols[-2:] \n",
    "\n",
    "        cleaned_rows.append(cleaned_row)\n",
    "        \n",
    "    return cleaned_rows\n",
    "\n",
    "cleaned = clean_rows(members)\n",
    "len(cleaned)"
   ]
  },
  {
   "cell_type": "markdown",
   "metadata": {},
   "source": [
    "#### PARSE HTML ROWS FOR WRITING TO CSV"
   ]
  },
  {
   "cell_type": "code",
   "execution_count": 322,
   "metadata": {
    "collapsed": false
   },
   "outputs": [],
   "source": [
    "def parse_rows(rows):\n",
    "    \n",
    "    user_data = []\n",
    "    \n",
    "    for row in rows:\n",
    "        \n",
    "        row_data = {}\n",
    "        \n",
    "        row_data['member_id'] = get_member_id(row[0])        \n",
    "        row_data['user_name'] = get_username(row[0])\n",
    "        row_data['role'] = get_user_role(row[0])\n",
    "        row_data['join_date'] = get_join_date(row[1])\n",
    "        row_data['posts'] = get_num_posts(row[2])\n",
    "        row_data['last_visit'] = get_last_visit(row[3])\n",
    "        row_data['profile_pic'] = get_profile_pic(row[4])\n",
    "        row_data['birthday'] = get_birthdate(row[5])\n",
    "\n",
    "        user_data.append(row_data)\n",
    "            \n",
    "    return user_data\n",
    "\n",
    "# #[{'birthday': u'August 29, 1962','join_date': u'11-20-2003','last_visit': u'09-01-2014',\n",
    "# #  'member_id': u'11268','posts': u'38,207','profile_pic': 'N','role': u'red','user_name': u'Patty'},\n",
    "# # {'birthday': u'July 7, 1965','join_date': u'06-26-2003','last_visit': u'03-18-2017',\n",
    "# #  'member_id': u'14451','posts': u'36,365','profile_pic': 'Y','role': u'black','user_name': u'LeaAnn'}]\n",
    "# parse_rows(cleaned[:2])"
   ]
  },
  {
   "cell_type": "markdown",
   "metadata": {},
   "source": [
    "#### USER NAME"
   ]
  },
  {
   "cell_type": "code",
   "execution_count": 298,
   "metadata": {
    "collapsed": false
   },
   "outputs": [
    {
     "data": {
      "text/plain": [
       "u'Patty'"
      ]
     },
     "execution_count": 298,
     "metadata": {},
     "output_type": "execute_result"
    }
   ],
   "source": [
    "def get_username(el):\n",
    "\n",
    "#     <i>    Patty       </i>\n",
    "    username = el.a.text\n",
    "    \n",
    "    return username.strip()\n",
    "    \n",
    "# data = members[7].select('td') \n",
    "get_username(cleaned[0][0]) # u'Patty'"
   ]
  },
  {
   "cell_type": "markdown",
   "metadata": {},
   "source": [
    "#### USER ROLE (INFERRED FROM COLOR)"
   ]
  },
  {
   "cell_type": "code",
   "execution_count": 316,
   "metadata": {
    "collapsed": false
   },
   "outputs": [
    {
     "data": {
      "text/plain": [
       "(u'red', u'black')"
      ]
     },
     "execution_count": 316,
     "metadata": {},
     "output_type": "execute_result"
    }
   ],
   "source": [
    "# Administrator: red\n",
    "# PTO Super Moderator: blue\n",
    "# PTO Site Moderator: purple\n",
    "# PTO Moderator: darkgreen\n",
    "# Moderator On Leave: magenta\n",
    "# PTO Card Swap Host: MediumTurquoise\n",
    "# User: black\n",
    "\n",
    "def get_user_role(el):\n",
    "    \n",
    "    try:\n",
    "        # <font color=\"red\"><i>'   Patty    '</font>\n",
    "        user_role = el.a.font['color']\n",
    "    \n",
    "    # if user is simply 'registered' then it won't have <font> element\n",
    "    except TypeError as err:\n",
    "        \n",
    "        user_role = u'black'\n",
    "        \n",
    "    return user_role\n",
    "\n",
    "get_user_role(cleaned[0][0]), get_user_role(cleaned[1][0]) # (u'red', 'black')"
   ]
  },
  {
   "cell_type": "markdown",
   "metadata": {},
   "source": [
    "#### MEMEBER ID"
   ]
  },
  {
   "cell_type": "code",
   "execution_count": 313,
   "metadata": {
    "collapsed": false
   },
   "outputs": [
    {
     "data": {
      "text/plain": [
       "u'106823'"
      ]
     },
     "execution_count": 313,
     "metadata": {},
     "output_type": "execute_result"
    }
   ],
   "source": [
    "#there are other places to get this but it's nice to use each column\n",
    "\n",
    "def get_member_id(el):\n",
    "    \n",
    "    # 'u'member.php?u=91487''\n",
    "    href = el.find_all('a')[0]['href']\n",
    "    mid = href.split('=')[-1]\n",
    "\n",
    "    return mid\n",
    "\n",
    "get_member_id(cleaned[6][0]) # '91487'"
   ]
  },
  {
   "cell_type": "markdown",
   "metadata": {},
   "source": [
    "#### JOIN DATE"
   ]
  },
  {
   "cell_type": "code",
   "execution_count": 249,
   "metadata": {
    "collapsed": false
   },
   "outputs": [
    {
     "data": {
      "text/plain": [
       "u'11-20-2003'"
      ]
     },
     "execution_count": 249,
     "metadata": {},
     "output_type": "execute_result"
    }
   ],
   "source": [
    "def get_join_date(el):\n",
    "    \n",
    "    # u'    03-18-2007   '\n",
    "    join_date = el.text.strip()\n",
    "    \n",
    "    # Convert 'Today' into a M-D-Y\n",
    "    if join_date == 'Today':\n",
    "        \n",
    "        today = today = datetime.datetime.now()\n",
    "        \n",
    "        # everything else is in unicode so...\n",
    "        join_date = unicode(today.strftime(\"%m-%d-%Y\"))\n",
    "        \n",
    "    # Convert 'Yesterday' into a M-D-Y\n",
    "    elif join_date =='Yesterday':\n",
    "        \n",
    "            yesterday = datetime.datetime.now() - datetime.timedelta(days=1)\n",
    "            join_date = unicode(yesterday.strftime(\"%m-%d-%Y\"))\n",
    "    \n",
    "    return join_date\n",
    "\n",
    "# if not Today, u'11-20-2003' else today's date, or yesterday's\n",
    "get_join_date(cleaned[0][1]) "
   ]
  },
  {
   "cell_type": "markdown",
   "metadata": {},
   "source": [
    "#### NUM POSTS"
   ]
  },
  {
   "cell_type": "code",
   "execution_count": 250,
   "metadata": {
    "collapsed": false
   },
   "outputs": [
    {
     "data": {
      "text/plain": [
       "u'38,207'"
      ]
     },
     "execution_count": 250,
     "metadata": {},
     "output_type": "execute_result"
    }
   ],
   "source": [
    "def get_num_posts(el):\n",
    "    \n",
    "    num_posts = join_date = el.text.replace('\\n', '').strip()\n",
    "    \n",
    "    return num_posts\n",
    "\n",
    "get_num_posts(cleaned[0][2]) # u'38,207'"
   ]
  },
  {
   "cell_type": "markdown",
   "metadata": {},
   "source": [
    "#### LAST VISIT"
   ]
  },
  {
   "cell_type": "code",
   "execution_count": 299,
   "metadata": {
    "collapsed": false
   },
   "outputs": [
    {
     "data": {
      "text/plain": [
       "[u'03-18-2017', u'02-16-2018', u'02-15-2018', u'']"
      ]
     },
     "execution_count": 299,
     "metadata": {},
     "output_type": "execute_result"
    }
   ],
   "source": [
    "def get_last_visit(el):\n",
    "\n",
    "    # <td class=\"alt2\">    09-01-2014     </td>\n",
    "    last_visit = el.text.strip()\n",
    "\n",
    "    if last_visit == 'Today':\n",
    "\n",
    "        today = today = datetime.datetime.now()\n",
    "\n",
    "        # everything else is in unicode so...\n",
    "        last_visit = unicode(today.strftime(\"%m-%d-%Y\"))\n",
    "\n",
    "        # Convert 'Yesterday' into a M-D-Y\n",
    "    elif last_visit =='Yesterday':\n",
    "\n",
    "        yesterday = datetime.datetime.now() - datetime.timedelta(days=1)\n",
    "        last_visit = unicode(yesterday.strftime(\"%m-%d-%Y\"))\n",
    "\n",
    "    return last_visit\n",
    "\n",
    "\n",
    "reg = cleaned[1][3]\n",
    "today = BeautifulSoup('<td class=\"alt2\">    Today     </td>', 'html.parser')\n",
    "yesterday = BeautifulSoup('<td class=\"alt2\">    Yesterday     </td>', 'html.parser')\n",
    "na = BeautifulSoup('<td class=\"alt2\">         </td>', 'html.parser')\n",
    "\n",
    "examples = [reg, today, yesterday, na]\n",
    "\n",
    "# [u'09-01-2014', u'02-16-2018', u'02-15-2018', u'']\n",
    "[get_last_visit(example) for example in examples]"
   ]
  },
  {
   "cell_type": "markdown",
   "metadata": {},
   "source": [
    "#### PROFILE PICTURE"
   ]
  },
  {
   "cell_type": "code",
   "execution_count": 307,
   "metadata": {
    "collapsed": false
   },
   "outputs": [
    {
     "data": {
      "text/plain": [
       "['N', 'Y']"
      ]
     },
     "execution_count": 307,
     "metadata": {},
     "output_type": "execute_result"
    }
   ],
   "source": [
    "def get_profile_pic(el):\n",
    "    \n",
    "    # Just want to know if they have one, don't care what it is.\n",
    "    if el.img:\n",
    "        profile_pic = 'Y'\n",
    "    else:\n",
    "        profile_pic = 'N'\n",
    "        \n",
    "    return profile_pic\n",
    "    \n",
    "# n = cleaned[0][4] # ID: 11268 (Patty)\n",
    "# y = cleaned[1][4] # ID: 14451 (LeaAnn)\n",
    "\n",
    "# examples = [n, y]\n",
    "# [get_profile_pic(example) for example in examples] # ['N', 'Y']"
   ]
  },
  {
   "cell_type": "markdown",
   "metadata": {},
   "source": [
    "#### BIRTHDAY"
   ]
  },
  {
   "cell_type": "code",
   "execution_count": 314,
   "metadata": {
    "collapsed": false
   },
   "outputs": [
    {
     "data": {
      "text/plain": [
       "[u'August 29, 1962', u'', u'March 15']"
      ]
     },
     "execution_count": 314,
     "metadata": {},
     "output_type": "execute_result"
    }
   ],
   "source": [
    "def get_birthdate(el):\n",
    "    \n",
    "    birthdate = el.text.replace('\\n', '').strip()\n",
    "    \n",
    "    return birthdate\n",
    "\n",
    "# Assuming Bday is not today\n",
    "does = cleaned[0][5] # ID: 11268 (Patty) 'August 29, 1962'\n",
    "doesnt = cleaned[6][5] # ID: 106823 (sidewalker) u''\n",
    "part = cleaned[7][5] # ID: 1658 (Lysbeth) u'March 15'\n",
    "\n",
    "birthday_types = [does, doesnt, part]\n",
    "\n",
    "# [u'August 29, 1962', u'', u'March 15']\n",
    "[get_birthdate(birthday_type) for birthday_type in birthday_types]"
   ]
  },
  {
   "cell_type": "markdown",
   "metadata": {},
   "source": [
    "#### NO LONGER USING"
   ]
  },
  {
   "cell_type": "code",
   "execution_count": 386,
   "metadata": {
    "collapsed": false
   },
   "outputs": [
    {
     "data": {
      "text/plain": [
       "['Y', 'N']"
      ]
     },
     "execution_count": 386,
     "metadata": {},
     "output_type": "execute_result"
    }
   ],
   "source": [
    "# NOT USING: NEEDS REWRITE TO ADHERE TO NEW STANDARDS ABOVE\n",
    "def get_avatar(el):\n",
    "    \n",
    "    if el.img:\n",
    "        avatar = 'Y'\n",
    "    else:\n",
    "        avatar = 'N'\n",
    "        \n",
    "    return avatar\n",
    "\n",
    "# Just want to know if they use one\n",
    "# y = members[6].select('td')[6]\n",
    "# n = members[7].select('td')[6]\n",
    "\n",
    "# examples = [y, n]\n",
    "# [get_avatar(example) for example in examples] # ['Y', 'N']"
   ]
  },
  {
   "cell_type": "code",
   "execution_count": 1,
   "metadata": {
    "collapsed": false
   },
   "outputs": [],
   "source": [
    "# NOT USING: NEEDS REWRITE TO ADHERE TO NEW STANDARDS ABOVE\n",
    "def get_homepage(el):\n",
    "    \n",
    "    if(el.a):\n",
    "        homepage = el.a['href']\n",
    "    else:\n",
    "        return '' # will be filled later in pandas\n",
    "    \n",
    "    return homepage\n",
    "\n",
    "# get_hompage(data[1]) # '' or 'http://www.myspace.com/leaann65'"
   ]
  }
 ],
 "metadata": {
  "kernelspec": {
   "display_name": "Python 2",
   "language": "python",
   "name": "python2"
  },
  "language_info": {
   "codemirror_mode": {
    "name": "ipython",
    "version": 2
   },
   "file_extension": ".py",
   "mimetype": "text/x-python",
   "name": "python",
   "nbconvert_exporter": "python",
   "pygments_lexer": "ipython2",
   "version": "2.7.13"
  }
 },
 "nbformat": 4,
 "nbformat_minor": 0
}
