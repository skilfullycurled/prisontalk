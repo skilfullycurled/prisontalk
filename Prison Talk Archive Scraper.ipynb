{
 "cells": [
  {
   "cell_type": "code",
   "execution_count": 195,
   "metadata": {
    "collapsed": true
   },
   "outputs": [],
   "source": [
    "# PARSE THREAD AND POST INFORMATION\n",
    "# TWO OBJECTS\n",
    "# Thread\n",
    "#     Thread ID\n",
    "#     Thread Title\n",
    "#     Started\n",
    "#     Ended\n",
    "#     Number of Users\n",
    "#     Number of posts\n",
    "    \n",
    "# Post"
   ]
  },
  {
   "cell_type": "code",
   "execution_count": 1,
   "metadata": {
    "collapsed": false
   },
   "outputs": [
    {
     "name": "stdout",
     "output_type": "stream",
     "text": [
      "'all done'\n"
     ]
    }
   ],
   "source": [
    "import json\n",
    "import pandas as pd\n",
    "import csv\n",
    "import datetime\n",
    "import collections\n",
    "import re\n",
    "\n",
    "from pprint import pprint\n",
    "\n",
    "from bs4 import BeautifulSoup, NavigableString, Tag\n",
    "import requests\n",
    "from string import capwords\n",
    "from titlecase import titlecase\n",
    "\n",
    "pprint('all done')"
   ]
  },
  {
   "cell_type": "code",
   "execution_count": 2,
   "metadata": {
    "collapsed": false
   },
   "outputs": [],
   "source": [
    "domain = 'www.prisontalk.com'\n",
    "\n",
    "headers =   {\n",
    "                'Host': domain,\n",
    "                'User-Agent': 'Mozilla/5.0 (Macintosh; Intel Mac OS X 10.7; rv:44.0) Gecko/20100101 Firefox/44.0',\n",
    "                'Accept': 'text/html,application/xhtml+xml,application/xml;q=0.9,*/*;q=0.8',\n",
    "                'Accept-Language': 'en-US,en;q=0.5',\n",
    "                'Accept-Encoding': 'gzip, deflate',\n",
    "                'DNT': 1,\n",
    "                'Cookie': 'bblastvisit=1457846948; bblastactivity=0',\n",
    "                'Connection': 'keep-alive'\n",
    "            }"
   ]
  },
  {
   "cell_type": "code",
   "execution_count": 130,
   "metadata": {
    "collapsed": false
   },
   "outputs": [],
   "source": [
    "# TEST URLS\n",
    "single_page_url = 'http://www.prisontalk.com/forums/archive/index.php/t-681105.html'\n",
    "two_pages_url = 'http://www.prisontalk.com/forums/archive/index.php/t-15048.html'\n",
    "multi_page_url = 'http://www.prisontalk.com/forums/archive/index.php/f-613.html'\n",
    "new_york_url = 'http://www.prisontalk.com/forums/archive/index.php/f-613.html'"
   ]
  },
  {
   "cell_type": "code",
   "execution_count": 3,
   "metadata": {
    "collapsed": false
   },
   "outputs": [],
   "source": [
    "def get_thread_id(url):\n",
    "    return url.split('/')[-1].split('.')[0]\n",
    "\n",
    "# # TEST\n",
    "# thread_id = get_thread_id(single_page_url)\n",
    "# print thread_id #t-681105"
   ]
  },
  {
   "cell_type": "code",
   "execution_count": 4,
   "metadata": {
    "collapsed": true
   },
   "outputs": [],
   "source": [
    "def get_page_links(initial_url):\n",
    "    \n",
    "    page = get_page(initial_url, headers)\n",
    "    \n",
    "    links = page.select('#pagenumbers')\n",
    "    \n",
    "    if links:\n",
    "        \n",
    "        links = [link['href'] for link in links[0].select('a')]\n",
    "    \n",
    "    return [initial_url] + links\n",
    "\n",
    "# multi_page_links = get_page_links(multi_page_url)\n",
    "# single_page_links = get_page_links(single_page_url)\n",
    "\n",
    "# len(eight_page_links) == 8, len(single_page_links) == 1"
   ]
  },
  {
   "cell_type": "code",
   "execution_count": 5,
   "metadata": {
    "collapsed": false
   },
   "outputs": [],
   "source": [
    "def get_thread_links(page_links):\n",
    "        \n",
    "    thread_links = []\n",
    "    \n",
    "    for page_link in page_links:\n",
    "        \n",
    "        page = get_page(page_link, headers)\n",
    "        \n",
    "        thread_links += [link['href'] for link in page.select('#content a')]\n",
    "        \n",
    "    return thread_links\n",
    "\n",
    "# # page_of_threads = 'http://www.prisontalk.com/forums/archive/index.php/f-613.html'\n",
    "# thread_links = get_thread_links(mulit_page_links[:2])\n",
    "# print len(thread_links) #500\n",
    "# thread_links[-5:]"
   ]
  },
  {
   "cell_type": "code",
   "execution_count": 6,
   "metadata": {
    "collapsed": false
   },
   "outputs": [],
   "source": [
    "def parse_posts(posts, thread_id):\n",
    "    \n",
    "    thread_id = thread_id.split('-')[-1]\n",
    "    \n",
    "    return [create_post(post, thread_id, num) for post, num in zip(posts, range(len(posts)))]"
   ]
  },
  {
   "cell_type": "code",
   "execution_count": 7,
   "metadata": {
    "collapsed": false
   },
   "outputs": [],
   "source": [
    "def create_post(el, thread_id, num):\n",
    "    \n",
    "    post = collections.OrderedDict()\n",
    "    post['thread_id'] = thread_id\n",
    "    post['post_id'] = num + 1\n",
    "    post['datetime'] = el.select('.date')[0].text\n",
    "    post['user'] = el.select('.username')[0].text    \n",
    "    post['post_body'] = el.select('.posttext')[0].text\n",
    "    \n",
    "    return post"
   ]
  },
  {
   "cell_type": "code",
   "execution_count": 8,
   "metadata": {
    "collapsed": false
   },
   "outputs": [],
   "source": [
    "def get_page(url, headers):\n",
    "    \n",
    "    try:\n",
    "  \n",
    "        r = requests.get(url, headers=headers, cookies=None)\n",
    "\n",
    "#         print r.status_code, url\n",
    "\n",
    "        page = BeautifulSoup(r.content)\n",
    "\n",
    "        return page\n",
    "    \n",
    "    except:\n",
    "        \n",
    "        print r.status_code, url\n",
    "\n",
    "\n",
    "# FUTURE TEST NEED WEBSITE FOR TEST CONTENT\n",
    "# the_thing = get_index(a_url, so_headers)\n",
    "# len(some_expected_aspect)"
   ]
  }
 ],
 "metadata": {
  "kernelspec": {
   "display_name": "Python 2",
   "language": "python",
   "name": "python2"
  },
  "language_info": {
   "codemirror_mode": {
    "name": "ipython",
    "version": 2
   },
   "file_extension": ".py",
   "mimetype": "text/x-python",
   "name": "python",
   "nbconvert_exporter": "python",
   "pygments_lexer": "ipython2",
   "version": "2.7.13"
  }
 },
 "nbformat": 4,
 "nbformat_minor": 0
}
