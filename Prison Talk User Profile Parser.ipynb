{
 "cells": [
  {
   "cell_type": "markdown",
   "metadata": {},
   "source": [
    "## NOTES"
   ]
  },
  {
   "cell_type": "markdown",
   "metadata": {},
   "source": [
    "#### RESOURCES"
   ]
  },
  {
   "cell_type": "code",
   "execution_count": null,
   "metadata": {
    "collapsed": true
   },
   "outputs": [],
   "source": [
    "https://brennan.io/2016/03/02/logging-in-with-requests/\n",
    "https://kazuar.github.io/scraping-tutorial/"
   ]
  },
  {
   "cell_type": "code",
   "execution_count": 1,
   "metadata": {
    "collapsed": false
   },
   "outputs": [
    {
     "name": "stdout",
     "output_type": "stream",
     "text": [
      "'all done'\n"
     ]
    }
   ],
   "source": [
    "import json\n",
    "import pandas as pd\n",
    "import csv\n",
    "import datetime\n",
    "import collections\n",
    "import re\n",
    "\n",
    "from pprint import pprint\n",
    "\n",
    "from bs4 import BeautifulSoup, NavigableString, Tag\n",
    "import lxml.html\n",
    "import requests\n",
    "from string import capwords\n",
    "from titlecase import titlecase\n",
    "\n",
    "pprint('all done')"
   ]
  },
  {
   "cell_type": "code",
   "execution_count": null,
   "metadata": {
    "collapsed": true
   },
   "outputs": [],
   "source": [
    "# TODO's\n",
    "\n",
    "# 1. User type?  E.g. admin, moderator, etc."
   ]
  },
  {
   "cell_type": "markdown",
   "metadata": {},
   "source": [
    "#### COOKIES & LOGIN"
   ]
  },
  {
   "cell_type": "code",
   "execution_count": null,
   "metadata": {
    "collapsed": true
   },
   "outputs": [],
   "source": [
    "NOT NECCESSARY B/C WE ARE IMPORTING PREVIOUSLY SCRAPED RAW HTML\n",
    "However, see Prison Talk Scraper Login Notebook for process."
   ]
  },
  {
   "cell_type": "code",
   "execution_count": 90,
   "metadata": {
    "collapsed": false,
    "scrolled": true
   },
   "outputs": [],
   "source": [
    "has_friends = 'user_profile_has_friends'\n",
    "no_friends_tab = 'user_profile_no_friends_tab'\n",
    "friends_tab_no_friends = 'user_profile_friends_tab_no_friends' #\n",
    "\n",
    "\n",
    "html_page = open('examples/' + friends_tab_no_friends + '.html', 'r').read()\n",
    "profile = BeautifulSoup(html_page, 'lxml')"
   ]
  },
  {
   "cell_type": "markdown",
   "metadata": {},
   "source": [
    "#### CONTACT INFO TAB"
   ]
  },
  {
   "cell_type": "code",
   "execution_count": 91,
   "metadata": {
    "collapsed": false
   },
   "outputs": [
    {
     "data": {
      "text/plain": [
       "'451297'"
      ]
     },
     "execution_count": 91,
     "metadata": {},
     "output_type": "execute_result"
    }
   ],
   "source": [
    "#there are other places to get this but it's nice to use each column\n",
    "\n",
    "def get_member_id(el):\n",
    "    \n",
    "    mid_link = el[0].select('#additional_contact_details a')[0]['href']\n",
    "\n",
    "    mid = mid_link.split('=')[-1]\n",
    "\n",
    "    return mid\n",
    "\n",
    "member_id_el = profile.select('#contactinfo')\n",
    "get_member_id(member_id_el) # '321024'"
   ]
  },
  {
   "cell_type": "markdown",
   "metadata": {},
   "source": [
    "#### ABOUT ME TAB"
   ]
  },
  {
   "cell_type": "code",
   "execution_count": 93,
   "metadata": {
    "collapsed": false
   },
   "outputs": [],
   "source": [
    "def get_about_me(el):\n",
    "    \n",
    "    questions = about_me[0].find_all('dt')\n",
    "    answers = about_me[0].find_all('dd')\n",
    "\n",
    "    fragments = ['what', 'how', 'which', 'length', 'remaining', \\\n",
    "              'biography', 'location', 'interests', 'occupation']\n",
    "\n",
    "    q_and_a = collections.OrderedDict()\n",
    "\n",
    "    for question, answer in zip(questions, answers):\n",
    "\n",
    "        for fragment in fragments:\n",
    "\n",
    "            if fragment in question.text.lower():\n",
    "\n",
    "                q_and_a[fragment] = answer.text.lower()\n",
    "                \n",
    "    return q_and_a\n",
    "        \n",
    "    \n",
    "about_me = profile.select('#aboutme')\n",
    "get_about_me(about_me)"
   ]
  },
  {
   "cell_type": "code",
   "execution_count": 92,
   "metadata": {
    "collapsed": false
   },
   "outputs": [],
   "source": [
    "# for question, answer in get_about_me(about_me).iteritems():\n",
    "#     print question + ':', answer\n",
    "\n",
    "# what: significant other is a former inmate.\n",
    "# how: google.\n",
    "# which: dee is a former cdcr inmate.\n",
    "# length: about 5 years\n",
    "# remaining: time's up!\n",
    "# biography: our love ain't nothin' but a monster with two heads....\n",
    "# location: metro los angeles, ca, usa\n",
    "# interests: attending sporting events\n",
    "# occupation: small business owner"
   ]
  },
  {
   "cell_type": "markdown",
   "metadata": {},
   "source": [
    "#### STATISTICS TAB - LAST POST"
   ]
  },
  {
   "cell_type": "code",
   "execution_count": 104,
   "metadata": {
    "collapsed": false
   },
   "outputs": [
    {
     "data": {
      "text/plain": [
       "u'04-30-2012'"
      ]
     },
     "execution_count": 104,
     "metadata": {},
     "output_type": "execute_result"
    }
   ],
   "source": [
    "# POSSIBLE TO GET FROM ALL POSTS BUT IT'LL SAVE US ONE DATA MERGE\n",
    "\n",
    "today = 'last_post_today'\n",
    "yesterday = 'last_post_yesterday'\n",
    "date_mdy = 'last_post_date'\n",
    "\n",
    "last_post_page = open('examples/' + date_mdy + '.html', 'r').read()\n",
    "last_post = BeautifulSoup(last_post_page, 'lxml')\n",
    "\n",
    "def get_last_post(el):\n",
    "\n",
    "    last_post = stats_el[0].find_all('span', {'class':'shade'}, string='Last Post:')#[0].parent\n",
    "\n",
    "    if last_post:\n",
    "\n",
    "        date = last_post[0].parent.a.next_sibling.strip()\n",
    "\n",
    "        if date == 'Today':\n",
    "\n",
    "            today = datetime.datetime.now()\n",
    "            date = today.strftime(\"%m-%d-%Y\")\n",
    "            \n",
    "        elif date =='Yesterday':\n",
    "        \n",
    "            yesterday = datetime.datetime.now() - datetime.timedelta(days=1)\n",
    "            date = yesterday.strftime(\"%m-%d-%Y\")\n",
    "    \n",
    "    else:\n",
    "\n",
    "        date = ''\n",
    "        \n",
    "    return date\n",
    "\n",
    "stats_el = last_post.select('#stats')\n",
    "get_last_post(stats_el)"
   ]
  },
  {
   "cell_type": "markdown",
   "metadata": {},
   "source": [
    "#### STATISTICS TAB - GRATITUDE"
   ]
  },
  {
   "cell_type": "code",
   "execution_count": 79,
   "metadata": {
    "collapsed": false
   },
   "outputs": [
    {
     "data": {
      "text/plain": [
       "(u'3,122', u'4,246', u'1,755')"
      ]
     },
     "execution_count": 79,
     "metadata": {},
     "output_type": "execute_result"
    }
   ],
   "source": [
    "def get_gratitude(gratitude_el):\n",
    "    \n",
    "    total_text = gratitude_el[0].text + ' ' + gratitude_el[1].text\n",
    "    \n",
    "    # u'Total Thanks: 3,122 Thanked 4,246 Times in 1,755 Posts'\n",
    "    gratitude = total_text.replace('\\n', '').replace('\\t', '').replace('\\r', '')\n",
    "    \n",
    "    num_thanks = gratitude.split(' ')[2] # u'3,122' \n",
    "    num_thanked = gratitude.split(' ')[4] # u'4,246'\n",
    "    num_posts_thanked = gratitude.split(' ')[7] # u'1,755'\n",
    "\n",
    "    return num_thanks, num_thanked, num_posts_thanked\n",
    "\n",
    "stats_el = profile.select('#stats')\n",
    "gratitude = stats_el[0].select('.statistics_group')[1].select('li')[:2]\n",
    "get_gratitude(gratitude) #(u'3,122', u'4,246', u'1,755')"
   ]
  },
  {
   "cell_type": "markdown",
   "metadata": {},
   "source": [
    "#### FRIENDS TAB"
   ]
  },
  {
   "cell_type": "code",
   "execution_count": 183,
   "metadata": {
    "collapsed": false
   },
   "outputs": [],
   "source": [
    "# # send request for friends tab with count 100\n",
    "# # \"member.php?tab=friends&amp;u=16480&amp;pp=100&amp;page=1#friends\"\n",
    "# # get number of pages, then iterate through \n",
    "# # \"member.php?tab=friends&amp;u=16480&amp;pp=100&amp;page=NUM_PAGE#friends\"\n",
    "# # iterate through pages on usr\n",
    "\n",
    "has_friends = 'user_profile_has_friends'\n",
    "no_friends_tab = 'user_profile_no_friends_tab'\n",
    "friends_tab_no_friends = 'user_profile_friends_tab_no_friends' #\n",
    "multi_page_friends = 'multi_page_friends'\n",
    "multi_page_friends_pp100 = 'multi_page_friends_pp100'\n",
    "\n",
    "html_page = open('examples/' + multi_page_friends_pp100 + '.html', 'r').read()\n",
    "friends_page = BeautifulSoup(html_page, 'lxml')\n",
    "friends = friends_page.find_all(id='friends')\n",
    "\n",
    "def get_friends(el):\n",
    "    \n",
    "    user_friends = []\n",
    "    \n",
    "    if(el):\n",
    "        \n",
    "        print 'FRIENDS TAB EXISTS!'\n",
    "        \n",
    "        empty_tab = el[0].find_all(string=re.compile('empty'))\n",
    "        \n",
    "        if(empty_tab):\n",
    "            \n",
    "            # # SOME HAVE EMPTY FRIENDSHIP TAB\n",
    "            print 'HAS A TAB BUT HAS NO FRIENDS :('\n",
    "            \n",
    "        else:\n",
    "            \n",
    "            friends = el[0].find_all(id=re.compile('friend_mini'))\n",
    "            \n",
    "            print 'HERE ARE THE FRIENDS!'\n",
    "            \n",
    "            for friend in friends:\n",
    "\n",
    "                user_id = friend.a['href'].split('=')[-1]\n",
    "                user_name = friend.a.img['alt']\n",
    "                \n",
    "                user_friends.append({'user_id': user_id, 'user_name': user_name})\n",
    "    else:\n",
    "        # # NOT EVERYONE HAS A FRIENDSHIP TAB\n",
    "        print 'NO TAB NO FRIENDS :('\n",
    "        \n",
    "        \n",
    "    return user_friends\n",
    "        \n",
    "# [{'user_id': '347403', 'user_name': 'blah8705'}, ... {'user_id': '162585', 'user_name': 'Cactus'}]\n",
    "get_friends(friends)"
   ]
  },
  {
   "cell_type": "code",
   "execution_count": 390,
   "metadata": {
    "collapsed": false
   },
   "outputs": [
    {
     "data": {
      "text/plain": [
       "[u'June 7, 1972', u'', u'March 15']"
      ]
     },
     "execution_count": 390,
     "metadata": {},
     "output_type": "execute_result"
    }
   ],
   "source": [
    "def get_birthdate(el):\n",
    "    \n",
    "    birthdate = el.text.replace('\\n', '').strip()\n",
    "    \n",
    "    return birthdate\n",
    "\n",
    "# # Assuming Bday is not today\n",
    "# does = members[6].select('td')[8]\n",
    "# doesnt = members[7].select('td')[8]\n",
    "# part = members[8].select('td')[8]\n",
    "\n",
    "# examples = [does, doesnt, part]\n",
    "# [get_birthdate(example) for example in examples] # [u'June 7, 1972', u'', u'March 15']"
   ]
  },
  {
   "cell_type": "code",
   "execution_count": 387,
   "metadata": {
    "collapsed": true
   },
   "outputs": [],
   "source": [
    "def get_profile_pic(el):\n",
    "    \n",
    "    if el.img:\n",
    "        profile_pic = 'Y'\n",
    "    else:\n",
    "        profile_pic = 'N'\n",
    "        \n",
    "    return profile_pic\n",
    "    \n",
    "# Just want to know if they use one\n",
    "# y = members[6].select('td')[7]\n",
    "# n = members[7].select('td')[7]\n",
    "\n",
    "# examples = [y, n]\n",
    "# [get_profile_pic(example) for example in examples] # ['Y', 'N']"
   ]
  },
  {
   "cell_type": "code",
   "execution_count": 386,
   "metadata": {
    "collapsed": false
   },
   "outputs": [
    {
     "data": {
      "text/plain": [
       "['Y', 'N']"
      ]
     },
     "execution_count": 386,
     "metadata": {},
     "output_type": "execute_result"
    }
   ],
   "source": [
    "def get_avatar(el):\n",
    "    \n",
    "    if el.img:\n",
    "        avatar = 'Y'\n",
    "    else:\n",
    "        avatar = 'N'\n",
    "        \n",
    "    return avatar\n",
    "\n",
    "# Just want to know if they use one\n",
    "# y = members[6].select('td')[6]\n",
    "# n = members[7].select('td')[6]\n",
    "\n",
    "# examples = [y, n]\n",
    "# [get_avatar(example) for example in examples] # ['Y', 'N']"
   ]
  },
  {
   "cell_type": "code",
   "execution_count": 384,
   "metadata": {
    "collapsed": false
   },
   "outputs": [
    {
     "data": {
      "text/plain": [
       "[u'07-14-2007', u'N/A', u'03-25-2017']"
      ]
     },
     "execution_count": 384,
     "metadata": {},
     "output_type": "execute_result"
    }
   ],
   "source": [
    "def get_last_visit(el):\n",
    "\n",
    "    last_visit = el.text.replace('\\n', '').strip()\n",
    "    \n",
    "    if(last_visit == 'Today'):\n",
    "        # everything else is in unicode so...\n",
    "        last_visit = unicode(datetime.date.today().strftime(\"%m-%d-%Y\"))\n",
    "    \n",
    "    return last_visit\n",
    "\n",
    "# reg = members[5].select('td')[5]\n",
    "# na = members[6].select('td')[5]\n",
    "# today = members[7].select('td')[5]\n",
    "\n",
    "# examples = [reg, na, today]\n",
    "# [get_last_visit(example) for example in examples] # [u'07-14-2007', u'N/A', u'03-25-2017']"
   ]
  },
  {
   "cell_type": "code",
   "execution_count": 376,
   "metadata": {
    "collapsed": false
   },
   "outputs": [
    {
     "data": {
      "text/plain": [
       "u'27,721'"
      ]
     },
     "execution_count": 376,
     "metadata": {},
     "output_type": "execute_result"
    }
   ],
   "source": [
    "def get_num_posts(el):\n",
    "    \n",
    "    num_posts = join_date = el.text.replace('\\n', '').strip()\n",
    "    \n",
    "    return num_posts\n",
    "\n",
    "# data = members[7].select('td')\n",
    "# get_num_posts(data[4]) # u'27,721'"
   ]
  },
  {
   "cell_type": "code",
   "execution_count": 377,
   "metadata": {
    "collapsed": false
   },
   "outputs": [
    {
     "data": {
      "text/plain": [
       "u'03-18-2007'"
      ]
     },
     "execution_count": 377,
     "metadata": {},
     "output_type": "execute_result"
    }
   ],
   "source": [
    "def get_join_date(el):\n",
    "    \n",
    "    # u'\\n                03-18-2007\\n               '\n",
    "    join_date = el.text.replace('\\n', '').strip()\n",
    "    \n",
    "#     join_date = 'Today' #for testing\n",
    "    if(join_date == 'Today'):\n",
    "        # everything else is in unicode so...\n",
    "        join_date = unicode(datetime.date.today().strftime(\"%m-%d-%Y\"))\n",
    "    \n",
    "    return join_date\n",
    "    \n",
    "# data = members[7].select('td')\n",
    "# get_join_date(data[3]) # if not Today, u'03-18-2007' else u'03-25-2017' (today)"
   ]
  },
  {
   "cell_type": "code",
   "execution_count": 332,
   "metadata": {
    "collapsed": false
   },
   "outputs": [
    {
     "data": {
      "text/plain": [
       "'http://www.myspace.com/leaann65'"
      ]
     },
     "execution_count": 332,
     "metadata": {},
     "output_type": "execute_result"
    }
   ],
   "source": [
    "def get_hompage(el):\n",
    "    \n",
    "    if(el.a):\n",
    "        homepage = el.a['href']\n",
    "    else:\n",
    "        return '' # will be filled later in pandas\n",
    "    \n",
    "    return homepage\n",
    "\n",
    "# get_hompage(data[1]) # '' or 'http://www.myspace.com/leaann65'"
   ]
  },
  {
   "cell_type": "code",
   "execution_count": 337,
   "metadata": {
    "collapsed": false,
    "scrolled": true
   },
   "outputs": [
    {
     "data": {
      "text/plain": [
       "u'sidewalker'"
      ]
     },
     "execution_count": 337,
     "metadata": {},
     "output_type": "execute_result"
    }
   ],
   "source": [
    "def get_username(el):\n",
    "\n",
    "    #u'\\n                   patchouli\\n                  '\n",
    "    username = el.a.text.replace('\\n', '').strip() \n",
    "    \n",
    "    return username\n",
    "    \n",
    "# data = members[7].select('td') \n",
    "# get_username(data[0]) #u'sidewalker'"
   ]
  }
 ],
 "metadata": {
  "kernelspec": {
   "display_name": "Python 2",
   "language": "python",
   "name": "python2"
  },
  "language_info": {
   "codemirror_mode": {
    "name": "ipython",
    "version": 2
   },
   "file_extension": ".py",
   "mimetype": "text/x-python",
   "name": "python",
   "nbconvert_exporter": "python",
   "pygments_lexer": "ipython2",
   "version": "2.7.13"
  }
 },
 "nbformat": 4,
 "nbformat_minor": 0
}
